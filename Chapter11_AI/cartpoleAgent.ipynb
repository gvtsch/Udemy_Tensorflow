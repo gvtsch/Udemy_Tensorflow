{
 "cells": [
  {
   "cell_type": "code",
   "execution_count": 1,
   "metadata": {},
   "outputs": [],
   "source": [
    "import gym\n",
    "import numpy as np\n",
    "from tensorflow.keras.layers import Activation, Dense\n",
    "from tensorflow.keras.models import Sequential\n",
    "from tensorflow.keras.utils import to_categorical"
   ]
  },
  {
   "cell_type": "code",
   "execution_count": 2,
   "metadata": {},
   "outputs": [],
   "source": [
    "class Agent:\n",
    "    def __init__(self, env):\n",
    "        self.env = env\n",
    "        self.num_observations = self.env.observation_space.shape[0]\n",
    "        self.num_actions = self.env.action_space.n\n",
    "        self.model = self.build_model\n",
    "\n",
    "    def build_model(self):\n",
    "        model=Sequential()\n",
    "        model.add(Dense(units=100, input_dim=self.num_observations))\n",
    "        model.add(Activation(\"relu\"))\n",
    "        model.add(Dense(units=self.num_actions))\n",
    "        model.add(Activation(\"softmax\"))\n",
    "        model.summary()\n",
    "        model.compile(\n",
    "            loss=\"categorical_crossentropy\",\n",
    "            opt=\"Adam\",\n",
    "            metrics=[\"accuracy\"]\n",
    "        )\n",
    "        return model\n",
    "\n",
    "    def get_action(self, state):\n",
    "        pass\n",
    "\n",
    "    def get_sample(self, num_episodes):\n",
    "        pass\n",
    "\n",
    "    def filter_episodes(self, rewards, episodes, percentile):\n",
    "        pass\n",
    "\n",
    "    def train(self, percentile, num_iterations, num_episodes):\n",
    "        pass\n",
    "\n",
    "    def play(self, num_episodes, render=True):\n",
    "        pass"
   ]
  },
  {
   "cell_type": "code",
   "execution_count": 3,
   "metadata": {},
   "outputs": [],
   "source": [
    "# Main\n",
    "env = gym.make(\"CartPole-v1\")\n",
    "agent = Agent(env)\n",
    "# agent.train()\n",
    "# agent.play()"
   ]
  }
 ],
 "metadata": {
  "interpreter": {
   "hash": "683035455952fa0c5c07396da2eac07ae1d76897e4164c7dcbe8556e60afc848"
  },
  "kernelspec": {
   "display_name": "Python 3.9.7 ('udemy_tensorflow')",
   "language": "python",
   "name": "python3"
  },
  "language_info": {
   "codemirror_mode": {
    "name": "ipython",
    "version": 3
   },
   "file_extension": ".py",
   "mimetype": "text/x-python",
   "name": "python",
   "nbconvert_exporter": "python",
   "pygments_lexer": "ipython3",
   "version": "3.9.12"
  },
  "orig_nbformat": 4
 },
 "nbformat": 4,
 "nbformat_minor": 2
}
