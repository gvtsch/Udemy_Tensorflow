{
 "cells": [
  {
   "cell_type": "code",
   "execution_count": 28,
   "metadata": {},
   "outputs": [],
   "source": [
    "import numpy as np\n",
    "from typing import Tuple\n",
    "from tensorflow.keras.datasets import boston_housing\n",
    "from tensorflow.keras.initializers import Constant\n",
    "from tensorflow.keras.initializers import RandomUniform\n",
    "from tensorflow.keras.layers import Activation\n",
    "from tensorflow.keras.layers import Dense\n",
    "from tensorflow.keras.models import Sequential"
   ]
  },
  {
   "cell_type": "code",
   "execution_count": 29,
   "metadata": {},
   "outputs": [],
   "source": [
    "def get_dataset() -> Tuple[Tuple[np.ndarray, np.ndarray], Tuple[np.ndarray, np.ndarray]]:\n",
    "    (x_train, y_train), (x_test, y_test) = boston_housing.load_data()\n",
    "    x_train = x_train.astype(np.float32)\n",
    "    y_train = y_train.reshape((-1, 1)).astype(np.float32)\n",
    "    x_test = x_test.astype(np.float32)\n",
    "    y_test = y_test.reshape((-1, 1)).astype(np.float32)\n",
    "\n",
    "    return (x_train, y_train), (x_test, y_test)"
   ]
  },
  {
   "cell_type": "code",
   "execution_count": 30,
   "metadata": {},
   "outputs": [],
   "source": [
    "def build_model(num_features: int, num_targets: int) -> Sequential:\n",
    "    init_w = RandomUniform(minval=-1.0, maxval=1.0)\n",
    "    init_b = Constant(value=0.0)\n",
    "\n",
    "    model = Sequential()\n",
    "    model.add(Dense(units=16, kernel_initializer=init_w, bias_initializer=init_b, input_shape=(num_features,))) \n",
    "        # Kernel waere die W-, bias die b-Matrix (Weights und Bias)\n",
    "        # Müssen nicht angegeben werden, weil per Default praktische Zufallswerte gewählt werden\n",
    "    model.add(Activation('relu'))\n",
    "    model.add(Dense(units=num_targets))\n",
    "    model.summary()\n",
    "    return model"
   ]
  },
  {
   "cell_type": "code",
   "execution_count": 31,
   "metadata": {},
   "outputs": [],
   "source": [
    "def main() -> None:\n",
    "    (x_train, y_train), (x_test, y_test) = get_dataset()\n",
    "\n",
    "    print(f'x train shape: {x_train.shape}')\n",
    "    print(f'y train shape: {y_train.shape}')\n",
    "    print(f'x test shape: {x_test.shape}')\n",
    "    print(f'y test shape: {y_test.shape}')\n",
    "    \n",
    "    num_features = 13\n",
    "    num_targets = 1\n",
    "\n",
    "    model = build_model(num_features, num_targets)"
   ]
  },
  {
   "cell_type": "code",
   "execution_count": 32,
   "metadata": {},
   "outputs": [
    {
     "name": "stdout",
     "output_type": "stream",
     "text": [
      "x train shape: (404, 13)\n",
      "y train shape: (404, 1)\n",
      "x test shape: (102, 13)\n",
      "y test shape: (102, 1)\n",
      "Model: \"sequential_1\"\n",
      "_________________________________________________________________\n",
      " Layer (type)                Output Shape              Param #   \n",
      "=================================================================\n",
      " dense_2 (Dense)             (None, 16)                224       \n",
      "                                                                 \n",
      " activation_1 (Activation)   (None, 16)                0         \n",
      "                                                                 \n",
      " dense_3 (Dense)             (None, 1)                 17        \n",
      "                                                                 \n",
      "=================================================================\n",
      "Total params: 241\n",
      "Trainable params: 241\n",
      "Non-trainable params: 0\n",
      "_________________________________________________________________\n"
     ]
    }
   ],
   "source": [
    "if __name__=='__main__':\n",
    "    main()"
   ]
  }
 ],
 "metadata": {
  "interpreter": {
   "hash": "683035455952fa0c5c07396da2eac07ae1d76897e4164c7dcbe8556e60afc848"
  },
  "kernelspec": {
   "display_name": "Python 3.9.7 ('udemy_tensorflow')",
   "language": "python",
   "name": "python3"
  },
  "language_info": {
   "codemirror_mode": {
    "name": "ipython",
    "version": 3
   },
   "file_extension": ".py",
   "mimetype": "text/x-python",
   "name": "python",
   "nbconvert_exporter": "python",
   "pygments_lexer": "ipython3",
   "version": "3.9.7"
  },
  "orig_nbformat": 4
 },
 "nbformat": 4,
 "nbformat_minor": 2
}
