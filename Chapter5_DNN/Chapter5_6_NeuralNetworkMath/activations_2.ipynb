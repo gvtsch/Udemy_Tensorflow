{
 "cells": [
  {
   "cell_type": "code",
   "execution_count": null,
   "metadata": {},
   "outputs": [],
   "source": [
    "from typing import Tuple\n",
    "\n",
    "import matplotlib.pyplot as plt\n",
    "import numpy as np\n",
    "from tensorflow.keras.layers import Activation\n",
    "from tensorflow.keras.layers import Dense\n",
    "from tensorflow.keras.models import Sequential\n",
    "from tensorflow.keras.optimizers import Adam"
   ]
  },
  {
   "cell_type": "code",
   "execution_count": null,
   "metadata": {},
   "outputs": [],
   "source": [
    "def f(x: float) -> float:\n",
    "    return x ** 2 + x + 10"
   ]
  },
  {
   "cell_type": "code",
   "execution_count": null,
   "metadata": {},
   "outputs": [],
   "source": [
    "def relu(x: float) -> float:\n",
    "    if x > 0:\n",
    "        return x\n",
    "    else:\n",
    "        return 0"
   ]
  },
  {
   "cell_type": "code",
   "execution_count": null,
   "metadata": {},
   "outputs": [],
   "source": [
    "def get_dataset() -> Tuple[np.ndarray, np.ndarray]:\n",
    "    x = np.linspace(start=-10.0, stop=10.0, num=1000).reshape(-1, 1)\n",
    "    y = f(x)\n",
    "    return x, y"
   ]
  },
  {
   "cell_type": "code",
   "execution_count": null,
   "metadata": {},
   "outputs": [],
   "source": [
    "def build_model() -> Sequential:\n",
    "    model = Sequential()\n",
    "    model.add(Dense(12))  # Input zu Hidden\n",
    "    model.add(Activation(\"relu\"))  # ReLU vom Hidden\n",
    "    model.add(Dense(1))  # Vom Hidden zum Output\n",
    "    return model"
   ]
  },
  {
   "cell_type": "code",
   "execution_count": null,
   "metadata": {},
   "outputs": [],
   "source": [
    "x, y = get_dataset()\n",
    "\n",
    "model = build_model()\n",
    "\n",
    "model.compile(\n",
    "    optimizer=Adam(learning_rate=5e-2),\n",
    "    loss=\"mse\"\n",
    ")\n",
    "model.fit(x, y, epochs=20)\n",
    "\n",
    "W, b = model.layers[0].get_weights()\n",
    "W2, b2 = model.layers[2].get_weights()\n",
    "W = W.flatten()\n",
    "W2 = W2.flatten()\n",
    "b = b.flatten()\n",
    "b2 = b2.flatten()\n",
    "print(W.shape, b.shape)\n",
    "print(W2.shape, b2.shape)\n",
    "\n",
    "# [1, 2, ...., 12]\n",
    "for i in range(1, len(W) + 1):\n",
    "    y_hidden = np.array([W[:i] * xi + b[:i] for xi in x])\n",
    "    y_relu = np.array([[relu(yhi) for yhi in yh] for yh in y_hidden])\n",
    "    y_output = np.array([np.dot(W2[:i], yri) + b2 for yri in y_relu])\n",
    "\n",
    "    fig, (ax1, ax2) = plt.subplots(ncols=2, figsize=(16, 8))\n",
    "    plt.title(\"Num weights: \" + str(i))\n",
    "    plt.grid(True)\n",
    "    ax1.plot(x, y, color=\"blue\")\n",
    "    ax1.plot(x.flatten(), y_output.flatten(), color=\"red\")\n",
    "    ax2.plot(x, y_relu.T[-1])\n",
    "    plt.show()\n",
    "    plt.close()"
   ]
  }
 ],
 "metadata": {
  "interpreter": {
   "hash": "683035455952fa0c5c07396da2eac07ae1d76897e4164c7dcbe8556e60afc848"
  },
  "kernelspec": {
   "display_name": "Python 3.9.7 ('udemy_tensorflow')",
   "language": "python",
   "name": "python3"
  },
  "language_info": {
   "name": "python",
   "version": "3.9.7"
  },
  "orig_nbformat": 4
 },
 "nbformat": 4,
 "nbformat_minor": 2
}
