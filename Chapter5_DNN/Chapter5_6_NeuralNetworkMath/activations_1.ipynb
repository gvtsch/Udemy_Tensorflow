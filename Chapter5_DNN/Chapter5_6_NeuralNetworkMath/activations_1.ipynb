{
 "cells": [
  {
   "cell_type": "code",
   "execution_count": null,
   "metadata": {},
   "outputs": [],
   "source": [
    "import matplotlib.pyplot as plt\n",
    "import numpy as np"
   ]
  },
  {
   "cell_type": "code",
   "execution_count": null,
   "metadata": {},
   "outputs": [],
   "source": [
    "def relu(x: float) -> float:\n",
    "    if x > 0:\n",
    "        return x\n",
    "    else:\n",
    "        return 0"
   ]
  },
  {
   "cell_type": "code",
   "execution_count": null,
   "metadata": {},
   "outputs": [],
   "source": [
    "def sigmoid(x: float) -> float:\n",
    "    return 1 / (1 + np.exp(-x))"
   ]
  },
  {
   "cell_type": "code",
   "execution_count": null,
   "metadata": {},
   "outputs": [],
   "source": [
    "# y = ReLU(wx + b)\n",
    "# y = sigmoid(wx + b)\n",
    "# shift = -b/w\n",
    "w = 1\n",
    "b = -4\n",
    "# shift = 2\n",
    "act_fn = sigmoid\n",
    "\n",
    "x = np.linspace(start=-10, stop=10, num=5000)\n",
    "y_act = np.array([act_fn(xi * w + b) for xi in x])\n",
    "y = np.array([act_fn(xi * 1 + 0) for xi in x])\n",
    "\n",
    "plt.figure(figsize=(8, 5))\n",
    "plt.grid(True)\n",
    "plt.plot(x, y, color=\"blue\")\n",
    "plt.plot(x, y_act, color=\"red\")\n",
    "plt.show()"
   ]
  },
  {
   "cell_type": "code",
   "execution_count": null,
   "metadata": {},
   "outputs": [],
   "source": [
    "# y = ReLU(wx + b)\n",
    "# y = sigmoid(wx + b)\n",
    "# shift = -b/w\n",
    "w = 1\n",
    "b = -4\n",
    "# shift = 2\n",
    "act_fn = relu\n",
    "\n",
    "x = np.linspace(start=-10, stop=10, num=5000)\n",
    "y_act = np.array([act_fn(xi * w + b) for xi in x])\n",
    "y = np.array([act_fn(xi * 1 + 0) for xi in x])\n",
    "\n",
    "plt.figure(figsize=(8, 5))\n",
    "plt.grid(True)\n",
    "plt.plot(x, y, color=\"blue\")\n",
    "plt.plot(x, y_act, color=\"red\")\n",
    "plt.show()"
   ]
  }
 ],
 "metadata": {
  "interpreter": {
   "hash": "683035455952fa0c5c07396da2eac07ae1d76897e4164c7dcbe8556e60afc848"
  },
  "kernelspec": {
   "display_name": "Python 3.9.7 ('udemy_tensorflow')",
   "language": "python",
   "name": "python3"
  },
  "language_info": {
   "codemirror_mode": {
    "name": "ipython",
    "version": 3
   },
   "file_extension": ".py",
   "mimetype": "text/x-python",
   "name": "python",
   "nbconvert_exporter": "python",
   "pygments_lexer": "ipython3",
   "version": "3.9.12"
  },
  "orig_nbformat": 4
 },
 "nbformat": 4,
 "nbformat_minor": 2
}
