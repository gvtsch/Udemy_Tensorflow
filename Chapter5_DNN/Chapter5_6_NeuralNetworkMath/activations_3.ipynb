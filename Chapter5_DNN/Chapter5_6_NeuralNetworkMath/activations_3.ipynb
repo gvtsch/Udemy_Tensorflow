{
 "cells": [
  {
   "cell_type": "code",
   "execution_count": null,
   "metadata": {},
   "outputs": [],
   "source": [
    "from typing import Tuple\n",
    "\n",
    "import matplotlib.pyplot as plt\n",
    "import numpy as np\n",
    "from tensorflow.keras.layers import Activation\n",
    "from tensorflow.keras.layers import Dense\n",
    "from tensorflow.keras.models import Sequential\n",
    "from tensorflow.keras.optimizers import Adam"
   ]
  },
  {
   "cell_type": "code",
   "execution_count": null,
   "metadata": {},
   "outputs": [],
   "source": [
    "def f(x: float) -> float:\n",
    "    return x ** 2 + x + 10"
   ]
  },
  {
   "cell_type": "code",
   "execution_count": null,
   "metadata": {},
   "outputs": [],
   "source": [
    "def relu(x: float) -> float:\n",
    "    if x > 0:\n",
    "        return x\n",
    "    else:\n",
    "        return 0"
   ]
  },
  {
   "cell_type": "code",
   "execution_count": null,
   "metadata": {},
   "outputs": [],
   "source": [
    "def get_dataset() -> Tuple[np.ndarray, np.ndarray]:\n",
    "    x = np.linspace(start=-10.0, stop=10.0, num=1000).reshape(-1, 1)\n",
    "    y = f(x)\n",
    "    return x, y"
   ]
  },
  {
   "cell_type": "code",
   "execution_count": null,
   "metadata": {},
   "outputs": [],
   "source": [
    "def build_model1() -> Sequential:\n",
    "    model = Sequential()\n",
    "    model.add(Dense(200))  # Input zu Hidden\n",
    "    model.add(Dense(200))  # Input zu Hidden\n",
    "    model.add(Dense(1))  # Vom Hidden zum Output\n",
    "    return model"
   ]
  },
  {
   "cell_type": "code",
   "execution_count": null,
   "metadata": {},
   "outputs": [],
   "source": [
    "def build_model2() -> Sequential:\n",
    "    model = Sequential()\n",
    "    model.add(Dense(500))  # Input zu Hidden\n",
    "    model.add(Activation(\"relu\"))  # ReLU vom Hidden\n",
    "    model.add(Dense(500))  # Input zu Hidden\n",
    "    model.add(Activation(\"relu\"))  # ReLU vom Hidden\n",
    "    model.add(Dense(1))  # Vom Hidden zum Output\n",
    "    return model\n"
   ]
  },
  {
   "cell_type": "code",
   "execution_count": null,
   "metadata": {},
   "outputs": [],
   "source": [
    "def build_model3() -> Sequential:\n",
    "    model = Sequential()\n",
    "    model.add(Dense(500))  # Input zu Hidden\n",
    "    model.add(Activation(\"sigmoid\"))  # ReLU vom Hidden\n",
    "    model.add(Dense(500))  # Input zu Hidden\n",
    "    model.add(Activation(\"sigmoid\"))  # ReLU vom Hidden\n",
    "    model.add(Dense(1))  # Vom Hidden zum Output\n",
    "    return model"
   ]
  },
  {
   "cell_type": "code",
   "execution_count": null,
   "metadata": {},
   "outputs": [],
   "source": [
    "x, y = get_dataset()\n",
    "\n",
    "model1 = build_model1()\n",
    "model1.compile(\n",
    "    optimizer=Adam(learning_rate=1e-2),\n",
    "    loss=\"mse\"\n",
    ")\n",
    "model1.fit(x, y, epochs=30)\n",
    "y_pred_linear = model1.predict(x)\n",
    "\n",
    "model2 = build_model2()\n",
    "model2.compile(\n",
    "    optimizer=Adam(learning_rate=1e-2),\n",
    "    loss=\"mse\"\n",
    ")\n",
    "model2.fit(x, y, epochs=30)\n",
    "y_pred_relu = model2.predict(x)\n",
    "\n",
    "model3 = build_model3()\n",
    "model3.compile(\n",
    "    optimizer=Adam(learning_rate=1e-2),\n",
    "    loss=\"mse\"\n",
    ")\n",
    "model3.fit(x, y, epochs=30)\n",
    "y_pred_sigmoid = model3.predict(x)\n",
    "\n",
    "fig, (ax1, ax2, ax3) = plt.subplots(ncols=3, figsize=(24, 12))\n",
    "plt.grid(True)\n",
    "ax1.plot(x, y, color=\"blue\")\n",
    "ax1.plot(x.flatten(), y_pred_linear.flatten(), color=\"red\")\n",
    "ax2.plot(x, y, color=\"blue\")\n",
    "ax2.plot(x.flatten(), y_pred_sigmoid.flatten(), color=\"red\")\n",
    "ax3.plot(x, y, color=\"blue\")\n",
    "ax3.plot(x.flatten(), y_pred_relu.flatten(), color=\"red\")\n",
    "plt.show()"
   ]
  }
 ],
 "metadata": {
  "interpreter": {
   "hash": "683035455952fa0c5c07396da2eac07ae1d76897e4164c7dcbe8556e60afc848"
  },
  "kernelspec": {
   "display_name": "Python 3.9.7 ('udemy_tensorflow')",
   "language": "python",
   "name": "python3"
  },
  "language_info": {
   "codemirror_mode": {
    "name": "ipython",
    "version": 3
   },
   "file_extension": ".py",
   "mimetype": "text/x-python",
   "name": "python",
   "nbconvert_exporter": "python",
   "pygments_lexer": "ipython3",
   "version": "3.9.12"
  },
  "orig_nbformat": 4
 },
 "nbformat": 4,
 "nbformat_minor": 2
}
