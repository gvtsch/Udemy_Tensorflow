{
 "cells": [
  {
   "cell_type": "code",
   "execution_count": 29,
   "metadata": {},
   "outputs": [],
   "source": [
    "import numpy as np\n",
    "import tensorflow as tf\n",
    "from typing import Tuple"
   ]
  },
  {
   "cell_type": "code",
   "execution_count": 30,
   "metadata": {},
   "outputs": [],
   "source": [
    "def get_dataset() -> Tuple[tf.Tensor, tf.Tensor]:\n",
    "    x = tf.constant([[0, 0], [0, 1], [1, 0], [1, 1]], dtype = tf.float32)\n",
    "    y = tf.constant([[0], [1], [1], [1]], dtype = tf.float32)\n",
    "    return x, y\n",
    "    # tf.constant sind quasi np.arrays, nur eben in Tensorflow Notation und werden Tensor genannt"
   ]
  },
  {
   "cell_type": "code",
   "execution_count": 31,
   "metadata": {},
   "outputs": [],
   "source": [
    "def dense(W: tf.Tensor, b: tf.Tensor, x: tf.Tensor) -> tf.Tensor:\n",
    "    return tf.math.add(tf.linalg.matmul(x, W), b)"
   ]
  },
  {
   "cell_type": "code",
   "execution_count": 32,
   "metadata": {},
   "outputs": [],
   "source": [
    "def main() -> None:\n",
    "    x, y = get_dataset()\n",
    "    print(f'x shape: {x.shape}')\n",
    "    print(f'y shape: {y.shape}')\n",
    "\n",
    "    n = 1\n",
    "    # W = tf.Variable(tf.random.uniform(shape = (2, n), minval = -1.0, maxval = 1.0))\n",
    "    W = tf.Variable(tf.ones(shape=(2, n))) # Zum Nachrechnen. Sonst obige Zufallsverteilung nutzen\n",
    "    b = tf.Variable(tf.zeros(shape=(n,)))\n",
    "\n",
    "    print(f'W: {W}\\nb: {b}')\n",
    "    y_pred = dense(W, b, x)\n",
    "    print(f'y pred: {y_pred}')"
   ]
  },
  {
   "cell_type": "code",
   "execution_count": 33,
   "metadata": {},
   "outputs": [
    {
     "name": "stdout",
     "output_type": "stream",
     "text": [
      "x shape: (4, 2)\n",
      "y shape: (4, 1)\n",
      "W: <tf.Variable 'Variable:0' shape=(2, 1) dtype=float32, numpy=\n",
      "array([[1.],\n",
      "       [1.]], dtype=float32)>\n",
      "b: <tf.Variable 'Variable:0' shape=(1,) dtype=float32, numpy=array([0.], dtype=float32)>\n",
      "y pred: [[0.]\n",
      " [1.]\n",
      " [1.]\n",
      " [2.]]\n"
     ]
    }
   ],
   "source": [
    "if __name__=='__main__':\n",
    "    main()"
   ]
  }
 ],
 "metadata": {
  "interpreter": {
   "hash": "683035455952fa0c5c07396da2eac07ae1d76897e4164c7dcbe8556e60afc848"
  },
  "kernelspec": {
   "display_name": "Python 3.9.7 ('udemy_tensorflow')",
   "language": "python",
   "name": "python3"
  },
  "language_info": {
   "codemirror_mode": {
    "name": "ipython",
    "version": 3
   },
   "file_extension": ".py",
   "mimetype": "text/x-python",
   "name": "python",
   "nbconvert_exporter": "python",
   "pygments_lexer": "ipython3",
   "version": "3.9.7"
  },
  "orig_nbformat": 4
 },
 "nbformat": 4,
 "nbformat_minor": 2
}
