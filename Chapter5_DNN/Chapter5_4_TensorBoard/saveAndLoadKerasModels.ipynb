{
 "cells": [
  {
   "cell_type": "code",
   "execution_count": 48,
   "metadata": {},
   "outputs": [],
   "source": [
    "import os # Arbeiten mit Pfaden\n",
    "import numpy as np\n",
    "from typing import Tuple\n",
    "import tensorflow as tf\n",
    "from tensorflow.keras.datasets import mnist\n",
    "from tensorflow.keras.initializers import Constant\n",
    "from tensorflow.keras.initializers import TruncatedNormal\n",
    "from tensorflow.keras.layers import Activation\n",
    "from tensorflow.keras.layers import Dense\n",
    "from tensorflow.keras.models import Sequential\n",
    "from tensorflow.keras.utils import to_categorical\n",
    "from tensorflow.keras.optimizers import Adam\n",
    "from tensorflow.keras.models import load_model"
   ]
  },
  {
   "cell_type": "code",
   "execution_count": 49,
   "metadata": {},
   "outputs": [],
   "source": [
    "MODELS_DIR = os.path.abspath('C:/Selbststudium/Udemy/Udemy_Tensorflow/models')\n",
    "MODEL_FILE_PATH = os.path.join(MODELS_DIR, 'mnist_model.h5')\n",
    "FULL_MODEL_FILE_PATH = os.path.join(MODELS_DIR, 'full_mnist_model')"
   ]
  },
  {
   "cell_type": "code",
   "execution_count": 50,
   "metadata": {},
   "outputs": [],
   "source": [
    "def get_dataset(num_features: int, num_classes: int) -> Tuple[Tuple[np.ndarray, np.ndarray], Tuple[np.ndarray, np.ndarray]]:\n",
    "    (x_train, y_train), (x_test, y_test) = mnist.load_data()\n",
    "    \n",
    "    x_train = x_train.reshape(-1, num_features).astype(np.float32)\n",
    "    x_test  = x_test.reshape(-1, num_features).astype(np.float32)\n",
    "    \n",
    "    y_train = to_categorical(y_train, num_classes=num_classes, dtype=np.float32)\n",
    "    y_test  = to_categorical(y_test, num_classes=num_classes, dtype=np.float32)\n",
    "\n",
    "    print(f'x train shape: {x_train.shape}')\n",
    "    print(f'y train shape: {y_train.shape}')\n",
    "    print(f'x test shape: {x_test.shape}')\n",
    "    print(f'y test shape: {y_test.shape}')\n",
    "\n",
    "    return (x_train, y_train), (x_test, y_test)"
   ]
  },
  {
   "cell_type": "code",
   "execution_count": 51,
   "metadata": {},
   "outputs": [],
   "source": [
    "# def build_model(num_features: int, num_classes: int) -> Sequential:\n",
    "#     init_w = TruncatedNormal(mean=0.0, stddev=0.01)\n",
    "#     init_b = Constant(value=0.0)\n",
    "\n",
    "#     model = Sequential()\n",
    "#     model.add(Dense(units=500, kernel_initializer=init_w, bias_initializer=init_b, input_shape=(num_features,))) \n",
    "#         # Kernel waere die W-, bias die b-Matrix (Weights und Bias)\n",
    "#         # Müssen nicht angegeben werden, weil per Default praktische Zufallswerte gewählt werden\n",
    "#     model.add(Activation('relu'))\n",
    "#     model.add(Dense(units=250, kernel_initializer=init_w, bias_initializer=init_b)) # Hier kein input_shape mehr angeben! Nur beim ersten Layer \n",
    "#     model.add(Activation('relu'))\n",
    "#     model.add(Dense(units=100, kernel_initializer=init_w, bias_initializer=init_b)) \n",
    "#     model.add(Activation('relu'))\n",
    "#     model.add(Dense(units=num_classes, kernel_initializer=init_w, bias_initializer=init_b))\n",
    "#     model.add(Activation('softmax'))\n",
    "#     model.summary()\n",
    "#     return model"
   ]
  },
  {
   "cell_type": "code",
   "execution_count": 52,
   "metadata": {},
   "outputs": [],
   "source": [
    "def main() -> None:\n",
    "    num_features = 784 # Bild hat 28*28 Pixel\n",
    "    num_classes = 10 # 10 Ziffern möglich\n",
    "    \n",
    "    (x_train, y_train), (x_test, y_test) = get_dataset(num_features, num_classes)\n",
    "    \n",
    "    # model = build_model(num_features, num_classes)\n",
    "\n",
    "    # opt = Adam(learning_rate=0.001)\n",
    "\n",
    "    # model.compile(\n",
    "    #     loss='categorical_crossentropy', # wird bei Kategorie-Problemen mit mehr als 2 Klassen genommen\n",
    "    #     optimizer=opt,\n",
    "    #     metrics=['accuracy']\n",
    "    # )\n",
    "\n",
    "    # model.fit(\n",
    "    #     x=x_train,\n",
    "    #     y=y_train,\n",
    "    #     epochs=20,\n",
    "    #     batch_size=256,\n",
    "    #     verbose=1,\n",
    "    #     validation_data=(x_test, y_test)\n",
    "    # )\n",
    "\n",
    "    # scores = model.evaluate(\n",
    "    #     x=x_test, \n",
    "    #     y=y_test, \n",
    "    #     verbose=0\n",
    "    # )\n",
    "\n",
    "    # print(f'Scores before saving: {scores}')\n",
    "\n",
    "    # # Speichern der Gewichte\n",
    "    # # Funktioniert nur, wenn wir das Modell und die Topologie kennen und exakt gleich halten\n",
    "    # # model.save_weights(filepath=MODEL_FILE_PATH)\n",
    "    # # model.load_weights(filepath=MODEL_FILE_PATH)\n",
    "\n",
    "    # # Model speichern\n",
    "    # # So müssen wir die Topologie des Netzwerks nicht kennen\n",
    "    # model.save(filepath=FULL_MODEL_FILE_PATH)\n",
    "    # # Scores: [0.11 0.98]\n",
    "    model = load_model(filepath=FULL_MODEL_FILE_PATH)\n",
    "\n",
    "    scores = model.evaluate(\n",
    "        x=x_test, \n",
    "        y=y_test, \n",
    "        verbose=0\n",
    "    )\n",
    "\n",
    "    print(f'Scores after saving: {scores}')"
   ]
  },
  {
   "cell_type": "code",
   "execution_count": 53,
   "metadata": {},
   "outputs": [
    {
     "name": "stdout",
     "output_type": "stream",
     "text": [
      "x train shape: (60000, 784)\n",
      "y train shape: (60000, 10)\n",
      "x test shape: (10000, 784)\n",
      "y test shape: (10000, 10)\n",
      "Scores after saving: [0.11645519733428955, 0.9817000031471252]\n"
     ]
    }
   ],
   "source": [
    "if __name__=='__main__':\n",
    "    main()"
   ]
  }
 ],
 "metadata": {
  "interpreter": {
   "hash": "683035455952fa0c5c07396da2eac07ae1d76897e4164c7dcbe8556e60afc848"
  },
  "kernelspec": {
   "display_name": "Python 3.9.7 ('udemy_tensorflow')",
   "language": "python",
   "name": "python3"
  },
  "language_info": {
   "codemirror_mode": {
    "name": "ipython",
    "version": 3
   },
   "file_extension": ".py",
   "mimetype": "text/x-python",
   "name": "python",
   "nbconvert_exporter": "python",
   "pygments_lexer": "ipython3",
   "version": "3.9.7"
  },
  "orig_nbformat": 4
 },
 "nbformat": 4,
 "nbformat_minor": 2
}
