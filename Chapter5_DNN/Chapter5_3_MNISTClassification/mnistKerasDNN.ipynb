{
 "cells": [
  {
   "cell_type": "code",
   "execution_count": 11,
   "metadata": {},
   "outputs": [],
   "source": [
    "import numpy as np\n",
    "from typing import Tuple\n",
    "import tensorflow as tf\n",
    "from tensorflow.keras.datasets import mnist\n",
    "from tensorflow.keras.initializers import Constant\n",
    "from tensorflow.keras.initializers import TruncatedNormal\n",
    "from tensorflow.keras.layers import Activation\n",
    "from tensorflow.keras.layers import Dense\n",
    "from tensorflow.keras.models import Sequential\n",
    "from tensorflow.keras.utils import to_categorical"
   ]
  },
  {
   "cell_type": "code",
   "execution_count": 12,
   "metadata": {},
   "outputs": [],
   "source": [
    "def get_dataset(num_features: int, num_classes: int) -> Tuple[Tuple[np.ndarray, np.ndarray], Tuple[np.ndarray, np.ndarray]]:\n",
    "    (x_train, y_train), (x_test, y_test) = mnist.load_data()\n",
    "    \n",
    "    x_train = x_train.reshape(-1, num_features).astype(np.float32)\n",
    "    x_test  = x_test.reshape(-1, num_features).astype(np.float32)\n",
    "    \n",
    "    y_train = to_categorical(y_train, num_classes=num_classes, dtype=np.float32)\n",
    "    y_test  = to_categorical(y_test, num_classes=num_classes, dtype=np.float32)\n",
    "\n",
    "    print(f'x train shape: {x_train.shape}')\n",
    "    print(f'y train shape: {y_train.shape}')\n",
    "    print(f'x test shape: {x_test.shape}')\n",
    "    print(f'y test shape: {y_test.shape}')\n",
    "\n",
    "    return (x_train, y_train), (x_test, y_test)"
   ]
  },
  {
   "cell_type": "code",
   "execution_count": 13,
   "metadata": {},
   "outputs": [],
   "source": [
    "def build_model(num_features: int, num_classes: int) -> Sequential:\n",
    "    init_w = TruncatedNormal(mean=0.0, stddev=0.01)\n",
    "    init_b = Constant(value=0.0)\n",
    "\n",
    "    model = Sequential()\n",
    "    model.add(Dense(units=500, kernel_initializer=init_w, bias_initializer=init_b, input_shape=(num_features,))) \n",
    "        # Kernel waere die W-, bias die b-Matrix (Weights und Bias)\n",
    "        # Müssen nicht angegeben werden, weil per Default praktische Zufallswerte gewählt werden\n",
    "    model.add(Activation('relu'))\n",
    "    model.add(Dense(units=250, kernel_initializer=init_w, bias_initializer=init_b)) # Hier kein input_shape mehr angeben! Nur beim ersten Layer \n",
    "    model.add(Activation('relu'))\n",
    "    model.add(Dense(units=100, kernel_initializer=init_w, bias_initializer=init_b)) \n",
    "    model.add(Activation('relu'))\n",
    "    model.add(Dense(units=num_classes, kernel_initializer=init_w, bias_initializer=init_b))\n",
    "    model.add(Activation('softmax'))\n",
    "    model.summary()\n",
    "    return model"
   ]
  },
  {
   "cell_type": "code",
   "execution_count": 14,
   "metadata": {},
   "outputs": [],
   "source": [
    "def main() -> None:\n",
    "    num_features = 784 # Bild hat 28*28 Pixel\n",
    "    num_classes = 10 # 10 Ziffern möglich\n",
    "    \n",
    "    (x_train, y_train), (x_test, y_test) = get_dataset(num_features, num_classes)\n",
    "    \n",
    "    model = build_model(num_features, num_classes)\n",
    "\n",
    "    model.compile(\n",
    "        loss='categorical_crossentropy', # wird bei Kategorie-Problemen mit mehr als 2 Klassen genommen\n",
    "        optimizer='Adam',\n",
    "        metrics=['accuracy']\n",
    "    )\n",
    "\n",
    "    model.fit(\n",
    "        x=x_train,\n",
    "        y=y_train,\n",
    "        epochs=20,\n",
    "        batch_size=256,\n",
    "        verbose=1,\n",
    "        validation_data=(x_test, y_test)\n",
    "    )\n",
    "\n",
    "    score = model.evaluate(x=x_test, y=y_test, verbose=0)"
   ]
  },
  {
   "cell_type": "code",
   "execution_count": 15,
   "metadata": {},
   "outputs": [
    {
     "name": "stdout",
     "output_type": "stream",
     "text": [
      "x train shape: (60000, 784)\n",
      "y train shape: (60000, 10)\n",
      "x test shape: (10000, 784)\n",
      "y test shape: (10000, 10)\n",
      "Model: \"sequential_1\"\n",
      "_________________________________________________________________\n",
      " Layer (type)                Output Shape              Param #   \n",
      "=================================================================\n",
      " dense_2 (Dense)             (None, 500)               392500    \n",
      "                                                                 \n",
      " activation_1 (Activation)   (None, 500)               0         \n",
      "                                                                 \n",
      " dense_3 (Dense)             (None, 250)               125250    \n",
      "                                                                 \n",
      " activation_2 (Activation)   (None, 250)               0         \n",
      "                                                                 \n",
      " dense_4 (Dense)             (None, 10)                2510      \n",
      "                                                                 \n",
      " activation_3 (Activation)   (None, 10)                0         \n",
      "                                                                 \n",
      "=================================================================\n",
      "Total params: 520,260\n",
      "Trainable params: 520,260\n",
      "Non-trainable params: 0\n",
      "_________________________________________________________________\n",
      "Epoch 1/10\n",
      "469/469 [==============================] - 4s 6ms/step - loss: 8255.9141 - accuracy: 0.8021 - val_loss: 2410.9475 - val_accuracy: 0.8997\n",
      "Epoch 2/10\n",
      "469/469 [==============================] - 3s 6ms/step - loss: 1689.4624 - accuracy: 0.9196 - val_loss: 1588.4395 - val_accuracy: 0.9267\n",
      "Epoch 3/10\n",
      "469/469 [==============================] - 3s 6ms/step - loss: 961.7563 - accuracy: 0.9423 - val_loss: 1319.0562 - val_accuracy: 0.9342\n",
      "Epoch 4/10\n",
      "469/469 [==============================] - 3s 6ms/step - loss: 606.1881 - accuracy: 0.9566 - val_loss: 1180.0425 - val_accuracy: 0.9391\n",
      "Epoch 5/10\n",
      "469/469 [==============================] - 3s 6ms/step - loss: 406.0831 - accuracy: 0.9659 - val_loss: 971.4457 - val_accuracy: 0.9438\n",
      "Epoch 6/10\n",
      "469/469 [==============================] - 3s 6ms/step - loss: 267.3042 - accuracy: 0.9729 - val_loss: 890.1489 - val_accuracy: 0.9461\n",
      "Epoch 7/10\n",
      "469/469 [==============================] - 3s 6ms/step - loss: 173.5993 - accuracy: 0.9796 - val_loss: 943.6502 - val_accuracy: 0.9465\n",
      "Epoch 8/10\n",
      "469/469 [==============================] - 3s 6ms/step - loss: 126.0927 - accuracy: 0.9833 - val_loss: 847.0793 - val_accuracy: 0.9507\n",
      "Epoch 9/10\n",
      "469/469 [==============================] - 3s 6ms/step - loss: 96.4645 - accuracy: 0.9855 - val_loss: 779.5401 - val_accuracy: 0.9539\n",
      "Epoch 10/10\n",
      "469/469 [==============================] - 3s 6ms/step - loss: 74.7194 - accuracy: 0.9879 - val_loss: 852.7661 - val_accuracy: 0.9525\n"
     ]
    }
   ],
   "source": [
    "if __name__=='__main__':\n",
    "    main()"
   ]
  }
 ],
 "metadata": {
  "interpreter": {
   "hash": "683035455952fa0c5c07396da2eac07ae1d76897e4164c7dcbe8556e60afc848"
  },
  "kernelspec": {
   "display_name": "Python 3.9.7 ('udemy_tensorflow')",
   "language": "python",
   "name": "python3"
  },
  "language_info": {
   "codemirror_mode": {
    "name": "ipython",
    "version": 3
   },
   "file_extension": ".py",
   "mimetype": "text/x-python",
   "name": "python",
   "nbconvert_exporter": "python",
   "pygments_lexer": "ipython3",
   "version": "3.9.7"
  },
  "orig_nbformat": 4
 },
 "nbformat": 4,
 "nbformat_minor": 2
}
