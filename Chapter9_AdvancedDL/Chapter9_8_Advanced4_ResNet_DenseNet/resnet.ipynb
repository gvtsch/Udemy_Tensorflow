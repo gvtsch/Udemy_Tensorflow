{
 "cells": [
  {
   "cell_type": "code",
   "execution_count": 1,
   "metadata": {},
   "outputs": [],
   "source": [
    "import os\n",
    "from typing import Tuple\n",
    "\n",
    "import numpy as np\n",
    "import tensorflow as tf\n",
    "from tensorflow.keras.callbacks import EarlyStopping\n",
    "from tensorflow.keras.layers import Activation\n",
    "from tensorflow.keras.layers import Add\n",
    "from tensorflow.keras.layers import BatchNormalization\n",
    "from tensorflow.keras.layers import Conv2D\n",
    "from tensorflow.keras.layers import Dense\n",
    "from tensorflow.keras.layers import GlobalAveragePooling2D\n",
    "from tensorflow.keras.layers import Input\n",
    "from tensorflow.keras.layers import MaxPool2D\n",
    "from tensorflow.keras.models import Model\n",
    "from tensorflow.keras.optimizers import Adam\n",
    "\n",
    "from tf_utils.mnistData_advance import MNIST"
   ]
  },
  {
   "cell_type": "code",
   "execution_count": 2,
   "metadata": {},
   "outputs": [],
   "source": [
    "np.random.seed(0)\n",
    "tf.random.set_seed(0)"
   ]
  },
  {
   "cell_type": "code",
   "execution_count": 4,
   "metadata": {},
   "outputs": [],
   "source": [
    "LOGS_DIR = os.path.abspath(\"C:/Selbststudium/Udemy/Udemy_Tensorflow/logs\")\n",
    "if not os.path.exists(LOGS_DIR):\n",
    "    os.mkdir(LOGS_DIR)"
   ]
  },
  {
   "cell_type": "code",
   "execution_count": 6,
   "metadata": {},
   "outputs": [],
   "source": [
    "def relu_norm(x: tf.Tensor) -> tf.Tensor:\n",
    "    x = Activation(\"relu\")(x)\n",
    "    x = BatchNormalization()(x)\n",
    "    return x"
   ]
  },
  {
   "cell_type": "code",
   "execution_count": 7,
   "metadata": {},
   "outputs": [],
   "source": [
    "def residual_block(\n",
    "    x: tf.Tensor,\n",
    "    filters: int,\n",
    "    downsample: bool = False,\n",
    ") -> tf.Tensor:\n",
    "    y = Conv2D(\n",
    "        kernel_size=3,\n",
    "        strides=(1 if not downsample else 2),\n",
    "        filters=filters,\n",
    "        padding=\"same\",\n",
    "    )(x)\n",
    "    y = relu_norm(y)\n",
    "    y = Conv2D(\n",
    "        kernel_size=3,\n",
    "        strides=1,\n",
    "        filters=filters,\n",
    "        padding=\"same\",\n",
    "    )(y)\n",
    "\n",
    "    if downsample:  # H, W changed\n",
    "        x = Conv2D(\n",
    "            kernel_size=1,\n",
    "            strides=2,\n",
    "            filters=filters,\n",
    "            padding=\"same\",\n",
    "        )(x)\n",
    "    elif x.shape[-1] != filters:  # Channels changed\n",
    "        x = Conv2D(\n",
    "            kernel_size=1,\n",
    "            strides=1,\n",
    "            filters=filters,\n",
    "            padding=\"same\",\n",
    "        )(x)\n",
    "    out = Add()([x, y])\n",
    "    out = relu_norm(out)\n",
    "    return out"
   ]
  },
  {
   "cell_type": "code",
   "execution_count": 8,
   "metadata": {},
   "outputs": [],
   "source": [
    "def output_block(x: tf.Tensor, num_classes: int) -> tf.Tensor:\n",
    "    x = GlobalAveragePooling2D()(x)\n",
    "    x = Dense(\n",
    "        units=num_classes,\n",
    "    )(x)\n",
    "    x = Activation(\"softmax\")(x)\n",
    "    return x"
   ]
  },
  {
   "cell_type": "code",
   "execution_count": 9,
   "metadata": {},
   "outputs": [],
   "source": [
    "def build_model_resnet(\n",
    "    img_shape: Tuple[int, int, int],\n",
    "    num_classes: int,\n",
    ") -> Model:\n",
    "    input_img = Input(shape=img_shape)\n",
    "\n",
    "    x = residual_block(x=input_img, filters=32, downsample=True)\n",
    "    x = residual_block(x=x, filters=64, downsample=False)\n",
    "    x = residual_block(x=x, filters=64, downsample=False)\n",
    "    x = residual_block(x=x, filters=128, downsample=True)\n",
    "    x = residual_block(x=x, filters=128, downsample=False)\n",
    "    y_pred = output_block(x=x, num_classes=num_classes)\n",
    "\n",
    "    model = Model(inputs=[input_img], outputs=[y_pred])\n",
    "\n",
    "    opt = Adam()\n",
    "\n",
    "    model.compile(\n",
    "        loss=\"categorical_crossentropy\", optimizer=opt, metrics=[\"accuracy\"]\n",
    "    )\n",
    "\n",
    "    return model"
   ]
  },
  {
   "cell_type": "code",
   "execution_count": 10,
   "metadata": {},
   "outputs": [],
   "source": [
    "data = MNIST()\n",
    "\n",
    "train_dataset = data.get_train_set()\n",
    "val_dataset = data.get_val_set()\n",
    "test_dataset = data.get_test_set()\n",
    "\n",
    "img_shape = data.img_shape\n",
    "num_classes = data.num_classes"
   ]
  },
  {
   "cell_type": "code",
   "execution_count": 11,
   "metadata": {},
   "outputs": [],
   "source": [
    "epochs = 100\n",
    "batch_size = 128"
   ]
  },
  {
   "cell_type": "code",
   "execution_count": 12,
   "metadata": {},
   "outputs": [],
   "source": [
    "model = build_model_resnet(\n",
    "    img_shape,\n",
    "    num_classes,\n",
    ")"
   ]
  },
  {
   "cell_type": "code",
   "execution_count": 13,
   "metadata": {},
   "outputs": [
    {
     "name": "stdout",
     "output_type": "stream",
     "text": [
      "Model: \"model\"\n",
      "__________________________________________________________________________________________________\n",
      " Layer (type)                   Output Shape         Param #     Connected to                     \n",
      "==================================================================================================\n",
      " input_1 (InputLayer)           [(None, 28, 28, 1)]  0           []                               \n",
      "                                                                                                  \n",
      " conv2d (Conv2D)                (None, 14, 14, 32)   320         ['input_1[0][0]']                \n",
      "                                                                                                  \n",
      " activation (Activation)        (None, 14, 14, 32)   0           ['conv2d[0][0]']                 \n",
      "                                                                                                  \n",
      " batch_normalization (BatchNorm  (None, 14, 14, 32)  128         ['activation[0][0]']             \n",
      " alization)                                                                                       \n",
      "                                                                                                  \n",
      " conv2d_2 (Conv2D)              (None, 14, 14, 32)   64          ['input_1[0][0]']                \n",
      "                                                                                                  \n",
      " conv2d_1 (Conv2D)              (None, 14, 14, 32)   9248        ['batch_normalization[0][0]']    \n",
      "                                                                                                  \n",
      " add (Add)                      (None, 14, 14, 32)   0           ['conv2d_2[0][0]',               \n",
      "                                                                  'conv2d_1[0][0]']               \n",
      "                                                                                                  \n",
      " activation_1 (Activation)      (None, 14, 14, 32)   0           ['add[0][0]']                    \n",
      "                                                                                                  \n",
      " batch_normalization_1 (BatchNo  (None, 14, 14, 32)  128         ['activation_1[0][0]']           \n",
      " rmalization)                                                                                     \n",
      "                                                                                                  \n",
      " conv2d_3 (Conv2D)              (None, 14, 14, 64)   18496       ['batch_normalization_1[0][0]']  \n",
      "                                                                                                  \n",
      " activation_2 (Activation)      (None, 14, 14, 64)   0           ['conv2d_3[0][0]']               \n",
      "                                                                                                  \n",
      " batch_normalization_2 (BatchNo  (None, 14, 14, 64)  256         ['activation_2[0][0]']           \n",
      " rmalization)                                                                                     \n",
      "                                                                                                  \n",
      " conv2d_5 (Conv2D)              (None, 14, 14, 64)   2112        ['batch_normalization_1[0][0]']  \n",
      "                                                                                                  \n",
      " conv2d_4 (Conv2D)              (None, 14, 14, 64)   36928       ['batch_normalization_2[0][0]']  \n",
      "                                                                                                  \n",
      " add_1 (Add)                    (None, 14, 14, 64)   0           ['conv2d_5[0][0]',               \n",
      "                                                                  'conv2d_4[0][0]']               \n",
      "                                                                                                  \n",
      " activation_3 (Activation)      (None, 14, 14, 64)   0           ['add_1[0][0]']                  \n",
      "                                                                                                  \n",
      " batch_normalization_3 (BatchNo  (None, 14, 14, 64)  256         ['activation_3[0][0]']           \n",
      " rmalization)                                                                                     \n",
      "                                                                                                  \n",
      " conv2d_6 (Conv2D)              (None, 14, 14, 64)   36928       ['batch_normalization_3[0][0]']  \n",
      "                                                                                                  \n",
      " activation_4 (Activation)      (None, 14, 14, 64)   0           ['conv2d_6[0][0]']               \n",
      "                                                                                                  \n",
      " batch_normalization_4 (BatchNo  (None, 14, 14, 64)  256         ['activation_4[0][0]']           \n",
      " rmalization)                                                                                     \n",
      "                                                                                                  \n",
      " conv2d_7 (Conv2D)              (None, 14, 14, 64)   36928       ['batch_normalization_4[0][0]']  \n",
      "                                                                                                  \n",
      " add_2 (Add)                    (None, 14, 14, 64)   0           ['batch_normalization_3[0][0]',  \n",
      "                                                                  'conv2d_7[0][0]']               \n",
      "                                                                                                  \n",
      " activation_5 (Activation)      (None, 14, 14, 64)   0           ['add_2[0][0]']                  \n",
      "                                                                                                  \n",
      " batch_normalization_5 (BatchNo  (None, 14, 14, 64)  256         ['activation_5[0][0]']           \n",
      " rmalization)                                                                                     \n",
      "                                                                                                  \n",
      " conv2d_8 (Conv2D)              (None, 7, 7, 128)    73856       ['batch_normalization_5[0][0]']  \n",
      "                                                                                                  \n",
      " activation_6 (Activation)      (None, 7, 7, 128)    0           ['conv2d_8[0][0]']               \n",
      "                                                                                                  \n",
      " batch_normalization_6 (BatchNo  (None, 7, 7, 128)   512         ['activation_6[0][0]']           \n",
      " rmalization)                                                                                     \n",
      "                                                                                                  \n",
      " conv2d_10 (Conv2D)             (None, 7, 7, 128)    8320        ['batch_normalization_5[0][0]']  \n",
      "                                                                                                  \n",
      " conv2d_9 (Conv2D)              (None, 7, 7, 128)    147584      ['batch_normalization_6[0][0]']  \n",
      "                                                                                                  \n",
      " add_3 (Add)                    (None, 7, 7, 128)    0           ['conv2d_10[0][0]',              \n",
      "                                                                  'conv2d_9[0][0]']               \n",
      "                                                                                                  \n",
      " activation_7 (Activation)      (None, 7, 7, 128)    0           ['add_3[0][0]']                  \n",
      "                                                                                                  \n",
      " batch_normalization_7 (BatchNo  (None, 7, 7, 128)   512         ['activation_7[0][0]']           \n",
      " rmalization)                                                                                     \n",
      "                                                                                                  \n",
      " conv2d_11 (Conv2D)             (None, 7, 7, 128)    147584      ['batch_normalization_7[0][0]']  \n",
      "                                                                                                  \n",
      " activation_8 (Activation)      (None, 7, 7, 128)    0           ['conv2d_11[0][0]']              \n",
      "                                                                                                  \n",
      " batch_normalization_8 (BatchNo  (None, 7, 7, 128)   512         ['activation_8[0][0]']           \n",
      " rmalization)                                                                                     \n",
      "                                                                                                  \n",
      " conv2d_12 (Conv2D)             (None, 7, 7, 128)    147584      ['batch_normalization_8[0][0]']  \n",
      "                                                                                                  \n",
      " add_4 (Add)                    (None, 7, 7, 128)    0           ['batch_normalization_7[0][0]',  \n",
      "                                                                  'conv2d_12[0][0]']              \n",
      "                                                                                                  \n",
      " activation_9 (Activation)      (None, 7, 7, 128)    0           ['add_4[0][0]']                  \n",
      "                                                                                                  \n",
      " batch_normalization_9 (BatchNo  (None, 7, 7, 128)   512         ['activation_9[0][0]']           \n",
      " rmalization)                                                                                     \n",
      "                                                                                                  \n",
      " global_average_pooling2d (Glob  (None, 128)         0           ['batch_normalization_9[0][0]']  \n",
      " alAveragePooling2D)                                                                              \n",
      "                                                                                                  \n",
      " dense (Dense)                  (None, 10)           1290        ['global_average_pooling2d[0][0]'\n",
      "                                                                 ]                                \n",
      "                                                                                                  \n",
      " activation_10 (Activation)     (None, 10)           0           ['dense[0][0]']                  \n",
      "                                                                                                  \n",
      "==================================================================================================\n",
      "Total params: 670,570\n",
      "Trainable params: 668,906\n",
      "Non-trainable params: 1,664\n",
      "__________________________________________________________________________________________________\n"
     ]
    }
   ],
   "source": [
    "model.summary()"
   ]
  },
  {
   "cell_type": "code",
   "execution_count": 14,
   "metadata": {},
   "outputs": [],
   "source": [
    "model_log_dir = os.path.join(LOGS_DIR, \"model_resnet_mnist\")"
   ]
  },
  {
   "cell_type": "code",
   "execution_count": null,
   "metadata": {},
   "outputs": [],
   "source": [
    "es_callback = EarlyStopping(\n",
    "    monitor=\"val_accuracy\",\n",
    "    patience=30,\n",
    "    verbose=1,\n",
    "    restore_best_weights=True,\n",
    "    min_delta=0.0005\n",
    ")\n",
    "\n",
    "model.fit(\n",
    "    train_dataset,\n",
    "    verbose=1,\n",
    "    batch_size=batch_size,\n",
    "    epochs=epochs,\n",
    "    callbacks=[es_callback],\n",
    "    validation_data=val_dataset,\n",
    ")"
   ]
  },
  {
   "cell_type": "code",
   "execution_count": null,
   "metadata": {},
   "outputs": [],
   "source": [
    "scores = model.evaluate(\n",
    "    val_dataset,\n",
    "    verbose=0,\n",
    "    batch_size=batch_size\n",
    ")\n",
    "print(f\"Scores: {scores}\")"
   ]
  }
 ],
 "metadata": {
  "interpreter": {
   "hash": "683035455952fa0c5c07396da2eac07ae1d76897e4164c7dcbe8556e60afc848"
  },
  "kernelspec": {
   "display_name": "Python 3.9.7 ('udemy_tensorflow')",
   "language": "python",
   "name": "python3"
  },
  "language_info": {
   "codemirror_mode": {
    "name": "ipython",
    "version": 3
   },
   "file_extension": ".py",
   "mimetype": "text/x-python",
   "name": "python",
   "nbconvert_exporter": "python",
   "pygments_lexer": "ipython3",
   "version": "3.9.12"
  },
  "orig_nbformat": 4
 },
 "nbformat": 4,
 "nbformat_minor": 2
}
