{
 "cells": [
  {
   "cell_type": "markdown",
   "metadata": {},
   "source": [
    "Optuna kann Hyperparameter basierend auf Algorithmen selbstständig anpassen"
   ]
  },
  {
   "cell_type": "code",
   "execution_count": 1,
   "metadata": {},
   "outputs": [],
   "source": [
    "import optuna\n",
    "from optuna.integration import TFKerasPruningCallback\n",
    "from optuna.trial import TrialState\n",
    "\n",
    "from tensorflow.keras.layers import Flatten, Dense, Dropout\n",
    "from tensorflow.keras.models import Sequential\n",
    "from tensorflow.keras.optimizers import RMSprop\n",
    "\n",
    "from tf_utils.mnistData_advance import MNIST"
   ]
  },
  {
   "cell_type": "code",
   "execution_count": 2,
   "metadata": {},
   "outputs": [],
   "source": [
    "BATCHSIZE = 128\n",
    "CLASSES = 10\n",
    "EPOCHS = 20"
   ]
  },
  {
   "cell_type": "code",
   "execution_count": 3,
   "metadata": {},
   "outputs": [],
   "source": [
    "def create_model(trial):\n",
    "    n_layers = trial.suggest_int(\"n_layers\", 1, 3)\n",
    "    model = Sequential()\n",
    "    model.add(Flatten())\n",
    "    for i in range(n_layers):\n",
    "        num_hidden = trial.suggest_int(f\"n_units_l{i}\", 4, 128, log=True)\n",
    "        model.add(Dense(num_hidden, activation=\"relu\"))\n",
    "        dropout = trial.suggest_float(f\"dropout_l{i}\", 0.2, 0.5)\n",
    "        model.add(Dropout(rate=dropout))\n",
    "    model.add(Dense(CLASSES, activation=\"softmax\"))\n",
    "\n",
    "    learning_rate = trial.suggest_float(\"learning_rate\", 1e-5, 1e-1, log=True)  # 0.00001 0.1\n",
    "    model.compile(\n",
    "        loss=\"categorical_crossentropy\",\n",
    "        optimizer=RMSprop(learning_rate=learning_rate),\n",
    "        metrics=[\"accuracy\"],\n",
    "    )\n",
    "\n",
    "    return model"
   ]
  },
  {
   "cell_type": "code",
   "execution_count": 4,
   "metadata": {},
   "outputs": [],
   "source": [
    "def objective(trial):\n",
    "    data = MNIST()\n",
    "\n",
    "    train_dataset = data.get_train_set()\n",
    "    val_dataset = data.get_val_set()\n",
    "    test_dataset = data.get_test_set()\n",
    "\n",
    "    model = create_model(trial)\n",
    "\n",
    "    model.fit(\n",
    "        x=train_dataset,\n",
    "        batch_size=BATCHSIZE,\n",
    "        callbacks=[TFKerasPruningCallback(trial, \"val_accuracy\")],\n",
    "        epochs=EPOCHS,\n",
    "        validation_data=val_dataset,\n",
    "        verbose=1,\n",
    "    )\n",
    "\n",
    "    score = model.evaluate(x=test_dataset, verbose=0)\n",
    "    return score[1]"
   ]
  },
  {
   "cell_type": "code",
   "execution_count": 5,
   "metadata": {},
   "outputs": [
    {
     "name": "stderr",
     "output_type": "stream",
     "text": [
      "\u001b[32m[I 2022-03-28 17:35:02,535]\u001b[0m A new study created in memory with name: no-name-cea9afc4-bd4e-4283-a664-9f33c1082b3f\u001b[0m\n"
     ]
    },
    {
     "name": "stdout",
     "output_type": "stream",
     "text": [
      "Epoch 1/20\n",
      "315/315 [==============================] - 4s 5ms/step - loss: 2.3259 - accuracy: 0.1148 - val_loss: 2.2513 - val_accuracy: 0.1831\n",
      "Epoch 2/20\n",
      "315/315 [==============================] - 2s 5ms/step - loss: 2.2662 - accuracy: 0.1445 - val_loss: 2.2018 - val_accuracy: 0.2624\n",
      "Epoch 3/20\n",
      "315/315 [==============================] - 2s 5ms/step - loss: 2.2171 - accuracy: 0.1768 - val_loss: 2.1478 - val_accuracy: 0.3155\n",
      "Epoch 4/20\n",
      "315/315 [==============================] - 2s 5ms/step - loss: 2.1723 - accuracy: 0.2017 - val_loss: 2.0886 - val_accuracy: 0.3554\n",
      "Epoch 5/20\n",
      "315/315 [==============================] - 2s 5ms/step - loss: 2.1244 - accuracy: 0.2299 - val_loss: 2.0224 - val_accuracy: 0.3896\n",
      "Epoch 6/20\n",
      "315/315 [==============================] - 2s 5ms/step - loss: 2.0829 - accuracy: 0.2486 - val_loss: 1.9595 - val_accuracy: 0.4216\n",
      "Epoch 7/20\n",
      "315/315 [==============================] - 2s 5ms/step - loss: 2.0413 - accuracy: 0.2699 - val_loss: 1.9021 - val_accuracy: 0.4515\n",
      "Epoch 8/20\n",
      "315/315 [==============================] - 2s 5ms/step - loss: 2.0025 - accuracy: 0.2877 - val_loss: 1.8496 - val_accuracy: 0.4863\n",
      "Epoch 9/20\n",
      "315/315 [==============================] - 2s 5ms/step - loss: 1.9663 - accuracy: 0.3043 - val_loss: 1.7991 - val_accuracy: 0.5177\n",
      "Epoch 10/20\n",
      "315/315 [==============================] - 2s 5ms/step - loss: 1.9392 - accuracy: 0.3152 - val_loss: 1.7562 - val_accuracy: 0.5481\n",
      "Epoch 11/20\n",
      "315/315 [==============================] - 2s 5ms/step - loss: 1.9079 - accuracy: 0.3258 - val_loss: 1.7135 - val_accuracy: 0.5659\n",
      "Epoch 12/20\n",
      "315/315 [==============================] - 2s 5ms/step - loss: 1.8743 - accuracy: 0.3457 - val_loss: 1.6730 - val_accuracy: 0.5859\n",
      "Epoch 13/20\n",
      "315/315 [==============================] - 1s 5ms/step - loss: 1.8559 - accuracy: 0.3495 - val_loss: 1.6374 - val_accuracy: 0.6037\n",
      "Epoch 14/20\n",
      "315/315 [==============================] - 1s 5ms/step - loss: 1.8271 - accuracy: 0.3634 - val_loss: 1.6024 - val_accuracy: 0.6196\n",
      "Epoch 15/20\n",
      "315/315 [==============================] - 1s 5ms/step - loss: 1.8015 - accuracy: 0.3741 - val_loss: 1.5666 - val_accuracy: 0.6331\n",
      "Epoch 16/20\n",
      "315/315 [==============================] - 1s 5ms/step - loss: 1.7816 - accuracy: 0.3780 - val_loss: 1.5344 - val_accuracy: 0.6507\n",
      "Epoch 17/20\n",
      "315/315 [==============================] - 1s 5ms/step - loss: 1.7590 - accuracy: 0.3862 - val_loss: 1.5033 - val_accuracy: 0.6603\n",
      "Epoch 18/20\n",
      "315/315 [==============================] - 1s 5ms/step - loss: 1.7437 - accuracy: 0.3910 - val_loss: 1.4757 - val_accuracy: 0.6720\n",
      "Epoch 19/20\n",
      "315/315 [==============================] - 1s 4ms/step - loss: 1.7218 - accuracy: 0.3987 - val_loss: 1.4461 - val_accuracy: 0.6825\n",
      "Epoch 20/20\n",
      "315/315 [==============================] - 1s 4ms/step - loss: 1.6969 - accuracy: 0.4107 - val_loss: 1.4157 - val_accuracy: 0.6893\n"
     ]
    },
    {
     "name": "stderr",
     "output_type": "stream",
     "text": [
      "\u001b[32m[I 2022-03-28 17:35:40,038]\u001b[0m Trial 0 finished with value: 0.699400007724762 and parameters: {'n_layers': 2, 'n_units_l0': 21, 'dropout_l0': 0.4283869271209061, 'n_units_l1': 17, 'dropout_l1': 0.3898638826977123, 'learning_rate': 1.497182787574073e-05}. Best is trial 0 with value: 0.699400007724762.\u001b[0m\n"
     ]
    },
    {
     "name": "stdout",
     "output_type": "stream",
     "text": [
      "Epoch 1/20\n",
      "315/315 [==============================] - 2s 6ms/step - loss: 1.6119 - accuracy: 0.3914 - val_loss: 1.0609 - val_accuracy: 0.6289\n",
      "Epoch 2/20\n",
      "315/315 [==============================] - 2s 5ms/step - loss: 1.3869 - accuracy: 0.4732 - val_loss: 1.0358 - val_accuracy: 0.5688\n",
      "Epoch 3/20\n",
      "315/315 [==============================] - 2s 5ms/step - loss: 1.3289 - accuracy: 0.5158 - val_loss: 1.0398 - val_accuracy: 0.6068\n",
      "Epoch 4/20\n",
      "315/315 [==============================] - 1s 4ms/step - loss: 1.3137 - accuracy: 0.5292 - val_loss: 1.0665 - val_accuracy: 0.5845\n",
      "Epoch 5/20\n",
      "315/315 [==============================] - 1s 5ms/step - loss: 1.3123 - accuracy: 0.5286 - val_loss: 1.2186 - val_accuracy: 0.5416\n",
      "Epoch 6/20\n",
      "315/315 [==============================] - 1s 5ms/step - loss: 1.3054 - accuracy: 0.5361 - val_loss: 1.0878 - val_accuracy: 0.5875\n",
      "Epoch 7/20\n",
      "315/315 [==============================] - 1s 5ms/step - loss: 1.3109 - accuracy: 0.5333 - val_loss: 1.0679 - val_accuracy: 0.5970\n",
      "Epoch 8/20\n",
      "315/315 [==============================] - 1s 5ms/step - loss: 1.3190 - accuracy: 0.5332 - val_loss: 0.9858 - val_accuracy: 0.6611\n",
      "Epoch 9/20\n",
      "315/315 [==============================] - 2s 5ms/step - loss: 1.3110 - accuracy: 0.5377 - val_loss: 1.0911 - val_accuracy: 0.5861\n",
      "Epoch 10/20\n",
      "315/315 [==============================] - 1s 5ms/step - loss: 1.3180 - accuracy: 0.5343 - val_loss: 1.0026 - val_accuracy: 0.6447\n",
      "Epoch 11/20\n",
      "315/315 [==============================] - 1s 4ms/step - loss: 1.3323 - accuracy: 0.5313 - val_loss: 1.0885 - val_accuracy: 0.5847\n",
      "Epoch 12/20\n",
      "315/315 [==============================] - 1s 5ms/step - loss: 1.3233 - accuracy: 0.5308 - val_loss: 1.0417 - val_accuracy: 0.5985\n",
      "Epoch 13/20\n",
      "315/315 [==============================] - 2s 5ms/step - loss: 1.3328 - accuracy: 0.5249 - val_loss: 1.0744 - val_accuracy: 0.5953\n",
      "Epoch 14/20\n",
      "315/315 [==============================] - 1s 5ms/step - loss: 1.3439 - accuracy: 0.5163 - val_loss: 1.0322 - val_accuracy: 0.6235\n",
      "Epoch 15/20\n",
      "315/315 [==============================] - 2s 5ms/step - loss: 1.3322 - accuracy: 0.5258 - val_loss: 0.9872 - val_accuracy: 0.6182\n",
      "Epoch 16/20\n",
      "315/315 [==============================] - 1s 5ms/step - loss: 1.3531 - accuracy: 0.5136 - val_loss: 1.0593 - val_accuracy: 0.6272\n",
      "Epoch 17/20\n",
      "315/315 [==============================] - 1s 4ms/step - loss: 1.3720 - accuracy: 0.5122 - val_loss: 1.0142 - val_accuracy: 0.6349\n",
      "Epoch 18/20\n",
      "315/315 [==============================] - 1s 5ms/step - loss: 1.3529 - accuracy: 0.5169 - val_loss: 1.0468 - val_accuracy: 0.6151\n",
      "Epoch 19/20\n",
      "315/315 [==============================] - 1s 5ms/step - loss: 1.3642 - accuracy: 0.5160 - val_loss: 1.0048 - val_accuracy: 0.6412\n",
      "Epoch 20/20\n",
      "315/315 [==============================] - 1s 4ms/step - loss: 1.3703 - accuracy: 0.5158 - val_loss: 1.1163 - val_accuracy: 0.5645\n"
     ]
    },
    {
     "name": "stderr",
     "output_type": "stream",
     "text": [
      "\u001b[32m[I 2022-03-28 17:36:12,160]\u001b[0m Trial 1 finished with value: 0.5576000213623047 and parameters: {'n_layers': 3, 'n_units_l0': 12, 'dropout_l0': 0.46536841263115114, 'n_units_l1': 57, 'dropout_l1': 0.34063404744204595, 'n_units_l2': 65, 'dropout_l2': 0.29246939684923234, 'learning_rate': 0.007799498658855895}. Best is trial 0 with value: 0.699400007724762.\u001b[0m\n"
     ]
    },
    {
     "name": "stdout",
     "output_type": "stream",
     "text": [
      "Epoch 1/20\n",
      "315/315 [==============================] - 2s 5ms/step - loss: 1.4642 - accuracy: 0.4883 - val_loss: 0.6131 - val_accuracy: 0.8629\n",
      "Epoch 2/20\n",
      "315/315 [==============================] - 1s 5ms/step - loss: 0.9390 - accuracy: 0.6780 - val_loss: 0.4222 - val_accuracy: 0.8983\n",
      "Epoch 3/20\n",
      "315/315 [==============================] - 1s 5ms/step - loss: 0.7879 - accuracy: 0.7391 - val_loss: 0.3458 - val_accuracy: 0.9115\n",
      "Epoch 4/20\n",
      "315/315 [==============================] - 1s 4ms/step - loss: 0.7098 - accuracy: 0.7697 - val_loss: 0.3124 - val_accuracy: 0.9213\n",
      "Epoch 5/20\n",
      "315/315 [==============================] - 2s 5ms/step - loss: 0.6590 - accuracy: 0.7898 - val_loss: 0.2906 - val_accuracy: 0.9262\n",
      "Epoch 6/20\n",
      "315/315 [==============================] - 2s 6ms/step - loss: 0.6176 - accuracy: 0.8064 - val_loss: 0.2780 - val_accuracy: 0.9278\n",
      "Epoch 7/20\n",
      "315/315 [==============================] - 2s 5ms/step - loss: 0.5787 - accuracy: 0.8176 - val_loss: 0.2604 - val_accuracy: 0.9342\n",
      "Epoch 8/20\n",
      "315/315 [==============================] - 1s 5ms/step - loss: 0.5642 - accuracy: 0.8234 - val_loss: 0.2485 - val_accuracy: 0.9364\n",
      "Epoch 9/20\n",
      "315/315 [==============================] - 1s 4ms/step - loss: 0.5371 - accuracy: 0.8309 - val_loss: 0.2435 - val_accuracy: 0.9369\n",
      "Epoch 10/20\n",
      "315/315 [==============================] - 1s 5ms/step - loss: 0.5232 - accuracy: 0.8390 - val_loss: 0.2385 - val_accuracy: 0.9378\n",
      "Epoch 11/20\n",
      "315/315 [==============================] - 2s 5ms/step - loss: 0.5079 - accuracy: 0.8469 - val_loss: 0.2349 - val_accuracy: 0.9393\n",
      "Epoch 12/20\n",
      "315/315 [==============================] - 2s 5ms/step - loss: 0.4998 - accuracy: 0.8502 - val_loss: 0.2318 - val_accuracy: 0.9397\n",
      "Epoch 13/20\n",
      "315/315 [==============================] - 1s 5ms/step - loss: 0.4885 - accuracy: 0.8546 - val_loss: 0.2286 - val_accuracy: 0.9404\n",
      "Epoch 14/20\n",
      "315/315 [==============================] - 2s 5ms/step - loss: 0.4876 - accuracy: 0.8584 - val_loss: 0.2330 - val_accuracy: 0.9400\n",
      "Epoch 15/20\n",
      "315/315 [==============================] - 2s 5ms/step - loss: 0.4746 - accuracy: 0.8592 - val_loss: 0.2291 - val_accuracy: 0.9419\n",
      "Epoch 16/20\n",
      "315/315 [==============================] - 2s 5ms/step - loss: 0.4608 - accuracy: 0.8655 - val_loss: 0.2229 - val_accuracy: 0.9417\n",
      "Epoch 17/20\n",
      "315/315 [==============================] - 2s 6ms/step - loss: 0.4636 - accuracy: 0.8660 - val_loss: 0.2220 - val_accuracy: 0.9427\n",
      "Epoch 18/20\n",
      "315/315 [==============================] - 2s 5ms/step - loss: 0.4506 - accuracy: 0.8695 - val_loss: 0.2172 - val_accuracy: 0.9427\n",
      "Epoch 19/20\n",
      "315/315 [==============================] - 2s 5ms/step - loss: 0.4507 - accuracy: 0.8700 - val_loss: 0.2210 - val_accuracy: 0.9419\n",
      "Epoch 20/20\n",
      "315/315 [==============================] - 2s 5ms/step - loss: 0.4450 - accuracy: 0.8721 - val_loss: 0.2178 - val_accuracy: 0.9430\n"
     ]
    },
    {
     "name": "stderr",
     "output_type": "stream",
     "text": [
      "\u001b[32m[I 2022-03-28 17:36:46,440]\u001b[0m Trial 2 finished with value: 0.9434999823570251 and parameters: {'n_layers': 3, 'n_units_l0': 60, 'dropout_l0': 0.460391812244115, 'n_units_l1': 13, 'dropout_l1': 0.2908540787877315, 'n_units_l2': 58, 'dropout_l2': 0.27717200905741446, 'learning_rate': 0.0007263373503243539}. Best is trial 2 with value: 0.9434999823570251.\u001b[0m\n"
     ]
    },
    {
     "name": "stdout",
     "output_type": "stream",
     "text": [
      "Epoch 1/20\n",
      "315/315 [==============================] - 2s 5ms/step - loss: 1.1250 - accuracy: 0.6165 - val_loss: 0.4722 - val_accuracy: 0.8683\n",
      "Epoch 2/20\n",
      "315/315 [==============================] - 1s 5ms/step - loss: 0.7452 - accuracy: 0.7719 - val_loss: 0.3742 - val_accuracy: 0.8993\n",
      "Epoch 3/20\n",
      "315/315 [==============================] - 2s 5ms/step - loss: 0.6736 - accuracy: 0.7999 - val_loss: 0.3580 - val_accuracy: 0.9077\n",
      "Epoch 4/20\n",
      "315/315 [==============================] - 2s 5ms/step - loss: 0.6366 - accuracy: 0.8171 - val_loss: 0.3536 - val_accuracy: 0.9051\n",
      "Epoch 5/20\n",
      "315/315 [==============================] - 1s 4ms/step - loss: 0.6216 - accuracy: 0.8186 - val_loss: 0.3331 - val_accuracy: 0.9126\n",
      "Epoch 6/20\n",
      "315/315 [==============================] - 1s 4ms/step - loss: 0.6051 - accuracy: 0.8264 - val_loss: 0.3274 - val_accuracy: 0.9138\n",
      "Epoch 7/20\n",
      "315/315 [==============================] - 1s 5ms/step - loss: 0.5965 - accuracy: 0.8310 - val_loss: 0.3331 - val_accuracy: 0.9144\n",
      "Epoch 8/20\n",
      "315/315 [==============================] - 1s 4ms/step - loss: 0.5791 - accuracy: 0.8350 - val_loss: 0.3395 - val_accuracy: 0.9117\n",
      "Epoch 9/20\n",
      "315/315 [==============================] - 2s 5ms/step - loss: 0.5785 - accuracy: 0.8364 - val_loss: 0.3416 - val_accuracy: 0.9112\n",
      "Epoch 10/20\n",
      "315/315 [==============================] - 2s 6ms/step - loss: 0.5764 - accuracy: 0.8331 - val_loss: 0.3234 - val_accuracy: 0.9149\n",
      "Epoch 11/20\n",
      "315/315 [==============================] - 2s 6ms/step - loss: 0.5609 - accuracy: 0.8411 - val_loss: 0.3124 - val_accuracy: 0.9176\n",
      "Epoch 12/20\n",
      "315/315 [==============================] - 1s 5ms/step - loss: 0.5688 - accuracy: 0.8401 - val_loss: 0.3333 - val_accuracy: 0.9131\n",
      "Epoch 13/20\n",
      "315/315 [==============================] - 1s 4ms/step - loss: 0.5619 - accuracy: 0.8396 - val_loss: 0.3180 - val_accuracy: 0.9174\n",
      "Epoch 14/20\n",
      "315/315 [==============================] - 1s 5ms/step - loss: 0.5634 - accuracy: 0.8408 - val_loss: 0.3375 - val_accuracy: 0.9143\n",
      "Epoch 15/20\n",
      "315/315 [==============================] - 2s 5ms/step - loss: 0.5607 - accuracy: 0.8411 - val_loss: 0.3423 - val_accuracy: 0.9076\n",
      "Epoch 16/20\n",
      "315/315 [==============================] - 1s 5ms/step - loss: 0.5461 - accuracy: 0.8454 - val_loss: 0.3309 - val_accuracy: 0.9115\n",
      "Epoch 17/20\n",
      "315/315 [==============================] - 1s 5ms/step - loss: 0.5546 - accuracy: 0.8427 - val_loss: 0.3070 - val_accuracy: 0.9193\n",
      "Epoch 18/20\n",
      "315/315 [==============================] - 2s 5ms/step - loss: 0.5484 - accuracy: 0.8448 - val_loss: 0.3300 - val_accuracy: 0.9153\n",
      "Epoch 19/20\n",
      "315/315 [==============================] - 2s 6ms/step - loss: 0.5464 - accuracy: 0.8459 - val_loss: 0.3172 - val_accuracy: 0.9177\n",
      "Epoch 20/20\n",
      "315/315 [==============================] - 1s 5ms/step - loss: 0.5447 - accuracy: 0.8464 - val_loss: 0.3334 - val_accuracy: 0.9192\n"
     ]
    },
    {
     "name": "stderr",
     "output_type": "stream",
     "text": [
      "\u001b[32m[I 2022-03-28 17:37:19,648]\u001b[0m Trial 3 finished with value: 0.9205999970436096 and parameters: {'n_layers': 3, 'n_units_l0': 15, 'dropout_l0': 0.21554435220397913, 'n_units_l1': 21, 'dropout_l1': 0.357509665182985, 'n_units_l2': 65, 'dropout_l2': 0.47516017504845676, 'learning_rate': 0.0028894755259199424}. Best is trial 2 with value: 0.9434999823570251.\u001b[0m\n"
     ]
    },
    {
     "name": "stdout",
     "output_type": "stream",
     "text": [
      "Epoch 1/20\n",
      "315/315 [==============================] - 2s 6ms/step - loss: 1.6349 - accuracy: 0.4308 - val_loss: 0.7767 - val_accuracy: 0.7940\n",
      "Epoch 2/20\n",
      "315/315 [==============================] - 2s 5ms/step - loss: 0.9702 - accuracy: 0.6796 - val_loss: 0.4618 - val_accuracy: 0.8841\n",
      "Epoch 3/20\n",
      "315/315 [==============================] - 1s 4ms/step - loss: 0.7344 - accuracy: 0.7696 - val_loss: 0.3499 - val_accuracy: 0.9066\n",
      "Epoch 4/20\n",
      "315/315 [==============================] - 1s 5ms/step - loss: 0.6085 - accuracy: 0.8150 - val_loss: 0.3085 - val_accuracy: 0.9181\n",
      "Epoch 5/20\n",
      "315/315 [==============================] - 1s 5ms/step - loss: 0.5380 - accuracy: 0.8434 - val_loss: 0.2813 - val_accuracy: 0.9246\n",
      "Epoch 6/20\n",
      "315/315 [==============================] - 1s 5ms/step - loss: 0.4945 - accuracy: 0.8601 - val_loss: 0.2570 - val_accuracy: 0.9303\n",
      "Epoch 7/20\n",
      "315/315 [==============================] - 1s 5ms/step - loss: 0.4542 - accuracy: 0.8735 - val_loss: 0.2459 - val_accuracy: 0.9342\n",
      "Epoch 8/20\n",
      "315/315 [==============================] - 1s 4ms/step - loss: 0.4331 - accuracy: 0.8796 - val_loss: 0.2325 - val_accuracy: 0.9376\n",
      "Epoch 9/20\n",
      "315/315 [==============================] - 1s 4ms/step - loss: 0.4047 - accuracy: 0.8877 - val_loss: 0.2219 - val_accuracy: 0.9407\n",
      "Epoch 10/20\n",
      "315/315 [==============================] - 2s 5ms/step - loss: 0.3878 - accuracy: 0.8932 - val_loss: 0.2177 - val_accuracy: 0.9424\n",
      "Epoch 11/20\n",
      "315/315 [==============================] - 2s 5ms/step - loss: 0.3766 - accuracy: 0.8991 - val_loss: 0.2097 - val_accuracy: 0.9460\n",
      "Epoch 12/20\n",
      "315/315 [==============================] - 1s 5ms/step - loss: 0.3600 - accuracy: 0.9032 - val_loss: 0.2025 - val_accuracy: 0.9482\n",
      "Epoch 13/20\n",
      "315/315 [==============================] - 2s 5ms/step - loss: 0.3413 - accuracy: 0.9075 - val_loss: 0.1976 - val_accuracy: 0.9492\n",
      "Epoch 14/20\n",
      "315/315 [==============================] - 2s 5ms/step - loss: 0.3384 - accuracy: 0.9093 - val_loss: 0.1942 - val_accuracy: 0.9495\n",
      "Epoch 15/20\n",
      "315/315 [==============================] - 2s 5ms/step - loss: 0.3324 - accuracy: 0.9126 - val_loss: 0.1914 - val_accuracy: 0.9511\n",
      "Epoch 16/20\n",
      "315/315 [==============================] - 2s 5ms/step - loss: 0.3217 - accuracy: 0.9146 - val_loss: 0.1921 - val_accuracy: 0.9523\n",
      "Epoch 17/20\n",
      "315/315 [==============================] - 2s 5ms/step - loss: 0.3118 - accuracy: 0.9190 - val_loss: 0.1862 - val_accuracy: 0.9545\n",
      "Epoch 18/20\n",
      "315/315 [==============================] - 2s 5ms/step - loss: 0.3106 - accuracy: 0.9193 - val_loss: 0.1849 - val_accuracy: 0.9545\n",
      "Epoch 19/20\n",
      "315/315 [==============================] - 2s 5ms/step - loss: 0.3058 - accuracy: 0.9203 - val_loss: 0.1821 - val_accuracy: 0.9551\n",
      "Epoch 20/20\n",
      "315/315 [==============================] - 1s 5ms/step - loss: 0.2976 - accuracy: 0.9219 - val_loss: 0.1815 - val_accuracy: 0.9559\n"
     ]
    },
    {
     "name": "stderr",
     "output_type": "stream",
     "text": [
      "\u001b[32m[I 2022-03-28 17:37:52,820]\u001b[0m Trial 4 finished with value: 0.9574999809265137 and parameters: {'n_layers': 3, 'n_units_l0': 103, 'dropout_l0': 0.4842321600656094, 'n_units_l1': 45, 'dropout_l1': 0.3046866619990664, 'n_units_l2': 16, 'dropout_l2': 0.21724165034460918, 'learning_rate': 0.00035311400339048073}. Best is trial 4 with value: 0.9574999809265137.\u001b[0m\n"
     ]
    },
    {
     "name": "stdout",
     "output_type": "stream",
     "text": [
      "Epoch 1/20\n",
      "301/315 [===========================>..] - ETA: 0s - loss: 2.2709 - accuracy: 0.1611"
     ]
    },
    {
     "name": "stderr",
     "output_type": "stream",
     "text": [
      "\u001b[32m[I 2022-03-28 17:37:54,856]\u001b[0m Trial 5 pruned. Trial was pruned at epoch 0.\u001b[0m\n"
     ]
    },
    {
     "name": "stdout",
     "output_type": "stream",
     "text": [
      "Epoch 1/20\n",
      "307/315 [============================>.] - ETA: 0s - loss: 2.2263 - accuracy: 0.1558"
     ]
    },
    {
     "name": "stderr",
     "output_type": "stream",
     "text": [
      "\u001b[32m[I 2022-03-28 17:37:57,680]\u001b[0m Trial 6 pruned. Trial was pruned at epoch 0.\u001b[0m\n"
     ]
    },
    {
     "name": "stdout",
     "output_type": "stream",
     "text": [
      "Epoch 1/20\n",
      "315/315 [==============================] - 2s 4ms/step - loss: 0.7051 - accuracy: 0.7780 - val_loss: 0.3597 - val_accuracy: 0.8955\n",
      "Epoch 2/20\n",
      "315/315 [==============================] - 1s 4ms/step - loss: 0.4538 - accuracy: 0.8714 - val_loss: 0.2563 - val_accuracy: 0.9322\n",
      "Epoch 3/20\n",
      "315/315 [==============================] - 1s 4ms/step - loss: 0.4104 - accuracy: 0.8865 - val_loss: 0.2774 - val_accuracy: 0.9266\n",
      "Epoch 4/20\n",
      "315/315 [==============================] - 1s 4ms/step - loss: 0.3774 - accuracy: 0.8957 - val_loss: 0.2622 - val_accuracy: 0.9324\n",
      "Epoch 5/20\n",
      "315/315 [==============================] - 1s 4ms/step - loss: 0.3779 - accuracy: 0.8986 - val_loss: 0.2215 - val_accuracy: 0.9415\n",
      "Epoch 6/20\n",
      "315/315 [==============================] - 1s 4ms/step - loss: 0.3524 - accuracy: 0.9030 - val_loss: 0.2748 - val_accuracy: 0.9345\n",
      "Epoch 7/20\n",
      "315/315 [==============================] - 1s 4ms/step - loss: 0.3520 - accuracy: 0.9060 - val_loss: 0.2448 - val_accuracy: 0.9387\n",
      "Epoch 8/20\n",
      "315/315 [==============================] - 1s 4ms/step - loss: 0.3504 - accuracy: 0.9039 - val_loss: 0.2647 - val_accuracy: 0.9341\n",
      "Epoch 9/20\n",
      "315/315 [==============================] - 1s 5ms/step - loss: 0.3465 - accuracy: 0.9088 - val_loss: 0.2701 - val_accuracy: 0.9399\n",
      "Epoch 10/20\n",
      "315/315 [==============================] - 2s 5ms/step - loss: 0.3438 - accuracy: 0.9087 - val_loss: 0.2963 - val_accuracy: 0.9389\n",
      "Epoch 11/20\n",
      "315/315 [==============================] - 2s 5ms/step - loss: 0.3403 - accuracy: 0.9099 - val_loss: 0.2702 - val_accuracy: 0.9411\n",
      "Epoch 12/20\n",
      "315/315 [==============================] - 1s 5ms/step - loss: 0.3537 - accuracy: 0.9061 - val_loss: 0.2370 - val_accuracy: 0.9459\n",
      "Epoch 13/20\n",
      "315/315 [==============================] - 1s 4ms/step - loss: 0.3423 - accuracy: 0.9105 - val_loss: 0.2600 - val_accuracy: 0.9424\n",
      "Epoch 14/20\n",
      "315/315 [==============================] - 1s 4ms/step - loss: 0.3461 - accuracy: 0.9081 - val_loss: 0.2755 - val_accuracy: 0.9379\n",
      "Epoch 15/20\n",
      "315/315 [==============================] - 1s 4ms/step - loss: 0.3467 - accuracy: 0.9096 - val_loss: 0.2582 - val_accuracy: 0.9430\n",
      "Epoch 16/20\n",
      "315/315 [==============================] - 1s 4ms/step - loss: 0.3431 - accuracy: 0.9110 - val_loss: 0.2696 - val_accuracy: 0.9415\n",
      "Epoch 17/20\n",
      "315/315 [==============================] - 1s 4ms/step - loss: 0.3416 - accuracy: 0.9105 - val_loss: 0.2742 - val_accuracy: 0.9407\n",
      "Epoch 18/20\n",
      "315/315 [==============================] - 1s 4ms/step - loss: 0.3374 - accuracy: 0.9126 - val_loss: 0.2858 - val_accuracy: 0.9451\n",
      "Epoch 19/20\n",
      "315/315 [==============================] - 1s 4ms/step - loss: 0.3291 - accuracy: 0.9135 - val_loss: 0.2502 - val_accuracy: 0.9444\n",
      "Epoch 20/20\n",
      "315/315 [==============================] - 1s 4ms/step - loss: 0.3472 - accuracy: 0.9103 - val_loss: 0.2900 - val_accuracy: 0.9461\n"
     ]
    },
    {
     "name": "stderr",
     "output_type": "stream",
     "text": [
      "\u001b[32m[I 2022-03-28 17:38:26,766]\u001b[0m Trial 7 finished with value: 0.9491999745368958 and parameters: {'n_layers': 2, 'n_units_l0': 52, 'dropout_l0': 0.2426468980432106, 'n_units_l1': 29, 'dropout_l1': 0.28772711856196154, 'learning_rate': 0.011411749842636973}. Best is trial 4 with value: 0.9574999809265137.\u001b[0m\n"
     ]
    },
    {
     "name": "stdout",
     "output_type": "stream",
     "text": [
      "Epoch 1/20\n",
      "301/315 [===========================>..] - ETA: 0s - loss: 2.3289 - accuracy: 0.1063"
     ]
    },
    {
     "name": "stderr",
     "output_type": "stream",
     "text": [
      "\u001b[32m[I 2022-03-28 17:38:29,137]\u001b[0m Trial 8 pruned. Trial was pruned at epoch 0.\u001b[0m\n"
     ]
    },
    {
     "name": "stdout",
     "output_type": "stream",
     "text": [
      "Epoch 1/20\n",
      "310/315 [============================>.] - ETA: 0s - loss: 2.1607 - accuracy: 0.1779"
     ]
    },
    {
     "name": "stderr",
     "output_type": "stream",
     "text": [
      "\u001b[32m[I 2022-03-28 17:38:31,113]\u001b[0m Trial 9 pruned. Trial was pruned at epoch 0.\u001b[0m\n"
     ]
    },
    {
     "name": "stdout",
     "output_type": "stream",
     "text": [
      "Epoch 1/20\n",
      "302/315 [===========================>..] - ETA: 0s - loss: 2.1063 - accuracy: 0.1905"
     ]
    },
    {
     "name": "stderr",
     "output_type": "stream",
     "text": [
      "\u001b[32m[I 2022-03-28 17:38:33,522]\u001b[0m Trial 10 pruned. Trial was pruned at epoch 0.\u001b[0m\n"
     ]
    },
    {
     "name": "stdout",
     "output_type": "stream",
     "text": [
      "Epoch 1/20\n",
      "315/315 [==============================] - 2s 5ms/step - loss: 0.7995 - accuracy: 0.7721 - val_loss: 0.3809 - val_accuracy: 0.8957\n",
      "Epoch 2/20\n",
      "315/315 [==============================] - 1s 4ms/step - loss: 0.5317 - accuracy: 0.8518 - val_loss: 0.3629 - val_accuracy: 0.9072\n",
      "Epoch 3/20\n",
      "315/315 [==============================] - 1s 4ms/step - loss: 0.5039 - accuracy: 0.8656 - val_loss: 0.3427 - val_accuracy: 0.9161\n",
      "Epoch 4/20\n",
      "315/315 [==============================] - 1s 4ms/step - loss: 0.5119 - accuracy: 0.8630 - val_loss: 0.4107 - val_accuracy: 0.9016\n",
      "Epoch 5/20\n",
      "310/315 [============================>.] - ETA: 0s - loss: 0.5204 - accuracy: 0.8644"
     ]
    },
    {
     "name": "stderr",
     "output_type": "stream",
     "text": [
      "\u001b[32m[I 2022-03-28 17:38:41,416]\u001b[0m Trial 11 pruned. Trial was pruned at epoch 4.\u001b[0m\n"
     ]
    },
    {
     "name": "stdout",
     "output_type": "stream",
     "text": [
      "Epoch 1/20\n",
      "315/315 [==============================] - 2s 4ms/step - loss: 0.7845 - accuracy: 0.7540 - val_loss: 0.3023 - val_accuracy: 0.9104\n",
      "Epoch 2/20\n",
      "315/315 [==============================] - 1s 4ms/step - loss: 0.4158 - accuracy: 0.8767 - val_loss: 0.2410 - val_accuracy: 0.9277\n",
      "Epoch 3/20\n",
      "315/315 [==============================] - 1s 4ms/step - loss: 0.3455 - accuracy: 0.8996 - val_loss: 0.2081 - val_accuracy: 0.9387\n",
      "Epoch 4/20\n",
      "315/315 [==============================] - 1s 4ms/step - loss: 0.3072 - accuracy: 0.9104 - val_loss: 0.1895 - val_accuracy: 0.9434\n",
      "Epoch 5/20\n",
      "315/315 [==============================] - 1s 4ms/step - loss: 0.2818 - accuracy: 0.9187 - val_loss: 0.1740 - val_accuracy: 0.9494\n",
      "Epoch 6/20\n",
      "315/315 [==============================] - 1s 4ms/step - loss: 0.2655 - accuracy: 0.9218 - val_loss: 0.1787 - val_accuracy: 0.9481\n",
      "Epoch 7/20\n",
      "315/315 [==============================] - 1s 4ms/step - loss: 0.2506 - accuracy: 0.9273 - val_loss: 0.1634 - val_accuracy: 0.9521\n",
      "Epoch 8/20\n",
      "315/315 [==============================] - 1s 4ms/step - loss: 0.2374 - accuracy: 0.9321 - val_loss: 0.1582 - val_accuracy: 0.9537\n",
      "Epoch 9/20\n",
      "315/315 [==============================] - 1s 5ms/step - loss: 0.2288 - accuracy: 0.9324 - val_loss: 0.1529 - val_accuracy: 0.9561\n",
      "Epoch 10/20\n",
      "315/315 [==============================] - 1s 4ms/step - loss: 0.2201 - accuracy: 0.9372 - val_loss: 0.1530 - val_accuracy: 0.9574\n",
      "Epoch 11/20\n",
      "315/315 [==============================] - 1s 4ms/step - loss: 0.2120 - accuracy: 0.9377 - val_loss: 0.1556 - val_accuracy: 0.9557\n",
      "Epoch 12/20\n",
      "315/315 [==============================] - 1s 4ms/step - loss: 0.2085 - accuracy: 0.9399 - val_loss: 0.1545 - val_accuracy: 0.9566\n",
      "Epoch 13/20\n",
      "315/315 [==============================] - 1s 4ms/step - loss: 0.2037 - accuracy: 0.9408 - val_loss: 0.1469 - val_accuracy: 0.9595\n",
      "Epoch 14/20\n",
      "315/315 [==============================] - 1s 4ms/step - loss: 0.2020 - accuracy: 0.9421 - val_loss: 0.1476 - val_accuracy: 0.9599\n",
      "Epoch 15/20\n",
      "315/315 [==============================] - 1s 4ms/step - loss: 0.1934 - accuracy: 0.9435 - val_loss: 0.1469 - val_accuracy: 0.9592\n",
      "Epoch 16/20\n",
      "315/315 [==============================] - 1s 4ms/step - loss: 0.1940 - accuracy: 0.9422 - val_loss: 0.1426 - val_accuracy: 0.9610\n",
      "Epoch 17/20\n",
      "315/315 [==============================] - 1s 4ms/step - loss: 0.1899 - accuracy: 0.9445 - val_loss: 0.1460 - val_accuracy: 0.9610\n",
      "Epoch 18/20\n",
      "315/315 [==============================] - 1s 4ms/step - loss: 0.1881 - accuracy: 0.9458 - val_loss: 0.1413 - val_accuracy: 0.9619\n",
      "Epoch 19/20\n",
      "315/315 [==============================] - 1s 4ms/step - loss: 0.1868 - accuracy: 0.9461 - val_loss: 0.1429 - val_accuracy: 0.9624\n",
      "Epoch 20/20\n",
      "315/315 [==============================] - 1s 4ms/step - loss: 0.1801 - accuracy: 0.9468 - val_loss: 0.1455 - val_accuracy: 0.9620\n"
     ]
    },
    {
     "name": "stderr",
     "output_type": "stream",
     "text": [
      "\u001b[32m[I 2022-03-28 17:39:08,724]\u001b[0m Trial 12 finished with value: 0.9620000123977661 and parameters: {'n_layers': 2, 'n_units_l0': 42, 'dropout_l0': 0.27357799421282575, 'n_units_l1': 50, 'dropout_l1': 0.2912088586814141, 'learning_rate': 0.00100791474259463}. Best is trial 12 with value: 0.9620000123977661.\u001b[0m\n"
     ]
    },
    {
     "name": "stdout",
     "output_type": "stream",
     "text": [
      "Epoch 1/20\n",
      "315/315 [==============================] - 1s 4ms/step - loss: 0.5161 - accuracy: 0.8554 - val_loss: 0.2447 - val_accuracy: 0.9307\n",
      "Epoch 2/20\n",
      "315/315 [==============================] - 1s 3ms/step - loss: 0.2582 - accuracy: 0.9266 - val_loss: 0.1935 - val_accuracy: 0.9429\n",
      "Epoch 3/20\n",
      "315/315 [==============================] - 1s 3ms/step - loss: 0.2021 - accuracy: 0.9402 - val_loss: 0.1573 - val_accuracy: 0.9542\n",
      "Epoch 4/20\n",
      "315/315 [==============================] - 1s 3ms/step - loss: 0.1738 - accuracy: 0.9491 - val_loss: 0.1415 - val_accuracy: 0.9584\n",
      "Epoch 5/20\n",
      "315/315 [==============================] - 1s 3ms/step - loss: 0.1513 - accuracy: 0.9548 - val_loss: 0.1302 - val_accuracy: 0.9622\n",
      "Epoch 6/20\n",
      "315/315 [==============================] - 1s 4ms/step - loss: 0.1382 - accuracy: 0.9584 - val_loss: 0.1221 - val_accuracy: 0.9642\n",
      "Epoch 7/20\n",
      "315/315 [==============================] - 1s 4ms/step - loss: 0.1235 - accuracy: 0.9626 - val_loss: 0.1165 - val_accuracy: 0.9662\n",
      "Epoch 8/20\n",
      "315/315 [==============================] - 1s 4ms/step - loss: 0.1179 - accuracy: 0.9659 - val_loss: 0.1105 - val_accuracy: 0.9680\n",
      "Epoch 9/20\n",
      "315/315 [==============================] - 1s 4ms/step - loss: 0.1091 - accuracy: 0.9678 - val_loss: 0.1068 - val_accuracy: 0.9701\n",
      "Epoch 10/20\n",
      "315/315 [==============================] - 1s 4ms/step - loss: 0.1030 - accuracy: 0.9693 - val_loss: 0.1062 - val_accuracy: 0.9703\n",
      "Epoch 11/20\n",
      "315/315 [==============================] - 1s 4ms/step - loss: 0.0985 - accuracy: 0.9705 - val_loss: 0.1065 - val_accuracy: 0.9697\n",
      "Epoch 12/20\n",
      "315/315 [==============================] - 1s 4ms/step - loss: 0.0937 - accuracy: 0.9721 - val_loss: 0.1027 - val_accuracy: 0.9713\n",
      "Epoch 13/20\n",
      "315/315 [==============================] - 1s 4ms/step - loss: 0.0892 - accuracy: 0.9733 - val_loss: 0.1016 - val_accuracy: 0.9720\n",
      "Epoch 14/20\n",
      "315/315 [==============================] - 1s 4ms/step - loss: 0.0841 - accuracy: 0.9739 - val_loss: 0.1007 - val_accuracy: 0.9733\n",
      "Epoch 15/20\n",
      "315/315 [==============================] - 1s 4ms/step - loss: 0.0812 - accuracy: 0.9761 - val_loss: 0.0990 - val_accuracy: 0.9733\n",
      "Epoch 16/20\n",
      "315/315 [==============================] - 1s 4ms/step - loss: 0.0786 - accuracy: 0.9767 - val_loss: 0.0985 - val_accuracy: 0.9740\n",
      "Epoch 17/20\n",
      "315/315 [==============================] - 1s 3ms/step - loss: 0.0752 - accuracy: 0.9770 - val_loss: 0.0985 - val_accuracy: 0.9735\n",
      "Epoch 18/20\n",
      "315/315 [==============================] - 1s 4ms/step - loss: 0.0747 - accuracy: 0.9775 - val_loss: 0.0996 - val_accuracy: 0.9735\n",
      "Epoch 19/20\n",
      "315/315 [==============================] - 1s 4ms/step - loss: 0.0718 - accuracy: 0.9777 - val_loss: 0.0993 - val_accuracy: 0.9743\n",
      "Epoch 20/20\n",
      "315/315 [==============================] - 1s 4ms/step - loss: 0.0707 - accuracy: 0.9776 - val_loss: 0.0993 - val_accuracy: 0.9742\n"
     ]
    },
    {
     "name": "stderr",
     "output_type": "stream",
     "text": [
      "\u001b[32m[I 2022-03-28 17:39:33,921]\u001b[0m Trial 13 finished with value: 0.9758999943733215 and parameters: {'n_layers': 1, 'n_units_l0': 104, 'dropout_l0': 0.2992356300700613, 'learning_rate': 0.000929166575727778}. Best is trial 13 with value: 0.9758999943733215.\u001b[0m\n"
     ]
    },
    {
     "name": "stdout",
     "output_type": "stream",
     "text": [
      "Epoch 1/20\n",
      "315/315 [==============================] - 1s 4ms/step - loss: 0.6526 - accuracy: 0.8068 - val_loss: 0.3118 - val_accuracy: 0.9115\n",
      "Epoch 2/20\n",
      "315/315 [==============================] - 1s 3ms/step - loss: 0.3871 - accuracy: 0.8852 - val_loss: 0.2778 - val_accuracy: 0.9177\n",
      "Epoch 3/20\n",
      "315/315 [==============================] - 1s 3ms/step - loss: 0.3416 - accuracy: 0.8993 - val_loss: 0.2357 - val_accuracy: 0.9303\n",
      "Epoch 4/20\n",
      "315/315 [==============================] - 1s 3ms/step - loss: 0.3091 - accuracy: 0.9086 - val_loss: 0.2146 - val_accuracy: 0.9375\n",
      "Epoch 5/20\n",
      "315/315 [==============================] - 1s 3ms/step - loss: 0.2892 - accuracy: 0.9129 - val_loss: 0.2149 - val_accuracy: 0.9365\n",
      "Epoch 6/20\n",
      "315/315 [==============================] - 1s 4ms/step - loss: 0.2817 - accuracy: 0.9163 - val_loss: 0.2040 - val_accuracy: 0.9409\n",
      "Epoch 7/20\n",
      "315/315 [==============================] - 1s 4ms/step - loss: 0.2646 - accuracy: 0.9204 - val_loss: 0.1939 - val_accuracy: 0.9448\n",
      "Epoch 8/20\n",
      "315/315 [==============================] - 1s 4ms/step - loss: 0.2604 - accuracy: 0.9222 - val_loss: 0.1927 - val_accuracy: 0.9442\n",
      "Epoch 9/20\n",
      "315/315 [==============================] - 1s 3ms/step - loss: 0.2527 - accuracy: 0.9243 - val_loss: 0.1859 - val_accuracy: 0.9472\n",
      "Epoch 10/20\n",
      "315/315 [==============================] - 1s 4ms/step - loss: 0.2497 - accuracy: 0.9247 - val_loss: 0.1839 - val_accuracy: 0.9483\n",
      "Epoch 11/20\n",
      "315/315 [==============================] - 1s 4ms/step - loss: 0.2444 - accuracy: 0.9270 - val_loss: 0.1823 - val_accuracy: 0.9479\n",
      "Epoch 12/20\n",
      "315/315 [==============================] - 1s 3ms/step - loss: 0.2364 - accuracy: 0.9296 - val_loss: 0.1842 - val_accuracy: 0.9469\n",
      "Epoch 13/20\n",
      "315/315 [==============================] - 1s 4ms/step - loss: 0.2345 - accuracy: 0.9309 - val_loss: 0.1772 - val_accuracy: 0.9504\n",
      "Epoch 14/20\n",
      "315/315 [==============================] - 1s 3ms/step - loss: 0.2288 - accuracy: 0.9323 - val_loss: 0.1740 - val_accuracy: 0.9511\n",
      "Epoch 15/20\n",
      "315/315 [==============================] - 1s 4ms/step - loss: 0.2285 - accuracy: 0.9320 - val_loss: 0.1731 - val_accuracy: 0.9520\n",
      "Epoch 16/20\n",
      "315/315 [==============================] - 1s 4ms/step - loss: 0.2265 - accuracy: 0.9335 - val_loss: 0.1722 - val_accuracy: 0.9528\n",
      "Epoch 17/20\n",
      "315/315 [==============================] - 1s 4ms/step - loss: 0.2235 - accuracy: 0.9328 - val_loss: 0.1735 - val_accuracy: 0.9522\n",
      "Epoch 18/20\n",
      "315/315 [==============================] - 1s 4ms/step - loss: 0.2210 - accuracy: 0.9332 - val_loss: 0.1768 - val_accuracy: 0.9517\n",
      "Epoch 19/20\n",
      "315/315 [==============================] - 1s 4ms/step - loss: 0.2190 - accuracy: 0.9351 - val_loss: 0.1689 - val_accuracy: 0.9530\n",
      "Epoch 20/20\n",
      "315/315 [==============================] - 1s 3ms/step - loss: 0.2098 - accuracy: 0.9363 - val_loss: 0.1706 - val_accuracy: 0.9528\n"
     ]
    },
    {
     "name": "stderr",
     "output_type": "stream",
     "text": [
      "\u001b[32m[I 2022-03-28 17:39:58,570]\u001b[0m Trial 14 finished with value: 0.957099974155426 and parameters: {'n_layers': 1, 'n_units_l0': 32, 'dropout_l0': 0.29054232951791276, 'learning_rate': 0.0015169574587633363}. Best is trial 13 with value: 0.9758999943733215.\u001b[0m\n"
     ]
    },
    {
     "name": "stdout",
     "output_type": "stream",
     "text": [
      "Epoch 1/20\n",
      "315/315 [==============================] - 2s 5ms/step - loss: 0.4149 - accuracy: 0.8751 - val_loss: 0.2274 - val_accuracy: 0.9331\n",
      "Epoch 2/20\n",
      "315/315 [==============================] - 1s 4ms/step - loss: 0.2329 - accuracy: 0.9320 - val_loss: 0.1759 - val_accuracy: 0.9462\n",
      "Epoch 3/20\n",
      "315/315 [==============================] - 1s 4ms/step - loss: 0.1963 - accuracy: 0.9422 - val_loss: 0.1475 - val_accuracy: 0.9546\n",
      "Epoch 4/20\n",
      "315/315 [==============================] - 2s 5ms/step - loss: 0.1731 - accuracy: 0.9484 - val_loss: 0.1294 - val_accuracy: 0.9626\n",
      "Epoch 5/20\n",
      "315/315 [==============================] - 1s 4ms/step - loss: 0.1578 - accuracy: 0.9534 - val_loss: 0.1281 - val_accuracy: 0.9613\n",
      "Epoch 6/20\n",
      "315/315 [==============================] - 1s 4ms/step - loss: 0.1440 - accuracy: 0.9569 - val_loss: 0.1273 - val_accuracy: 0.9642\n",
      "Epoch 7/20\n",
      "315/315 [==============================] - 1s 4ms/step - loss: 0.1363 - accuracy: 0.9592 - val_loss: 0.1242 - val_accuracy: 0.9662\n",
      "Epoch 8/20\n",
      "315/315 [==============================] - 1s 4ms/step - loss: 0.1307 - accuracy: 0.9612 - val_loss: 0.1182 - val_accuracy: 0.9679\n",
      "Epoch 9/20\n",
      "315/315 [==============================] - 1s 4ms/step - loss: 0.1270 - accuracy: 0.9623 - val_loss: 0.1222 - val_accuracy: 0.9669\n",
      "Epoch 10/20\n",
      "315/315 [==============================] - 1s 4ms/step - loss: 0.1219 - accuracy: 0.9631 - val_loss: 0.1308 - val_accuracy: 0.9658\n",
      "Epoch 11/20\n",
      "315/315 [==============================] - 1s 4ms/step - loss: 0.1195 - accuracy: 0.9646 - val_loss: 0.1220 - val_accuracy: 0.9681\n",
      "Epoch 12/20\n",
      "315/315 [==============================] - 1s 4ms/step - loss: 0.1115 - accuracy: 0.9665 - val_loss: 0.1265 - val_accuracy: 0.9684\n",
      "Epoch 13/20\n",
      "315/315 [==============================] - 1s 5ms/step - loss: 0.1144 - accuracy: 0.9657 - val_loss: 0.1254 - val_accuracy: 0.9687\n",
      "Epoch 14/20\n",
      "315/315 [==============================] - 1s 4ms/step - loss: 0.1093 - accuracy: 0.9667 - val_loss: 0.1267 - val_accuracy: 0.9682\n",
      "Epoch 15/20\n",
      "315/315 [==============================] - 1s 4ms/step - loss: 0.1081 - accuracy: 0.9675 - val_loss: 0.1250 - val_accuracy: 0.9685\n",
      "Epoch 16/20\n",
      "315/315 [==============================] - 1s 4ms/step - loss: 0.1035 - accuracy: 0.9683 - val_loss: 0.1302 - val_accuracy: 0.9683\n",
      "Epoch 17/20\n",
      "315/315 [==============================] - 1s 4ms/step - loss: 0.1062 - accuracy: 0.9696 - val_loss: 0.1246 - val_accuracy: 0.9698\n",
      "Epoch 18/20\n",
      "315/315 [==============================] - 1s 4ms/step - loss: 0.1038 - accuracy: 0.9701 - val_loss: 0.1296 - val_accuracy: 0.9702\n",
      "Epoch 19/20\n",
      "315/315 [==============================] - 1s 4ms/step - loss: 0.0989 - accuracy: 0.9704 - val_loss: 0.1280 - val_accuracy: 0.9704\n",
      "Epoch 20/20\n",
      "315/315 [==============================] - 1s 4ms/step - loss: 0.0974 - accuracy: 0.9696 - val_loss: 0.1350 - val_accuracy: 0.9699\n"
     ]
    },
    {
     "name": "stderr",
     "output_type": "stream",
     "text": [
      "\u001b[32m[I 2022-03-28 17:40:26,664]\u001b[0m Trial 15 finished with value: 0.9707000255584717 and parameters: {'n_layers': 1, 'n_units_l0': 74, 'dropout_l0': 0.2956608527196456, 'learning_rate': 0.0030760406013394647}. Best is trial 13 with value: 0.9758999943733215.\u001b[0m\n"
     ]
    },
    {
     "name": "stdout",
     "output_type": "stream",
     "text": [
      "Epoch 1/20\n",
      "315/315 [==============================] - 1s 4ms/step - loss: 0.4126 - accuracy: 0.8738 - val_loss: 0.1850 - val_accuracy: 0.9447\n",
      "Epoch 2/20\n",
      "315/315 [==============================] - 1s 3ms/step - loss: 0.2376 - accuracy: 0.9298 - val_loss: 0.1389 - val_accuracy: 0.9606\n",
      "Epoch 3/20\n",
      "315/315 [==============================] - 1s 4ms/step - loss: 0.2019 - accuracy: 0.9406 - val_loss: 0.1323 - val_accuracy: 0.9627\n",
      "Epoch 4/20\n",
      "315/315 [==============================] - 1s 4ms/step - loss: 0.1851 - accuracy: 0.9450 - val_loss: 0.1216 - val_accuracy: 0.9659\n",
      "Epoch 5/20\n",
      "315/315 [==============================] - 1s 4ms/step - loss: 0.1716 - accuracy: 0.9504 - val_loss: 0.1253 - val_accuracy: 0.9658\n",
      "Epoch 6/20\n",
      "315/315 [==============================] - 1s 5ms/step - loss: 0.1603 - accuracy: 0.9521 - val_loss: 0.1250 - val_accuracy: 0.9682\n",
      "Epoch 7/20\n",
      "315/315 [==============================] - 1s 4ms/step - loss: 0.1519 - accuracy: 0.9552 - val_loss: 0.1320 - val_accuracy: 0.9680\n",
      "Epoch 8/20\n",
      "315/315 [==============================] - 1s 4ms/step - loss: 0.1493 - accuracy: 0.9562 - val_loss: 0.1282 - val_accuracy: 0.9670\n",
      "Epoch 9/20\n",
      "315/315 [==============================] - 1s 4ms/step - loss: 0.1406 - accuracy: 0.9590 - val_loss: 0.1309 - val_accuracy: 0.9701\n",
      "Epoch 10/20\n",
      "315/315 [==============================] - 1s 4ms/step - loss: 0.1324 - accuracy: 0.9611 - val_loss: 0.1269 - val_accuracy: 0.9694\n",
      "Epoch 11/20\n",
      "315/315 [==============================] - 1s 4ms/step - loss: 0.1322 - accuracy: 0.9611 - val_loss: 0.1258 - val_accuracy: 0.9710\n",
      "Epoch 12/20\n",
      "315/315 [==============================] - 1s 4ms/step - loss: 0.1280 - accuracy: 0.9622 - val_loss: 0.1486 - val_accuracy: 0.9669\n",
      "Epoch 13/20\n",
      "315/315 [==============================] - 1s 4ms/step - loss: 0.1275 - accuracy: 0.9631 - val_loss: 0.1360 - val_accuracy: 0.9721\n",
      "Epoch 14/20\n",
      "315/315 [==============================] - 1s 3ms/step - loss: 0.1191 - accuracy: 0.9652 - val_loss: 0.1321 - val_accuracy: 0.9706\n",
      "Epoch 15/20\n",
      "315/315 [==============================] - 1s 3ms/step - loss: 0.1222 - accuracy: 0.9643 - val_loss: 0.1536 - val_accuracy: 0.9665\n",
      "Epoch 16/20\n",
      "315/315 [==============================] - 1s 3ms/step - loss: 0.1202 - accuracy: 0.9654 - val_loss: 0.1487 - val_accuracy: 0.9716\n",
      "Epoch 17/20\n",
      "315/315 [==============================] - 1s 4ms/step - loss: 0.1175 - accuracy: 0.9649 - val_loss: 0.1438 - val_accuracy: 0.9724\n",
      "Epoch 18/20\n",
      "315/315 [==============================] - 1s 3ms/step - loss: 0.1187 - accuracy: 0.9648 - val_loss: 0.1492 - val_accuracy: 0.9711\n",
      "Epoch 19/20\n",
      "315/315 [==============================] - 1s 3ms/step - loss: 0.1162 - accuracy: 0.9654 - val_loss: 0.1448 - val_accuracy: 0.9721\n",
      "Epoch 20/20\n",
      "315/315 [==============================] - 1s 3ms/step - loss: 0.1148 - accuracy: 0.9659 - val_loss: 0.1559 - val_accuracy: 0.9715\n"
     ]
    },
    {
     "name": "stderr",
     "output_type": "stream",
     "text": [
      "\u001b[32m[I 2022-03-28 17:40:52,109]\u001b[0m Trial 16 finished with value: 0.9736999869346619 and parameters: {'n_layers': 1, 'n_units_l0': 76, 'dropout_l0': 0.33051707712247086, 'learning_rate': 0.004058001163546284}. Best is trial 13 with value: 0.9758999943733215.\u001b[0m\n"
     ]
    },
    {
     "name": "stdout",
     "output_type": "stream",
     "text": [
      "Epoch 1/20\n",
      "309/315 [============================>.] - ETA: 0s - loss: 1.1121 - accuracy: 0.6567"
     ]
    },
    {
     "name": "stderr",
     "output_type": "stream",
     "text": [
      "\u001b[32m[I 2022-03-28 17:40:54,053]\u001b[0m Trial 17 pruned. Trial was pruned at epoch 0.\u001b[0m\n"
     ]
    },
    {
     "name": "stdout",
     "output_type": "stream",
     "text": [
      "Epoch 1/20\n",
      "305/315 [============================>.] - ETA: 0s - loss: 1.7002 - accuracy: 0.3612"
     ]
    },
    {
     "name": "stderr",
     "output_type": "stream",
     "text": [
      "\u001b[32m[I 2022-03-28 17:40:56,315]\u001b[0m Trial 18 pruned. Trial was pruned at epoch 0.\u001b[0m\n"
     ]
    },
    {
     "name": "stdout",
     "output_type": "stream",
     "text": [
      "Epoch 1/20\n",
      "315/315 [==============================] - 1s 4ms/step - loss: 0.6806 - accuracy: 0.8096 - val_loss: 0.3113 - val_accuracy: 0.9146\n",
      "Epoch 2/20\n",
      "315/315 [==============================] - 1s 3ms/step - loss: 0.3478 - accuracy: 0.8987 - val_loss: 0.2438 - val_accuracy: 0.9309\n",
      "Epoch 3/20\n",
      "315/315 [==============================] - 1s 4ms/step - loss: 0.2814 - accuracy: 0.9191 - val_loss: 0.2064 - val_accuracy: 0.9405\n",
      "Epoch 4/20\n",
      "315/315 [==============================] - 1s 3ms/step - loss: 0.2439 - accuracy: 0.9301 - val_loss: 0.1840 - val_accuracy: 0.9470\n",
      "Epoch 5/20\n",
      "315/315 [==============================] - 1s 4ms/step - loss: 0.2212 - accuracy: 0.9365 - val_loss: 0.1698 - val_accuracy: 0.9510\n",
      "Epoch 6/20\n",
      "315/315 [==============================] - 1s 4ms/step - loss: 0.2019 - accuracy: 0.9425 - val_loss: 0.1538 - val_accuracy: 0.9562\n",
      "Epoch 7/20\n",
      "315/315 [==============================] - 1s 4ms/step - loss: 0.1857 - accuracy: 0.9466 - val_loss: 0.1471 - val_accuracy: 0.9581\n",
      "Epoch 8/20\n",
      "315/315 [==============================] - 1s 4ms/step - loss: 0.1755 - accuracy: 0.9491 - val_loss: 0.1380 - val_accuracy: 0.9609\n",
      "Epoch 9/20\n",
      "315/315 [==============================] - 1s 3ms/step - loss: 0.1636 - accuracy: 0.9521 - val_loss: 0.1322 - val_accuracy: 0.9617\n",
      "Epoch 10/20\n",
      "315/315 [==============================] - 1s 4ms/step - loss: 0.1586 - accuracy: 0.9534 - val_loss: 0.1299 - val_accuracy: 0.9630\n",
      "Epoch 11/20\n",
      "315/315 [==============================] - 1s 4ms/step - loss: 0.1468 - accuracy: 0.9578 - val_loss: 0.1236 - val_accuracy: 0.9645\n",
      "Epoch 12/20\n",
      "315/315 [==============================] - 1s 3ms/step - loss: 0.1453 - accuracy: 0.9576 - val_loss: 0.1207 - val_accuracy: 0.9650\n",
      "Epoch 13/20\n",
      "315/315 [==============================] - 1s 3ms/step - loss: 0.1387 - accuracy: 0.9599 - val_loss: 0.1165 - val_accuracy: 0.9672\n",
      "Epoch 14/20\n",
      "315/315 [==============================] - 1s 4ms/step - loss: 0.1334 - accuracy: 0.9619 - val_loss: 0.1145 - val_accuracy: 0.9668\n",
      "Epoch 15/20\n",
      "315/315 [==============================] - 1s 3ms/step - loss: 0.1291 - accuracy: 0.9625 - val_loss: 0.1113 - val_accuracy: 0.9687\n",
      "Epoch 16/20\n",
      "315/315 [==============================] - 1s 3ms/step - loss: 0.1263 - accuracy: 0.9635 - val_loss: 0.1092 - val_accuracy: 0.9682\n",
      "Epoch 17/20\n",
      "315/315 [==============================] - 1s 4ms/step - loss: 0.1232 - accuracy: 0.9634 - val_loss: 0.1087 - val_accuracy: 0.9687\n",
      "Epoch 18/20\n",
      "315/315 [==============================] - 1s 3ms/step - loss: 0.1177 - accuracy: 0.9657 - val_loss: 0.1076 - val_accuracy: 0.9690\n",
      "Epoch 19/20\n",
      "315/315 [==============================] - 1s 4ms/step - loss: 0.1160 - accuracy: 0.9649 - val_loss: 0.1041 - val_accuracy: 0.9697\n",
      "Epoch 20/20\n",
      "315/315 [==============================] - 1s 3ms/step - loss: 0.1104 - accuracy: 0.9671 - val_loss: 0.1027 - val_accuracy: 0.9710\n"
     ]
    },
    {
     "name": "stderr",
     "output_type": "stream",
     "text": [
      "\u001b[32m[I 2022-03-28 17:41:20,974]\u001b[0m Trial 19 finished with value: 0.9718000292778015 and parameters: {'n_layers': 1, 'n_units_l0': 92, 'dropout_l0': 0.3157072297324135, 'learning_rate': 0.0005182067290333619}. Best is trial 13 with value: 0.9758999943733215.\u001b[0m\n"
     ]
    },
    {
     "name": "stdout",
     "output_type": "stream",
     "text": [
      "Epoch 1/20\n",
      "312/315 [============================>.] - ETA: 0s - loss: 2.1033 - accuracy: 0.2625"
     ]
    },
    {
     "name": "stderr",
     "output_type": "stream",
     "text": [
      "\u001b[32m[I 2022-03-28 17:41:23,015]\u001b[0m Trial 20 pruned. Trial was pruned at epoch 0.\u001b[0m\n"
     ]
    },
    {
     "name": "stdout",
     "output_type": "stream",
     "text": [
      "Epoch 1/20\n",
      "312/315 [============================>.] - ETA: 0s - loss: 0.8209 - accuracy: 0.7651"
     ]
    },
    {
     "name": "stderr",
     "output_type": "stream",
     "text": [
      "\u001b[32m[I 2022-03-28 17:41:25,065]\u001b[0m Trial 21 pruned. Trial was pruned at epoch 0.\u001b[0m\n"
     ]
    },
    {
     "name": "stdout",
     "output_type": "stream",
     "text": [
      "Epoch 1/20\n",
      "315/315 [==============================] - 1s 3ms/step - loss: 0.6431 - accuracy: 0.8207 - val_loss: 0.3316 - val_accuracy: 0.9088\n",
      "Epoch 2/20\n",
      "315/315 [==============================] - 1s 3ms/step - loss: 0.3190 - accuracy: 0.9088 - val_loss: 0.2594 - val_accuracy: 0.9249\n",
      "Epoch 3/20\n",
      "315/315 [==============================] - 1s 3ms/step - loss: 0.2582 - accuracy: 0.9254 - val_loss: 0.2224 - val_accuracy: 0.9351\n",
      "Epoch 4/20\n",
      "315/315 [==============================] - 1s 3ms/step - loss: 0.2212 - accuracy: 0.9368 - val_loss: 0.1950 - val_accuracy: 0.9432\n",
      "Epoch 5/20\n",
      "315/315 [==============================] - 1s 3ms/step - loss: 0.1944 - accuracy: 0.9443 - val_loss: 0.1735 - val_accuracy: 0.9494\n",
      "Epoch 6/20\n",
      "315/315 [==============================] - 1s 3ms/step - loss: 0.1770 - accuracy: 0.9496 - val_loss: 0.1623 - val_accuracy: 0.9528\n",
      "Epoch 7/20\n",
      "315/315 [==============================] - 1s 3ms/step - loss: 0.1634 - accuracy: 0.9525 - val_loss: 0.1537 - val_accuracy: 0.9555\n",
      "Epoch 8/20\n",
      "315/315 [==============================] - 1s 3ms/step - loss: 0.1505 - accuracy: 0.9559 - val_loss: 0.1420 - val_accuracy: 0.9593\n",
      "Epoch 9/20\n",
      "315/315 [==============================] - 1s 5ms/step - loss: 0.1393 - accuracy: 0.9601 - val_loss: 0.1359 - val_accuracy: 0.9607\n",
      "Epoch 10/20\n",
      "315/315 [==============================] - 1s 4ms/step - loss: 0.1331 - accuracy: 0.9618 - val_loss: 0.1307 - val_accuracy: 0.9635\n",
      "Epoch 11/20\n",
      "315/315 [==============================] - 1s 4ms/step - loss: 0.1229 - accuracy: 0.9640 - val_loss: 0.1274 - val_accuracy: 0.9637\n",
      "Epoch 12/20\n",
      "315/315 [==============================] - 1s 4ms/step - loss: 0.1180 - accuracy: 0.9648 - val_loss: 0.1245 - val_accuracy: 0.9649\n",
      "Epoch 13/20\n",
      "315/315 [==============================] - 1s 4ms/step - loss: 0.1109 - accuracy: 0.9672 - val_loss: 0.1201 - val_accuracy: 0.9657\n",
      "Epoch 14/20\n",
      "315/315 [==============================] - 2s 6ms/step - loss: 0.1093 - accuracy: 0.9676 - val_loss: 0.1186 - val_accuracy: 0.9658\n",
      "Epoch 15/20\n",
      "315/315 [==============================] - 1s 5ms/step - loss: 0.1049 - accuracy: 0.9694 - val_loss: 0.1147 - val_accuracy: 0.9675\n",
      "Epoch 16/20\n",
      "315/315 [==============================] - 1s 4ms/step - loss: 0.1003 - accuracy: 0.9704 - val_loss: 0.1154 - val_accuracy: 0.9675\n",
      "Epoch 17/20\n",
      "315/315 [==============================] - 1s 3ms/step - loss: 0.0936 - accuracy: 0.9723 - val_loss: 0.1122 - val_accuracy: 0.9687\n",
      "Epoch 18/20\n",
      "315/315 [==============================] - 1s 3ms/step - loss: 0.0930 - accuracy: 0.9726 - val_loss: 0.1100 - val_accuracy: 0.9694\n",
      "Epoch 19/20\n",
      "315/315 [==============================] - 1s 3ms/step - loss: 0.0898 - accuracy: 0.9739 - val_loss: 0.1100 - val_accuracy: 0.9689\n",
      "Epoch 20/20\n",
      "315/315 [==============================] - 1s 3ms/step - loss: 0.0848 - accuracy: 0.9749 - val_loss: 0.1083 - val_accuracy: 0.9702\n"
     ]
    },
    {
     "name": "stderr",
     "output_type": "stream",
     "text": [
      "\u001b[32m[I 2022-03-28 17:41:50,440]\u001b[0m Trial 22 finished with value: 0.9732999801635742 and parameters: {'n_layers': 1, 'n_units_l0': 119, 'dropout_l0': 0.3202756538873755, 'learning_rate': 0.0004623760977252126}. Best is trial 13 with value: 0.9758999943733215.\u001b[0m\n"
     ]
    },
    {
     "name": "stdout",
     "output_type": "stream",
     "text": [
      "Epoch 1/20\n",
      "315/315 [==============================] - 1s 4ms/step - loss: 0.3977 - accuracy: 0.8839 - val_loss: 0.2012 - val_accuracy: 0.9406\n",
      "Epoch 2/20\n",
      "315/315 [==============================] - 1s 3ms/step - loss: 0.1991 - accuracy: 0.9417 - val_loss: 0.1459 - val_accuracy: 0.9552\n",
      "Epoch 3/20\n",
      "315/315 [==============================] - 1s 3ms/step - loss: 0.1560 - accuracy: 0.9538 - val_loss: 0.1178 - val_accuracy: 0.9658\n",
      "Epoch 4/20\n",
      "315/315 [==============================] - 1s 3ms/step - loss: 0.1263 - accuracy: 0.9618 - val_loss: 0.1058 - val_accuracy: 0.9686\n",
      "Epoch 5/20\n",
      "315/315 [==============================] - 1s 3ms/step - loss: 0.1149 - accuracy: 0.9652 - val_loss: 0.0956 - val_accuracy: 0.9718\n",
      "Epoch 6/20\n",
      "315/315 [==============================] - 1s 3ms/step - loss: 0.1009 - accuracy: 0.9694 - val_loss: 0.0970 - val_accuracy: 0.9703\n",
      "Epoch 7/20\n",
      "315/315 [==============================] - 1s 3ms/step - loss: 0.0918 - accuracy: 0.9719 - val_loss: 0.0902 - val_accuracy: 0.9744\n",
      "Epoch 8/20\n",
      "315/315 [==============================] - 1s 4ms/step - loss: 0.0835 - accuracy: 0.9747 - val_loss: 0.0882 - val_accuracy: 0.9747\n",
      "Epoch 9/20\n",
      "315/315 [==============================] - 1s 4ms/step - loss: 0.0790 - accuracy: 0.9768 - val_loss: 0.0861 - val_accuracy: 0.9762\n",
      "Epoch 10/20\n",
      "315/315 [==============================] - 1s 3ms/step - loss: 0.0715 - accuracy: 0.9787 - val_loss: 0.0949 - val_accuracy: 0.9746\n",
      "Epoch 11/20\n",
      "315/315 [==============================] - 1s 3ms/step - loss: 0.0696 - accuracy: 0.9789 - val_loss: 0.0927 - val_accuracy: 0.9746\n",
      "Epoch 12/20\n",
      "315/315 [==============================] - 1s 3ms/step - loss: 0.0649 - accuracy: 0.9794 - val_loss: 0.0884 - val_accuracy: 0.9765\n",
      "Epoch 13/20\n",
      "315/315 [==============================] - 1s 3ms/step - loss: 0.0607 - accuracy: 0.9814 - val_loss: 0.0896 - val_accuracy: 0.9772\n",
      "Epoch 14/20\n",
      "315/315 [==============================] - 1s 3ms/step - loss: 0.0581 - accuracy: 0.9821 - val_loss: 0.0889 - val_accuracy: 0.9780\n",
      "Epoch 15/20\n",
      "315/315 [==============================] - 1s 3ms/step - loss: 0.0567 - accuracy: 0.9830 - val_loss: 0.0901 - val_accuracy: 0.9772\n",
      "Epoch 16/20\n",
      "315/315 [==============================] - 1s 3ms/step - loss: 0.0548 - accuracy: 0.9831 - val_loss: 0.0889 - val_accuracy: 0.9779\n",
      "Epoch 17/20\n",
      "315/315 [==============================] - 1s 4ms/step - loss: 0.0505 - accuracy: 0.9840 - val_loss: 0.0943 - val_accuracy: 0.9771\n",
      "Epoch 18/20\n",
      "315/315 [==============================] - 1s 4ms/step - loss: 0.0512 - accuracy: 0.9845 - val_loss: 0.0918 - val_accuracy: 0.9776\n",
      "Epoch 19/20\n",
      "315/315 [==============================] - 1s 4ms/step - loss: 0.0456 - accuracy: 0.9860 - val_loss: 0.0923 - val_accuracy: 0.9790\n",
      "Epoch 20/20\n",
      "315/315 [==============================] - 1s 4ms/step - loss: 0.0454 - accuracy: 0.9857 - val_loss: 0.0977 - val_accuracy: 0.9777\n"
     ]
    },
    {
     "name": "stderr",
     "output_type": "stream",
     "text": [
      "\u001b[32m[I 2022-03-28 17:42:14,303]\u001b[0m Trial 23 finished with value: 0.9772999882698059 and parameters: {'n_layers': 1, 'n_units_l0': 127, 'dropout_l0': 0.27241247567098176, 'learning_rate': 0.0016823146934835601}. Best is trial 23 with value: 0.9772999882698059.\u001b[0m\n"
     ]
    },
    {
     "name": "stdout",
     "output_type": "stream",
     "text": [
      "Epoch 1/20\n",
      "315/315 [==============================] - 1s 4ms/step - loss: 0.4476 - accuracy: 0.8685 - val_loss: 0.2567 - val_accuracy: 0.9244\n",
      "Epoch 2/20\n",
      "315/315 [==============================] - 1s 3ms/step - loss: 0.2405 - accuracy: 0.9293 - val_loss: 0.1869 - val_accuracy: 0.9438\n",
      "Epoch 3/20\n",
      "315/315 [==============================] - 1s 3ms/step - loss: 0.1919 - accuracy: 0.9413 - val_loss: 0.1541 - val_accuracy: 0.9544\n",
      "Epoch 4/20\n",
      "315/315 [==============================] - 1s 3ms/step - loss: 0.1656 - accuracy: 0.9501 - val_loss: 0.1420 - val_accuracy: 0.9582\n",
      "Epoch 5/20\n",
      "315/315 [==============================] - 1s 3ms/step - loss: 0.1513 - accuracy: 0.9553 - val_loss: 0.1307 - val_accuracy: 0.9611\n",
      "Epoch 6/20\n",
      "315/315 [==============================] - 1s 3ms/step - loss: 0.1367 - accuracy: 0.9585 - val_loss: 0.1235 - val_accuracy: 0.9647\n",
      "Epoch 7/20\n",
      "315/315 [==============================] - 1s 4ms/step - loss: 0.1290 - accuracy: 0.9617 - val_loss: 0.1234 - val_accuracy: 0.9636\n",
      "Epoch 8/20\n",
      "315/315 [==============================] - 1s 3ms/step - loss: 0.1218 - accuracy: 0.9633 - val_loss: 0.1166 - val_accuracy: 0.9670\n",
      "Epoch 9/20\n",
      "315/315 [==============================] - 1s 3ms/step - loss: 0.1137 - accuracy: 0.9655 - val_loss: 0.1179 - val_accuracy: 0.9671\n",
      "Epoch 10/20\n",
      "315/315 [==============================] - 1s 4ms/step - loss: 0.1076 - accuracy: 0.9661 - val_loss: 0.1149 - val_accuracy: 0.9688\n",
      "Epoch 11/20\n",
      "315/315 [==============================] - 1s 3ms/step - loss: 0.1074 - accuracy: 0.9682 - val_loss: 0.1116 - val_accuracy: 0.9702\n",
      "Epoch 12/20\n",
      "315/315 [==============================] - 1s 3ms/step - loss: 0.1013 - accuracy: 0.9700 - val_loss: 0.1164 - val_accuracy: 0.9683\n",
      "Epoch 13/20\n",
      "315/315 [==============================] - 1s 3ms/step - loss: 0.0980 - accuracy: 0.9707 - val_loss: 0.1145 - val_accuracy: 0.9703\n",
      "Epoch 14/20\n",
      "315/315 [==============================] - 1s 3ms/step - loss: 0.0949 - accuracy: 0.9710 - val_loss: 0.1182 - val_accuracy: 0.9687\n",
      "Epoch 15/20\n",
      "315/315 [==============================] - 1s 3ms/step - loss: 0.0918 - accuracy: 0.9720 - val_loss: 0.1136 - val_accuracy: 0.9711\n",
      "Epoch 16/20\n",
      "315/315 [==============================] - 1s 3ms/step - loss: 0.0888 - accuracy: 0.9735 - val_loss: 0.1257 - val_accuracy: 0.9682\n",
      "Epoch 17/20\n",
      "315/315 [==============================] - 1s 3ms/step - loss: 0.0848 - accuracy: 0.9744 - val_loss: 0.1168 - val_accuracy: 0.9710\n",
      "Epoch 18/20\n",
      "315/315 [==============================] - 1s 3ms/step - loss: 0.0841 - accuracy: 0.9744 - val_loss: 0.1190 - val_accuracy: 0.9710\n",
      "Epoch 19/20\n",
      "315/315 [==============================] - 1s 3ms/step - loss: 0.0816 - accuracy: 0.9752 - val_loss: 0.1188 - val_accuracy: 0.9706\n",
      "Epoch 20/20\n",
      "315/315 [==============================] - 1s 3ms/step - loss: 0.0792 - accuracy: 0.9754 - val_loss: 0.1204 - val_accuracy: 0.9720\n"
     ]
    },
    {
     "name": "stderr",
     "output_type": "stream",
     "text": [
      "\u001b[32m[I 2022-03-28 17:42:37,595]\u001b[0m Trial 24 finished with value: 0.9746999740600586 and parameters: {'n_layers': 1, 'n_units_l0': 71, 'dropout_l0': 0.2573302609163076, 'learning_rate': 0.0015932535278841515}. Best is trial 23 with value: 0.9772999882698059.\u001b[0m\n"
     ]
    },
    {
     "name": "stdout",
     "output_type": "stream",
     "text": [
      "Epoch 1/20\n",
      "307/315 [============================>.] - ETA: 0s - loss: 1.8417 - accuracy: 0.3060"
     ]
    },
    {
     "name": "stderr",
     "output_type": "stream",
     "text": [
      "\u001b[32m[I 2022-03-28 17:42:39,792]\u001b[0m Trial 25 pruned. Trial was pruned at epoch 0.\u001b[0m\n"
     ]
    },
    {
     "name": "stdout",
     "output_type": "stream",
     "text": [
      "Epoch 1/20\n",
      "315/315 [==============================] - 1s 4ms/step - loss: 0.4678 - accuracy: 0.8604 - val_loss: 0.2503 - val_accuracy: 0.9291\n",
      "Epoch 2/20\n",
      "315/315 [==============================] - 1s 3ms/step - loss: 0.2525 - accuracy: 0.9263 - val_loss: 0.1930 - val_accuracy: 0.9445\n",
      "Epoch 3/20\n",
      "315/315 [==============================] - 1s 3ms/step - loss: 0.2016 - accuracy: 0.9399 - val_loss: 0.1606 - val_accuracy: 0.9561\n",
      "Epoch 4/20\n",
      "315/315 [==============================] - 1s 3ms/step - loss: 0.1745 - accuracy: 0.9481 - val_loss: 0.1467 - val_accuracy: 0.9589\n",
      "Epoch 5/20\n",
      "315/315 [==============================] - 1s 3ms/step - loss: 0.1536 - accuracy: 0.9552 - val_loss: 0.1428 - val_accuracy: 0.9594\n",
      "Epoch 6/20\n",
      "315/315 [==============================] - 1s 3ms/step - loss: 0.1423 - accuracy: 0.9568 - val_loss: 0.1369 - val_accuracy: 0.9618\n",
      "Epoch 7/20\n",
      "315/315 [==============================] - 1s 4ms/step - loss: 0.1331 - accuracy: 0.9602 - val_loss: 0.1315 - val_accuracy: 0.9635\n",
      "Epoch 8/20\n",
      "315/315 [==============================] - 1s 3ms/step - loss: 0.1242 - accuracy: 0.9625 - val_loss: 0.1314 - val_accuracy: 0.9649\n",
      "Epoch 9/20\n",
      "315/315 [==============================] - 1s 3ms/step - loss: 0.1191 - accuracy: 0.9641 - val_loss: 0.1190 - val_accuracy: 0.9671\n",
      "Epoch 10/20\n",
      "315/315 [==============================] - 1s 3ms/step - loss: 0.1152 - accuracy: 0.9659 - val_loss: 0.1229 - val_accuracy: 0.9678\n",
      "Epoch 11/20\n",
      "315/315 [==============================] - 1s 3ms/step - loss: 0.1092 - accuracy: 0.9668 - val_loss: 0.1225 - val_accuracy: 0.9671\n",
      "Epoch 12/20\n",
      "315/315 [==============================] - 1s 3ms/step - loss: 0.1034 - accuracy: 0.9688 - val_loss: 0.1229 - val_accuracy: 0.9668\n",
      "Epoch 13/20\n",
      "315/315 [==============================] - 1s 3ms/step - loss: 0.0995 - accuracy: 0.9700 - val_loss: 0.1198 - val_accuracy: 0.9682\n",
      "Epoch 14/20\n",
      "315/315 [==============================] - 1s 3ms/step - loss: 0.0990 - accuracy: 0.9695 - val_loss: 0.1260 - val_accuracy: 0.9684\n",
      "Epoch 15/20\n",
      "315/315 [==============================] - 1s 3ms/step - loss: 0.0938 - accuracy: 0.9710 - val_loss: 0.1310 - val_accuracy: 0.9677\n",
      "Epoch 16/20\n",
      "315/315 [==============================] - 1s 3ms/step - loss: 0.0954 - accuracy: 0.9715 - val_loss: 0.1192 - val_accuracy: 0.9701\n",
      "Epoch 17/20\n",
      "315/315 [==============================] - 1s 3ms/step - loss: 0.0948 - accuracy: 0.9716 - val_loss: 0.1220 - val_accuracy: 0.9689\n",
      "Epoch 18/20\n",
      "315/315 [==============================] - 1s 3ms/step - loss: 0.0910 - accuracy: 0.9733 - val_loss: 0.1184 - val_accuracy: 0.9711\n",
      "Epoch 19/20\n",
      "315/315 [==============================] - 1s 4ms/step - loss: 0.0888 - accuracy: 0.9729 - val_loss: 0.1236 - val_accuracy: 0.9702\n",
      "Epoch 20/20\n",
      "315/315 [==============================] - 1s 3ms/step - loss: 0.0876 - accuracy: 0.9736 - val_loss: 0.1244 - val_accuracy: 0.9697\n"
     ]
    },
    {
     "name": "stderr",
     "output_type": "stream",
     "text": [
      "\u001b[32m[I 2022-03-28 17:43:02,544]\u001b[0m Trial 26 finished with value: 0.9715999960899353 and parameters: {'n_layers': 1, 'n_units_l0': 68, 'dropout_l0': 0.25384206274646615, 'learning_rate': 0.001663183895561677}. Best is trial 23 with value: 0.9772999882698059.\u001b[0m\n"
     ]
    },
    {
     "name": "stdout",
     "output_type": "stream",
     "text": [
      "Epoch 1/20\n",
      "315/315 [==============================] - 1s 3ms/step - loss: 0.4552 - accuracy: 0.8614 - val_loss: 0.2583 - val_accuracy: 0.9177\n",
      "Epoch 2/20\n",
      "315/315 [==============================] - 1s 3ms/step - loss: 0.2901 - accuracy: 0.9136 - val_loss: 0.1996 - val_accuracy: 0.9415\n",
      "Epoch 3/20\n",
      "315/315 [==============================] - 1s 3ms/step - loss: 0.2501 - accuracy: 0.9261 - val_loss: 0.1625 - val_accuracy: 0.9527\n",
      "Epoch 4/20\n",
      "315/315 [==============================] - 1s 3ms/step - loss: 0.2286 - accuracy: 0.9317 - val_loss: 0.1782 - val_accuracy: 0.9513\n",
      "Epoch 5/20\n",
      "315/315 [==============================] - 1s 3ms/step - loss: 0.2157 - accuracy: 0.9354 - val_loss: 0.1610 - val_accuracy: 0.9555\n",
      "Epoch 6/20\n",
      "315/315 [==============================] - 1s 3ms/step - loss: 0.2115 - accuracy: 0.9376 - val_loss: 0.1727 - val_accuracy: 0.9527\n",
      "Epoch 7/20\n",
      "315/315 [==============================] - 1s 3ms/step - loss: 0.2026 - accuracy: 0.9387 - val_loss: 0.1535 - val_accuracy: 0.9574\n",
      "Epoch 8/20\n",
      "315/315 [==============================] - 1s 3ms/step - loss: 0.1990 - accuracy: 0.9410 - val_loss: 0.1716 - val_accuracy: 0.9555\n",
      "Epoch 9/20\n",
      "315/315 [==============================] - 1s 3ms/step - loss: 0.1979 - accuracy: 0.9416 - val_loss: 0.1566 - val_accuracy: 0.9594\n",
      "Epoch 10/20\n",
      "296/315 [===========================>..] - ETA: 0s - loss: 0.1866 - accuracy: 0.9454"
     ]
    },
    {
     "name": "stderr",
     "output_type": "stream",
     "text": [
      "\u001b[32m[I 2022-03-28 17:43:14,344]\u001b[0m Trial 27 pruned. Trial was pruned at epoch 9.\u001b[0m\n"
     ]
    },
    {
     "name": "stdout",
     "output_type": "stream",
     "text": [
      "Epoch 1/20\n",
      "297/315 [===========================>..] - ETA: 0s - loss: 1.9982 - accuracy: 0.2342"
     ]
    },
    {
     "name": "stderr",
     "output_type": "stream",
     "text": [
      "\u001b[32m[I 2022-03-28 17:43:16,407]\u001b[0m Trial 28 pruned. Trial was pruned at epoch 0.\u001b[0m\n"
     ]
    },
    {
     "name": "stdout",
     "output_type": "stream",
     "text": [
      "Epoch 1/20\n",
      "298/315 [===========================>..] - ETA: 0s - loss: 2.0988 - accuracy: 0.2848"
     ]
    },
    {
     "name": "stderr",
     "output_type": "stream",
     "text": [
      "\u001b[32m[I 2022-03-28 17:43:18,836]\u001b[0m Trial 29 pruned. Trial was pruned at epoch 0.\u001b[0m\n"
     ]
    },
    {
     "name": "stdout",
     "output_type": "stream",
     "text": [
      "Epoch 1/20\n",
      "315/315 [==============================] - 1s 3ms/step - loss: 0.6766 - accuracy: 0.8453 - val_loss: 0.2925 - val_accuracy: 0.9208\n",
      "Epoch 2/20\n",
      "308/315 [============================>.] - ETA: 0s - loss: 0.3795 - accuracy: 0.9083"
     ]
    },
    {
     "name": "stderr",
     "output_type": "stream",
     "text": [
      "\u001b[32m[I 2022-03-28 17:43:21,715]\u001b[0m Trial 30 pruned. Trial was pruned at epoch 1.\u001b[0m\n"
     ]
    },
    {
     "name": "stdout",
     "output_type": "stream",
     "text": [
      "Epoch 1/20\n",
      "315/315 [==============================] - 1s 3ms/step - loss: 0.4275 - accuracy: 0.8699 - val_loss: 0.2369 - val_accuracy: 0.9259\n",
      "Epoch 2/20\n",
      "315/315 [==============================] - 1s 3ms/step - loss: 0.2453 - accuracy: 0.9279 - val_loss: 0.1699 - val_accuracy: 0.9506\n",
      "Epoch 3/20\n",
      "315/315 [==============================] - 1s 3ms/step - loss: 0.2125 - accuracy: 0.9365 - val_loss: 0.1544 - val_accuracy: 0.9563\n",
      "Epoch 4/20\n",
      "315/315 [==============================] - 1s 3ms/step - loss: 0.1950 - accuracy: 0.9431 - val_loss: 0.1469 - val_accuracy: 0.9601\n",
      "Epoch 5/20\n",
      "315/315 [==============================] - 1s 3ms/step - loss: 0.1797 - accuracy: 0.9461 - val_loss: 0.1384 - val_accuracy: 0.9648\n",
      "Epoch 6/20\n",
      "315/315 [==============================] - 1s 3ms/step - loss: 0.1758 - accuracy: 0.9476 - val_loss: 0.1491 - val_accuracy: 0.9596\n",
      "Epoch 7/20\n",
      "315/315 [==============================] - 1s 3ms/step - loss: 0.1672 - accuracy: 0.9520 - val_loss: 0.1400 - val_accuracy: 0.9672\n",
      "Epoch 8/20\n",
      "315/315 [==============================] - 1s 3ms/step - loss: 0.1621 - accuracy: 0.9532 - val_loss: 0.1397 - val_accuracy: 0.9683\n",
      "Epoch 9/20\n",
      "315/315 [==============================] - 1s 3ms/step - loss: 0.1571 - accuracy: 0.9552 - val_loss: 0.1432 - val_accuracy: 0.9666\n",
      "Epoch 10/20\n",
      "315/315 [==============================] - 1s 3ms/step - loss: 0.1446 - accuracy: 0.9572 - val_loss: 0.1485 - val_accuracy: 0.9659\n",
      "Epoch 11/20\n",
      "315/315 [==============================] - 1s 3ms/step - loss: 0.1456 - accuracy: 0.9573 - val_loss: 0.1446 - val_accuracy: 0.9678\n",
      "Epoch 12/20\n",
      "315/315 [==============================] - 1s 3ms/step - loss: 0.1437 - accuracy: 0.9585 - val_loss: 0.1533 - val_accuracy: 0.9672\n",
      "Epoch 13/20\n",
      "315/315 [==============================] - 1s 3ms/step - loss: 0.1424 - accuracy: 0.9591 - val_loss: 0.1549 - val_accuracy: 0.9673\n",
      "Epoch 14/20\n",
      "315/315 [==============================] - 1s 3ms/step - loss: 0.1377 - accuracy: 0.9602 - val_loss: 0.1570 - val_accuracy: 0.9685\n",
      "Epoch 15/20\n",
      "315/315 [==============================] - 1s 3ms/step - loss: 0.1418 - accuracy: 0.9597 - val_loss: 0.1671 - val_accuracy: 0.9671\n",
      "Epoch 16/20\n",
      "315/315 [==============================] - 1s 3ms/step - loss: 0.1334 - accuracy: 0.9607 - val_loss: 0.1737 - val_accuracy: 0.9650\n",
      "Epoch 17/20\n",
      "315/315 [==============================] - 1s 3ms/step - loss: 0.1342 - accuracy: 0.9607 - val_loss: 0.1630 - val_accuracy: 0.9693\n",
      "Epoch 18/20\n",
      "315/315 [==============================] - 1s 3ms/step - loss: 0.1302 - accuracy: 0.9625 - val_loss: 0.1644 - val_accuracy: 0.9667\n",
      "Epoch 19/20\n",
      "315/315 [==============================] - 1s 3ms/step - loss: 0.1260 - accuracy: 0.9633 - val_loss: 0.1823 - val_accuracy: 0.9687\n",
      "Epoch 20/20\n",
      "315/315 [==============================] - 1s 3ms/step - loss: 0.1333 - accuracy: 0.9619 - val_loss: 0.1750 - val_accuracy: 0.9698\n"
     ]
    },
    {
     "name": "stderr",
     "output_type": "stream",
     "text": [
      "\u001b[32m[I 2022-03-28 17:43:43,993]\u001b[0m Trial 31 finished with value: 0.9688000082969666 and parameters: {'n_layers': 1, 'n_units_l0': 75, 'dropout_l0': 0.33081009885434187, 'learning_rate': 0.0048884970689701554}. Best is trial 23 with value: 0.9772999882698059.\u001b[0m\n"
     ]
    },
    {
     "name": "stdout",
     "output_type": "stream",
     "text": [
      "Epoch 1/20\n",
      "315/315 [==============================] - 1s 3ms/step - loss: 0.5895 - accuracy: 0.8302 - val_loss: 0.2898 - val_accuracy: 0.9192\n",
      "Epoch 2/20\n",
      "315/315 [==============================] - 1s 3ms/step - loss: 0.3198 - accuracy: 0.9085 - val_loss: 0.2249 - val_accuracy: 0.9358\n",
      "Epoch 3/20\n",
      "315/315 [==============================] - 1s 3ms/step - loss: 0.2650 - accuracy: 0.9228 - val_loss: 0.1963 - val_accuracy: 0.9433\n",
      "Epoch 4/20\n",
      "315/315 [==============================] - 1s 3ms/step - loss: 0.2348 - accuracy: 0.9321 - val_loss: 0.1754 - val_accuracy: 0.9491\n",
      "Epoch 5/20\n",
      "315/315 [==============================] - 1s 3ms/step - loss: 0.2113 - accuracy: 0.9384 - val_loss: 0.1614 - val_accuracy: 0.9516\n",
      "Epoch 6/20\n",
      "300/315 [===========================>..] - ETA: 0s - loss: 0.1960 - accuracy: 0.9423"
     ]
    },
    {
     "name": "stderr",
     "output_type": "stream",
     "text": [
      "\u001b[32m[I 2022-03-28 17:43:51,442]\u001b[0m Trial 32 pruned. Trial was pruned at epoch 5.\u001b[0m\n"
     ]
    },
    {
     "name": "stdout",
     "output_type": "stream",
     "text": [
      "Epoch 1/20\n",
      "315/315 [==============================] - 1s 3ms/step - loss: 0.4400 - accuracy: 0.8715 - val_loss: 0.2173 - val_accuracy: 0.9362\n",
      "Epoch 2/20\n",
      "315/315 [==============================] - 1s 3ms/step - loss: 0.2460 - accuracy: 0.9278 - val_loss: 0.1713 - val_accuracy: 0.9495\n",
      "Epoch 3/20\n",
      "315/315 [==============================] - 1s 3ms/step - loss: 0.1986 - accuracy: 0.9416 - val_loss: 0.1543 - val_accuracy: 0.9548\n",
      "Epoch 4/20\n",
      "315/315 [==============================] - 1s 3ms/step - loss: 0.1757 - accuracy: 0.9478 - val_loss: 0.1433 - val_accuracy: 0.9579\n",
      "Epoch 5/20\n",
      "315/315 [==============================] - 1s 3ms/step - loss: 0.1637 - accuracy: 0.9518 - val_loss: 0.1367 - val_accuracy: 0.9623\n",
      "Epoch 6/20\n",
      "315/315 [==============================] - 1s 3ms/step - loss: 0.1509 - accuracy: 0.9561 - val_loss: 0.1279 - val_accuracy: 0.9652\n",
      "Epoch 7/20\n",
      "315/315 [==============================] - 1s 3ms/step - loss: 0.1438 - accuracy: 0.9575 - val_loss: 0.1306 - val_accuracy: 0.9652\n",
      "Epoch 8/20\n",
      "315/315 [==============================] - 1s 4ms/step - loss: 0.1324 - accuracy: 0.9613 - val_loss: 0.1263 - val_accuracy: 0.9666\n",
      "Epoch 9/20\n",
      "315/315 [==============================] - 1s 3ms/step - loss: 0.1309 - accuracy: 0.9613 - val_loss: 0.1242 - val_accuracy: 0.9678\n",
      "Epoch 10/20\n",
      "315/315 [==============================] - 1s 3ms/step - loss: 0.1276 - accuracy: 0.9625 - val_loss: 0.1264 - val_accuracy: 0.9666\n",
      "Epoch 11/20\n",
      "315/315 [==============================] - 1s 3ms/step - loss: 0.1210 - accuracy: 0.9642 - val_loss: 0.1295 - val_accuracy: 0.9679\n",
      "Epoch 12/20\n",
      "315/315 [==============================] - 1s 3ms/step - loss: 0.1173 - accuracy: 0.9636 - val_loss: 0.1289 - val_accuracy: 0.9681\n",
      "Epoch 13/20\n",
      "315/315 [==============================] - 1s 3ms/step - loss: 0.1114 - accuracy: 0.9671 - val_loss: 0.1290 - val_accuracy: 0.9681\n",
      "Epoch 14/20\n",
      "315/315 [==============================] - 1s 3ms/step - loss: 0.1131 - accuracy: 0.9666 - val_loss: 0.1256 - val_accuracy: 0.9693\n",
      "Epoch 15/20\n",
      "315/315 [==============================] - 1s 3ms/step - loss: 0.1105 - accuracy: 0.9677 - val_loss: 0.1281 - val_accuracy: 0.9690\n",
      "Epoch 16/20\n",
      "315/315 [==============================] - 1s 3ms/step - loss: 0.1081 - accuracy: 0.9673 - val_loss: 0.1269 - val_accuracy: 0.9697\n",
      "Epoch 17/20\n",
      "315/315 [==============================] - 1s 3ms/step - loss: 0.1042 - accuracy: 0.9692 - val_loss: 0.1318 - val_accuracy: 0.9688\n",
      "Epoch 18/20\n",
      "315/315 [==============================] - 1s 3ms/step - loss: 0.1058 - accuracy: 0.9695 - val_loss: 0.1384 - val_accuracy: 0.9673\n",
      "Epoch 19/20\n",
      "315/315 [==============================] - 1s 3ms/step - loss: 0.1002 - accuracy: 0.9695 - val_loss: 0.1427 - val_accuracy: 0.9683\n",
      "Epoch 20/20\n",
      "315/315 [==============================] - 1s 3ms/step - loss: 0.1002 - accuracy: 0.9704 - val_loss: 0.1378 - val_accuracy: 0.9689\n"
     ]
    },
    {
     "name": "stderr",
     "output_type": "stream",
     "text": [
      "\u001b[32m[I 2022-03-28 17:44:14,273]\u001b[0m Trial 33 finished with value: 0.9735999703407288 and parameters: {'n_layers': 1, 'n_units_l0': 89, 'dropout_l0': 0.3830165017404298, 'learning_rate': 0.0019798112264343202}. Best is trial 23 with value: 0.9772999882698059.\u001b[0m\n"
     ]
    },
    {
     "name": "stdout",
     "output_type": "stream",
     "text": [
      "Epoch 1/20\n",
      "315/315 [==============================] - 1s 3ms/step - loss: 0.4249 - accuracy: 0.8691 - val_loss: 0.2126 - val_accuracy: 0.9368\n",
      "Epoch 2/20\n",
      "315/315 [==============================] - 1s 3ms/step - loss: 0.2523 - accuracy: 0.9233 - val_loss: 0.2155 - val_accuracy: 0.9433\n",
      "Epoch 3/20\n",
      "315/315 [==============================] - 1s 3ms/step - loss: 0.2235 - accuracy: 0.9331 - val_loss: 0.1820 - val_accuracy: 0.9534\n",
      "Epoch 4/20\n",
      "315/315 [==============================] - 1s 3ms/step - loss: 0.2023 - accuracy: 0.9397 - val_loss: 0.1842 - val_accuracy: 0.9563\n",
      "Epoch 5/20\n",
      "315/315 [==============================] - 1s 3ms/step - loss: 0.1907 - accuracy: 0.9439 - val_loss: 0.1779 - val_accuracy: 0.9574\n",
      "Epoch 6/20\n",
      "315/315 [==============================] - 1s 4ms/step - loss: 0.1845 - accuracy: 0.9467 - val_loss: 0.1980 - val_accuracy: 0.9554\n",
      "Epoch 7/20\n",
      "315/315 [==============================] - 1s 4ms/step - loss: 0.1812 - accuracy: 0.9473 - val_loss: 0.1828 - val_accuracy: 0.9580\n",
      "Epoch 8/20\n",
      "305/315 [============================>.] - ETA: 0s - loss: 0.1794 - accuracy: 0.9491"
     ]
    },
    {
     "name": "stderr",
     "output_type": "stream",
     "text": [
      "\u001b[32m[I 2022-03-28 17:44:24,188]\u001b[0m Trial 34 pruned. Trial was pruned at epoch 7.\u001b[0m\n"
     ]
    },
    {
     "name": "stdout",
     "output_type": "stream",
     "text": [
      "Epoch 1/20\n",
      "315/315 [==============================] - 2s 4ms/step - loss: 0.5800 - accuracy: 0.8356 - val_loss: 0.2912 - val_accuracy: 0.9183\n",
      "Epoch 2/20\n",
      "315/315 [==============================] - 1s 4ms/step - loss: 0.2984 - accuracy: 0.9134 - val_loss: 0.2254 - val_accuracy: 0.9342\n",
      "Epoch 3/20\n",
      "315/315 [==============================] - 1s 4ms/step - loss: 0.2421 - accuracy: 0.9295 - val_loss: 0.1876 - val_accuracy: 0.9460\n",
      "Epoch 4/20\n",
      "315/315 [==============================] - 1s 4ms/step - loss: 0.2084 - accuracy: 0.9397 - val_loss: 0.1740 - val_accuracy: 0.9480\n",
      "Epoch 5/20\n",
      "315/315 [==============================] - 1s 3ms/step - loss: 0.1856 - accuracy: 0.9476 - val_loss: 0.1530 - val_accuracy: 0.9559\n",
      "Epoch 6/20\n",
      "315/315 [==============================] - 1s 3ms/step - loss: 0.1669 - accuracy: 0.9518 - val_loss: 0.1424 - val_accuracy: 0.9577\n",
      "Epoch 7/20\n",
      "315/315 [==============================] - 1s 3ms/step - loss: 0.1570 - accuracy: 0.9549 - val_loss: 0.1358 - val_accuracy: 0.9593\n",
      "Epoch 8/20\n",
      "315/315 [==============================] - 1s 3ms/step - loss: 0.1480 - accuracy: 0.9582 - val_loss: 0.1284 - val_accuracy: 0.9622\n",
      "Epoch 9/20\n",
      "315/315 [==============================] - 1s 4ms/step - loss: 0.1389 - accuracy: 0.9599 - val_loss: 0.1249 - val_accuracy: 0.9632\n",
      "Epoch 10/20\n",
      "315/315 [==============================] - 1s 3ms/step - loss: 0.1321 - accuracy: 0.9618 - val_loss: 0.1194 - val_accuracy: 0.9647\n",
      "Epoch 11/20\n",
      "315/315 [==============================] - 1s 3ms/step - loss: 0.1268 - accuracy: 0.9635 - val_loss: 0.1162 - val_accuracy: 0.9654\n",
      "Epoch 12/20\n",
      "315/315 [==============================] - 1s 3ms/step - loss: 0.1195 - accuracy: 0.9647 - val_loss: 0.1134 - val_accuracy: 0.9670\n",
      "Epoch 13/20\n",
      "315/315 [==============================] - 1s 4ms/step - loss: 0.1135 - accuracy: 0.9670 - val_loss: 0.1113 - val_accuracy: 0.9679\n",
      "Epoch 14/20\n",
      "315/315 [==============================] - 1s 3ms/step - loss: 0.1113 - accuracy: 0.9678 - val_loss: 0.1115 - val_accuracy: 0.9675\n",
      "Epoch 15/20\n",
      "315/315 [==============================] - 1s 3ms/step - loss: 0.1068 - accuracy: 0.9680 - val_loss: 0.1081 - val_accuracy: 0.9686\n",
      "Epoch 16/20\n",
      "315/315 [==============================] - 1s 4ms/step - loss: 0.1054 - accuracy: 0.9686 - val_loss: 0.1086 - val_accuracy: 0.9688\n",
      "Epoch 17/20\n",
      "315/315 [==============================] - 1s 3ms/step - loss: 0.1002 - accuracy: 0.9700 - val_loss: 0.1053 - val_accuracy: 0.9704\n",
      "Epoch 18/20\n",
      "315/315 [==============================] - 1s 3ms/step - loss: 0.1001 - accuracy: 0.9713 - val_loss: 0.1072 - val_accuracy: 0.9698\n",
      "Epoch 19/20\n",
      "315/315 [==============================] - 1s 3ms/step - loss: 0.0952 - accuracy: 0.9726 - val_loss: 0.1054 - val_accuracy: 0.9704\n",
      "Epoch 20/20\n",
      "315/315 [==============================] - 1s 3ms/step - loss: 0.0930 - accuracy: 0.9731 - val_loss: 0.1039 - val_accuracy: 0.9716\n"
     ]
    },
    {
     "name": "stderr",
     "output_type": "stream",
     "text": [
      "\u001b[32m[I 2022-03-28 17:44:48,517]\u001b[0m Trial 35 finished with value: 0.9732000231742859 and parameters: {'n_layers': 1, 'n_units_l0': 98, 'dropout_l0': 0.3372211708260665, 'learning_rate': 0.0007614872058006266}. Best is trial 23 with value: 0.9772999882698059.\u001b[0m\n"
     ]
    },
    {
     "name": "stdout",
     "output_type": "stream",
     "text": [
      "Epoch 1/20\n",
      "315/315 [==============================] - 1s 3ms/step - loss: 0.5283 - accuracy: 0.8399 - val_loss: 0.2417 - val_accuracy: 0.9311\n",
      "Epoch 2/20\n",
      "315/315 [==============================] - 1s 3ms/step - loss: 0.3244 - accuracy: 0.9045 - val_loss: 0.2020 - val_accuracy: 0.9411\n",
      "Epoch 3/20\n",
      "315/315 [==============================] - 1s 3ms/step - loss: 0.2828 - accuracy: 0.9164 - val_loss: 0.1986 - val_accuracy: 0.9418\n",
      "Epoch 4/20\n",
      "315/315 [==============================] - 1s 3ms/step - loss: 0.2622 - accuracy: 0.9230 - val_loss: 0.1704 - val_accuracy: 0.9510\n",
      "Epoch 5/20\n",
      "302/315 [===========================>..] - ETA: 0s - loss: 0.2525 - accuracy: 0.9246"
     ]
    },
    {
     "name": "stderr",
     "output_type": "stream",
     "text": [
      "\u001b[32m[I 2022-03-28 17:44:54,699]\u001b[0m Trial 36 pruned. Trial was pruned at epoch 4.\u001b[0m\n"
     ]
    },
    {
     "name": "stdout",
     "output_type": "stream",
     "text": [
      "Epoch 1/20\n",
      "315/315 [==============================] - 1s 4ms/step - loss: 0.4803 - accuracy: 0.8599 - val_loss: 0.2707 - val_accuracy: 0.9205\n",
      "Epoch 2/20\n",
      "315/315 [==============================] - 1s 3ms/step - loss: 0.2912 - accuracy: 0.9164 - val_loss: 0.2339 - val_accuracy: 0.9330\n",
      "Epoch 3/20\n",
      "315/315 [==============================] - 1s 3ms/step - loss: 0.2626 - accuracy: 0.9270 - val_loss: 0.2233 - val_accuracy: 0.9426\n",
      "Epoch 4/20\n",
      "315/315 [==============================] - 1s 4ms/step - loss: 0.2498 - accuracy: 0.9329 - val_loss: 0.2035 - val_accuracy: 0.9527\n",
      "Epoch 5/20\n",
      "315/315 [==============================] - 1s 4ms/step - loss: 0.2395 - accuracy: 0.9351 - val_loss: 0.2150 - val_accuracy: 0.9515\n",
      "Epoch 6/20\n",
      "294/315 [===========================>..] - ETA: 0s - loss: 0.2245 - accuracy: 0.9402"
     ]
    },
    {
     "name": "stderr",
     "output_type": "stream",
     "text": [
      "\u001b[32m[I 2022-03-28 17:45:02,558]\u001b[0m Trial 37 pruned. Trial was pruned at epoch 5.\u001b[0m\n"
     ]
    },
    {
     "name": "stdout",
     "output_type": "stream",
     "text": [
      "Epoch 1/20\n",
      "304/315 [===========================>..] - ETA: 0s - loss: 1.3174 - accuracy: 0.4980"
     ]
    },
    {
     "name": "stderr",
     "output_type": "stream",
     "text": [
      "\u001b[32m[I 2022-03-28 17:45:04,697]\u001b[0m Trial 38 pruned. Trial was pruned at epoch 0.\u001b[0m\n"
     ]
    },
    {
     "name": "stdout",
     "output_type": "stream",
     "text": [
      "Epoch 1/20\n",
      "302/315 [===========================>..] - ETA: 0s - loss: 1.3698 - accuracy: 0.5873"
     ]
    },
    {
     "name": "stderr",
     "output_type": "stream",
     "text": [
      "\u001b[32m[I 2022-03-28 17:45:06,513]\u001b[0m Trial 39 pruned. Trial was pruned at epoch 0.\u001b[0m\n"
     ]
    },
    {
     "name": "stdout",
     "output_type": "stream",
     "text": [
      "Epoch 1/20\n",
      "296/315 [===========================>..] - ETA: 0s - loss: 0.7655 - accuracy: 0.7793"
     ]
    },
    {
     "name": "stderr",
     "output_type": "stream",
     "text": [
      "\u001b[32m[I 2022-03-28 17:45:08,485]\u001b[0m Trial 40 pruned. Trial was pruned at epoch 0.\u001b[0m\n"
     ]
    },
    {
     "name": "stdout",
     "output_type": "stream",
     "text": [
      "Epoch 1/20\n",
      "315/315 [==============================] - 1s 4ms/step - loss: 0.4627 - accuracy: 0.8639 - val_loss: 0.2365 - val_accuracy: 0.9280\n",
      "Epoch 2/20\n",
      "315/315 [==============================] - 1s 3ms/step - loss: 0.2575 - accuracy: 0.9239 - val_loss: 0.1772 - val_accuracy: 0.9463\n",
      "Epoch 3/20\n",
      "315/315 [==============================] - 1s 3ms/step - loss: 0.2139 - accuracy: 0.9364 - val_loss: 0.1571 - val_accuracy: 0.9515\n",
      "Epoch 4/20\n",
      "315/315 [==============================] - 1s 3ms/step - loss: 0.1886 - accuracy: 0.9462 - val_loss: 0.1446 - val_accuracy: 0.9566\n",
      "Epoch 5/20\n",
      "315/315 [==============================] - 1s 3ms/step - loss: 0.1746 - accuracy: 0.9491 - val_loss: 0.1347 - val_accuracy: 0.9586\n",
      "Epoch 6/20\n",
      "315/315 [==============================] - 1s 3ms/step - loss: 0.1598 - accuracy: 0.9513 - val_loss: 0.1269 - val_accuracy: 0.9623\n",
      "Epoch 7/20\n",
      "315/315 [==============================] - 1s 3ms/step - loss: 0.1545 - accuracy: 0.9560 - val_loss: 0.1264 - val_accuracy: 0.9635\n",
      "Epoch 8/20\n",
      "315/315 [==============================] - 1s 3ms/step - loss: 0.1435 - accuracy: 0.9582 - val_loss: 0.1272 - val_accuracy: 0.9618\n",
      "Epoch 9/20\n",
      "315/315 [==============================] - 1s 3ms/step - loss: 0.1363 - accuracy: 0.9590 - val_loss: 0.1213 - val_accuracy: 0.9656\n",
      "Epoch 10/20\n",
      "315/315 [==============================] - 1s 3ms/step - loss: 0.1330 - accuracy: 0.9609 - val_loss: 0.1188 - val_accuracy: 0.9671\n",
      "Epoch 11/20\n",
      "315/315 [==============================] - 1s 3ms/step - loss: 0.1300 - accuracy: 0.9622 - val_loss: 0.1237 - val_accuracy: 0.9662\n",
      "Epoch 12/20\n",
      "315/315 [==============================] - 1s 3ms/step - loss: 0.1239 - accuracy: 0.9626 - val_loss: 0.1206 - val_accuracy: 0.9673\n",
      "Epoch 13/20\n",
      "315/315 [==============================] - 1s 3ms/step - loss: 0.1213 - accuracy: 0.9653 - val_loss: 0.1205 - val_accuracy: 0.9666\n",
      "Epoch 14/20\n",
      "315/315 [==============================] - 1s 3ms/step - loss: 0.1169 - accuracy: 0.9661 - val_loss: 0.1224 - val_accuracy: 0.9671\n",
      "Epoch 15/20\n",
      "315/315 [==============================] - 1s 4ms/step - loss: 0.1143 - accuracy: 0.9670 - val_loss: 0.1271 - val_accuracy: 0.9670\n",
      "Epoch 16/20\n",
      "315/315 [==============================] - 1s 4ms/step - loss: 0.1143 - accuracy: 0.9650 - val_loss: 0.1213 - val_accuracy: 0.9685\n",
      "Epoch 17/20\n",
      "313/315 [============================>.] - ETA: 0s - loss: 0.1110 - accuracy: 0.9669"
     ]
    },
    {
     "name": "stderr",
     "output_type": "stream",
     "text": [
      "\u001b[32m[I 2022-03-28 17:45:28,394]\u001b[0m Trial 41 pruned. Trial was pruned at epoch 16.\u001b[0m\n"
     ]
    },
    {
     "name": "stdout",
     "output_type": "stream",
     "text": [
      "Epoch 1/20\n",
      "315/315 [==============================] - 1s 3ms/step - loss: 0.3802 - accuracy: 0.8877 - val_loss: 0.2137 - val_accuracy: 0.9365\n",
      "Epoch 2/20\n",
      "315/315 [==============================] - 1s 3ms/step - loss: 0.2013 - accuracy: 0.9395 - val_loss: 0.1537 - val_accuracy: 0.9546\n",
      "Epoch 3/20\n",
      "315/315 [==============================] - 1s 3ms/step - loss: 0.1589 - accuracy: 0.9516 - val_loss: 0.1394 - val_accuracy: 0.9601\n",
      "Epoch 4/20\n",
      "315/315 [==============================] - 1s 3ms/step - loss: 0.1348 - accuracy: 0.9590 - val_loss: 0.1385 - val_accuracy: 0.9628\n",
      "Epoch 5/20\n",
      "315/315 [==============================] - 1s 3ms/step - loss: 0.1216 - accuracy: 0.9645 - val_loss: 0.1243 - val_accuracy: 0.9658\n",
      "Epoch 6/20\n",
      "315/315 [==============================] - 1s 3ms/step - loss: 0.1131 - accuracy: 0.9658 - val_loss: 0.1312 - val_accuracy: 0.9659\n",
      "Epoch 7/20\n",
      "315/315 [==============================] - 1s 4ms/step - loss: 0.1074 - accuracy: 0.9672 - val_loss: 0.1245 - val_accuracy: 0.9676\n",
      "Epoch 8/20\n",
      "315/315 [==============================] - 1s 3ms/step - loss: 0.0930 - accuracy: 0.9714 - val_loss: 0.1189 - val_accuracy: 0.9696\n",
      "Epoch 9/20\n",
      "315/315 [==============================] - 1s 3ms/step - loss: 0.0894 - accuracy: 0.9723 - val_loss: 0.1248 - val_accuracy: 0.9694\n",
      "Epoch 10/20\n",
      "315/315 [==============================] - 1s 3ms/step - loss: 0.0852 - accuracy: 0.9739 - val_loss: 0.1310 - val_accuracy: 0.9693\n",
      "Epoch 11/20\n",
      "315/315 [==============================] - 1s 3ms/step - loss: 0.0844 - accuracy: 0.9743 - val_loss: 0.1190 - val_accuracy: 0.9723\n",
      "Epoch 12/20\n",
      "315/315 [==============================] - 1s 4ms/step - loss: 0.0774 - accuracy: 0.9767 - val_loss: 0.1311 - val_accuracy: 0.9710\n",
      "Epoch 13/20\n",
      "315/315 [==============================] - 1s 4ms/step - loss: 0.0753 - accuracy: 0.9763 - val_loss: 0.1302 - val_accuracy: 0.9714\n",
      "Epoch 14/20\n",
      "315/315 [==============================] - 1s 4ms/step - loss: 0.0749 - accuracy: 0.9771 - val_loss: 0.1241 - val_accuracy: 0.9727\n",
      "Epoch 15/20\n",
      "315/315 [==============================] - 2s 6ms/step - loss: 0.0688 - accuracy: 0.9782 - val_loss: 0.1324 - val_accuracy: 0.9730\n",
      "Epoch 16/20\n",
      "315/315 [==============================] - 2s 5ms/step - loss: 0.0684 - accuracy: 0.9786 - val_loss: 0.1289 - val_accuracy: 0.9729\n",
      "Epoch 17/20\n",
      "315/315 [==============================] - 1s 4ms/step - loss: 0.0653 - accuracy: 0.9799 - val_loss: 0.1299 - val_accuracy: 0.9728\n",
      "Epoch 18/20\n",
      "315/315 [==============================] - 1s 5ms/step - loss: 0.0638 - accuracy: 0.9795 - val_loss: 0.1381 - val_accuracy: 0.9727\n",
      "Epoch 19/20\n",
      "315/315 [==============================] - 1s 4ms/step - loss: 0.0606 - accuracy: 0.9815 - val_loss: 0.1391 - val_accuracy: 0.9730\n",
      "Epoch 20/20\n",
      "315/315 [==============================] - 1s 4ms/step - loss: 0.0603 - accuracy: 0.9814 - val_loss: 0.1393 - val_accuracy: 0.9729\n"
     ]
    },
    {
     "name": "stderr",
     "output_type": "stream",
     "text": [
      "\u001b[32m[I 2022-03-28 17:45:54,865]\u001b[0m Trial 42 finished with value: 0.9758999943733215 and parameters: {'n_layers': 1, 'n_units_l0': 105, 'dropout_l0': 0.3040374682575335, 'learning_rate': 0.0023787856460871586}. Best is trial 23 with value: 0.9772999882698059.\u001b[0m\n"
     ]
    },
    {
     "name": "stdout",
     "output_type": "stream",
     "text": [
      "Epoch 1/20\n",
      "315/315 [==============================] - 2s 4ms/step - loss: 0.4754 - accuracy: 0.8670 - val_loss: 0.2638 - val_accuracy: 0.9223\n",
      "Epoch 2/20\n",
      "315/315 [==============================] - 1s 4ms/step - loss: 0.2462 - accuracy: 0.9280 - val_loss: 0.1857 - val_accuracy: 0.9456\n",
      "Epoch 3/20\n",
      "315/315 [==============================] - 1s 4ms/step - loss: 0.1913 - accuracy: 0.9441 - val_loss: 0.1555 - val_accuracy: 0.9535\n",
      "Epoch 4/20\n",
      "315/315 [==============================] - 1s 4ms/step - loss: 0.1634 - accuracy: 0.9518 - val_loss: 0.1432 - val_accuracy: 0.9593\n",
      "Epoch 5/20\n",
      "315/315 [==============================] - 1s 4ms/step - loss: 0.1430 - accuracy: 0.9580 - val_loss: 0.1227 - val_accuracy: 0.9643\n",
      "Epoch 6/20\n",
      "315/315 [==============================] - 1s 4ms/step - loss: 0.1275 - accuracy: 0.9627 - val_loss: 0.1174 - val_accuracy: 0.9657\n",
      "Epoch 7/20\n",
      "315/315 [==============================] - 1s 4ms/step - loss: 0.1184 - accuracy: 0.9657 - val_loss: 0.1105 - val_accuracy: 0.9681\n",
      "Epoch 8/20\n",
      "315/315 [==============================] - 1s 3ms/step - loss: 0.1099 - accuracy: 0.9670 - val_loss: 0.1066 - val_accuracy: 0.9696\n",
      "Epoch 9/20\n",
      "315/315 [==============================] - 1s 4ms/step - loss: 0.1014 - accuracy: 0.9700 - val_loss: 0.1039 - val_accuracy: 0.9717\n",
      "Epoch 10/20\n",
      "315/315 [==============================] - 1s 3ms/step - loss: 0.0956 - accuracy: 0.9718 - val_loss: 0.1036 - val_accuracy: 0.9713\n",
      "Epoch 11/20\n",
      "315/315 [==============================] - 1s 4ms/step - loss: 0.0899 - accuracy: 0.9732 - val_loss: 0.1041 - val_accuracy: 0.9713\n",
      "Epoch 12/20\n",
      "315/315 [==============================] - 1s 4ms/step - loss: 0.0856 - accuracy: 0.9737 - val_loss: 0.1016 - val_accuracy: 0.9724\n",
      "Epoch 13/20\n",
      "315/315 [==============================] - 1s 4ms/step - loss: 0.0813 - accuracy: 0.9754 - val_loss: 0.0997 - val_accuracy: 0.9732\n",
      "Epoch 14/20\n",
      "315/315 [==============================] - 1s 4ms/step - loss: 0.0785 - accuracy: 0.9760 - val_loss: 0.1026 - val_accuracy: 0.9730\n",
      "Epoch 15/20\n",
      "315/315 [==============================] - 1s 4ms/step - loss: 0.0760 - accuracy: 0.9762 - val_loss: 0.0997 - val_accuracy: 0.9737\n",
      "Epoch 16/20\n",
      "315/315 [==============================] - 1s 4ms/step - loss: 0.0711 - accuracy: 0.9777 - val_loss: 0.0981 - val_accuracy: 0.9746\n",
      "Epoch 17/20\n",
      "315/315 [==============================] - 1s 4ms/step - loss: 0.0696 - accuracy: 0.9785 - val_loss: 0.1003 - val_accuracy: 0.9736\n",
      "Epoch 18/20\n",
      "315/315 [==============================] - 1s 4ms/step - loss: 0.0676 - accuracy: 0.9798 - val_loss: 0.1002 - val_accuracy: 0.9745\n",
      "Epoch 19/20\n",
      "315/315 [==============================] - 1s 4ms/step - loss: 0.0650 - accuracy: 0.9800 - val_loss: 0.1011 - val_accuracy: 0.9741\n",
      "Epoch 20/20\n",
      "315/315 [==============================] - 1s 3ms/step - loss: 0.0628 - accuracy: 0.9814 - val_loss: 0.0978 - val_accuracy: 0.9754\n"
     ]
    },
    {
     "name": "stderr",
     "output_type": "stream",
     "text": [
      "\u001b[32m[I 2022-03-28 17:46:20,837]\u001b[0m Trial 43 finished with value: 0.9763000011444092 and parameters: {'n_layers': 1, 'n_units_l0': 111, 'dropout_l0': 0.2988129922308434, 'learning_rate': 0.00100621263945329}. Best is trial 23 with value: 0.9772999882698059.\u001b[0m\n"
     ]
    },
    {
     "name": "stdout",
     "output_type": "stream",
     "text": [
      "Epoch 1/20\n",
      "315/315 [==============================] - 1s 4ms/step - loss: 0.4569 - accuracy: 0.8699 - val_loss: 0.2677 - val_accuracy: 0.9224\n",
      "Epoch 2/20\n",
      "315/315 [==============================] - 1s 4ms/step - loss: 0.2377 - accuracy: 0.9313 - val_loss: 0.1981 - val_accuracy: 0.9403\n",
      "Epoch 3/20\n",
      "315/315 [==============================] - 1s 4ms/step - loss: 0.1909 - accuracy: 0.9434 - val_loss: 0.1623 - val_accuracy: 0.9534\n",
      "Epoch 4/20\n",
      "315/315 [==============================] - 1s 4ms/step - loss: 0.1612 - accuracy: 0.9537 - val_loss: 0.1473 - val_accuracy: 0.9575\n",
      "Epoch 5/20\n",
      "315/315 [==============================] - 1s 3ms/step - loss: 0.1449 - accuracy: 0.9571 - val_loss: 0.1301 - val_accuracy: 0.9628\n",
      "Epoch 6/20\n",
      "315/315 [==============================] - 1s 3ms/step - loss: 0.1323 - accuracy: 0.9601 - val_loss: 0.1266 - val_accuracy: 0.9634\n",
      "Epoch 7/20\n",
      "315/315 [==============================] - 1s 4ms/step - loss: 0.1218 - accuracy: 0.9638 - val_loss: 0.1243 - val_accuracy: 0.9657\n",
      "Epoch 8/20\n",
      "315/315 [==============================] - 1s 3ms/step - loss: 0.1103 - accuracy: 0.9666 - val_loss: 0.1176 - val_accuracy: 0.9674\n",
      "Epoch 9/20\n",
      "315/315 [==============================] - 1s 4ms/step - loss: 0.1037 - accuracy: 0.9695 - val_loss: 0.1164 - val_accuracy: 0.9692\n",
      "Epoch 10/20\n",
      "315/315 [==============================] - 1s 3ms/step - loss: 0.0984 - accuracy: 0.9697 - val_loss: 0.1140 - val_accuracy: 0.9694\n",
      "Epoch 11/20\n",
      "315/315 [==============================] - 1s 3ms/step - loss: 0.0943 - accuracy: 0.9712 - val_loss: 0.1160 - val_accuracy: 0.9697\n",
      "Epoch 12/20\n",
      "315/315 [==============================] - 1s 3ms/step - loss: 0.0877 - accuracy: 0.9733 - val_loss: 0.1123 - val_accuracy: 0.9704\n",
      "Epoch 13/20\n",
      "315/315 [==============================] - 1s 3ms/step - loss: 0.0865 - accuracy: 0.9743 - val_loss: 0.1149 - val_accuracy: 0.9701\n",
      "Epoch 14/20\n",
      "315/315 [==============================] - 1s 3ms/step - loss: 0.0824 - accuracy: 0.9753 - val_loss: 0.1090 - val_accuracy: 0.9715\n",
      "Epoch 15/20\n",
      "315/315 [==============================] - 1s 3ms/step - loss: 0.0774 - accuracy: 0.9758 - val_loss: 0.1110 - val_accuracy: 0.9720\n",
      "Epoch 16/20\n",
      "315/315 [==============================] - 1s 3ms/step - loss: 0.0758 - accuracy: 0.9760 - val_loss: 0.1154 - val_accuracy: 0.9717\n",
      "Epoch 17/20\n",
      "315/315 [==============================] - 1s 4ms/step - loss: 0.0726 - accuracy: 0.9777 - val_loss: 0.1130 - val_accuracy: 0.9724\n",
      "Epoch 18/20\n",
      "315/315 [==============================] - 1s 5ms/step - loss: 0.0707 - accuracy: 0.9778 - val_loss: 0.1141 - val_accuracy: 0.9725\n",
      "Epoch 19/20\n",
      "315/315 [==============================] - 1s 4ms/step - loss: 0.0673 - accuracy: 0.9790 - val_loss: 0.1144 - val_accuracy: 0.9713\n",
      "Epoch 20/20\n",
      "315/315 [==============================] - 1s 3ms/step - loss: 0.0649 - accuracy: 0.9798 - val_loss: 0.1161 - val_accuracy: 0.9721\n"
     ]
    },
    {
     "name": "stderr",
     "output_type": "stream",
     "text": [
      "\u001b[32m[I 2022-03-28 17:46:45,383]\u001b[0m Trial 44 finished with value: 0.9726999998092651 and parameters: {'n_layers': 1, 'n_units_l0': 105, 'dropout_l0': 0.3034976084558861, 'learning_rate': 0.0011905982822626954}. Best is trial 23 with value: 0.9772999882698059.\u001b[0m\n"
     ]
    },
    {
     "name": "stdout",
     "output_type": "stream",
     "text": [
      "Epoch 1/20\n",
      "302/315 [===========================>..] - ETA: 0s - loss: 2.0003 - accuracy: 0.2596"
     ]
    },
    {
     "name": "stderr",
     "output_type": "stream",
     "text": [
      "\u001b[32m[I 2022-03-28 17:46:47,793]\u001b[0m Trial 45 pruned. Trial was pruned at epoch 0.\u001b[0m\n"
     ]
    },
    {
     "name": "stdout",
     "output_type": "stream",
     "text": [
      "Epoch 1/20\n",
      "315/315 [==============================] - 1s 3ms/step - loss: 0.3621 - accuracy: 0.8937 - val_loss: 0.2200 - val_accuracy: 0.9333\n",
      "Epoch 2/20\n",
      "315/315 [==============================] - 1s 3ms/step - loss: 0.1853 - accuracy: 0.9442 - val_loss: 0.1449 - val_accuracy: 0.9574\n",
      "Epoch 3/20\n",
      "315/315 [==============================] - 1s 4ms/step - loss: 0.1443 - accuracy: 0.9564 - val_loss: 0.1517 - val_accuracy: 0.9557\n",
      "Epoch 4/20\n",
      "315/315 [==============================] - 1s 3ms/step - loss: 0.1239 - accuracy: 0.9623 - val_loss: 0.1241 - val_accuracy: 0.9646\n",
      "Epoch 5/20\n",
      "315/315 [==============================] - 1s 3ms/step - loss: 0.1077 - accuracy: 0.9677 - val_loss: 0.1182 - val_accuracy: 0.9681\n",
      "Epoch 6/20\n",
      "315/315 [==============================] - 1s 3ms/step - loss: 0.0993 - accuracy: 0.9699 - val_loss: 0.1266 - val_accuracy: 0.9647\n",
      "Epoch 7/20\n",
      "315/315 [==============================] - 1s 3ms/step - loss: 0.0912 - accuracy: 0.9728 - val_loss: 0.1266 - val_accuracy: 0.9672\n",
      "Epoch 8/20\n",
      "315/315 [==============================] - 1s 3ms/step - loss: 0.0842 - accuracy: 0.9735 - val_loss: 0.1214 - val_accuracy: 0.9694\n",
      "Epoch 9/20\n",
      "315/315 [==============================] - 1s 3ms/step - loss: 0.0778 - accuracy: 0.9766 - val_loss: 0.1263 - val_accuracy: 0.9682\n",
      "Epoch 10/20\n",
      "315/315 [==============================] - 1s 3ms/step - loss: 0.0747 - accuracy: 0.9772 - val_loss: 0.1209 - val_accuracy: 0.9696\n",
      "Epoch 11/20\n",
      "315/315 [==============================] - 1s 4ms/step - loss: 0.0696 - accuracy: 0.9768 - val_loss: 0.1263 - val_accuracy: 0.9692\n",
      "Epoch 12/20\n",
      "315/315 [==============================] - 1s 3ms/step - loss: 0.0694 - accuracy: 0.9788 - val_loss: 0.1177 - val_accuracy: 0.9719\n",
      "Epoch 13/20\n",
      "315/315 [==============================] - 1s 4ms/step - loss: 0.0624 - accuracy: 0.9807 - val_loss: 0.1277 - val_accuracy: 0.9705\n",
      "Epoch 14/20\n",
      "315/315 [==============================] - 1s 3ms/step - loss: 0.0613 - accuracy: 0.9808 - val_loss: 0.1271 - val_accuracy: 0.9702\n",
      "Epoch 15/20\n",
      "315/315 [==============================] - 1s 3ms/step - loss: 0.0594 - accuracy: 0.9819 - val_loss: 0.1336 - val_accuracy: 0.9710\n",
      "Epoch 16/20\n",
      "315/315 [==============================] - 1s 4ms/step - loss: 0.0572 - accuracy: 0.9818 - val_loss: 0.1366 - val_accuracy: 0.9710\n",
      "Epoch 17/20\n",
      "315/315 [==============================] - 1s 4ms/step - loss: 0.0561 - accuracy: 0.9821 - val_loss: 0.1347 - val_accuracy: 0.9706\n",
      "Epoch 18/20\n",
      "315/315 [==============================] - 1s 4ms/step - loss: 0.0498 - accuracy: 0.9839 - val_loss: 0.1407 - val_accuracy: 0.9714\n",
      "Epoch 19/20\n",
      "315/315 [==============================] - 1s 4ms/step - loss: 0.0526 - accuracy: 0.9833 - val_loss: 0.1534 - val_accuracy: 0.9689\n",
      "Epoch 20/20\n",
      "315/315 [==============================] - 1s 4ms/step - loss: 0.0504 - accuracy: 0.9844 - val_loss: 0.1415 - val_accuracy: 0.9723\n"
     ]
    },
    {
     "name": "stderr",
     "output_type": "stream",
     "text": [
      "\u001b[32m[I 2022-03-28 17:47:12,058]\u001b[0m Trial 46 finished with value: 0.9760000109672546 and parameters: {'n_layers': 1, 'n_units_l0': 110, 'dropout_l0': 0.26574386072706846, 'learning_rate': 0.0024521284526398193}. Best is trial 23 with value: 0.9772999882698059.\u001b[0m\n"
     ]
    },
    {
     "name": "stdout",
     "output_type": "stream",
     "text": [
      "Epoch 1/20\n",
      "314/315 [============================>.] - ETA: 0s - loss: 1.0137 - accuracy: 0.6470"
     ]
    },
    {
     "name": "stderr",
     "output_type": "stream",
     "text": [
      "\u001b[32m[I 2022-03-28 17:47:14,326]\u001b[0m Trial 47 pruned. Trial was pruned at epoch 0.\u001b[0m\n"
     ]
    },
    {
     "name": "stdout",
     "output_type": "stream",
     "text": [
      "Epoch 1/20\n",
      "315/315 [==============================] - 1s 4ms/step - loss: 0.4994 - accuracy: 0.8589 - val_loss: 0.2489 - val_accuracy: 0.9268\n",
      "Epoch 2/20\n",
      "315/315 [==============================] - 1s 3ms/step - loss: 0.2549 - accuracy: 0.9257 - val_loss: 0.1874 - val_accuracy: 0.9440\n",
      "Epoch 3/20\n",
      "298/315 [===========================>..] - ETA: 0s - loss: 0.2039 - accuracy: 0.9406"
     ]
    },
    {
     "name": "stderr",
     "output_type": "stream",
     "text": [
      "\u001b[32m[I 2022-03-28 17:47:18,504]\u001b[0m Trial 48 pruned. Trial was pruned at epoch 2.\u001b[0m\n"
     ]
    },
    {
     "name": "stdout",
     "output_type": "stream",
     "text": [
      "Epoch 1/20\n",
      "306/315 [============================>.] - ETA: 0s - loss: 0.8258 - accuracy: 0.7732"
     ]
    },
    {
     "name": "stderr",
     "output_type": "stream",
     "text": [
      "\u001b[32m[I 2022-03-28 17:47:20,469]\u001b[0m Trial 49 pruned. Trial was pruned at epoch 0.\u001b[0m\n"
     ]
    },
    {
     "name": "stdout",
     "output_type": "stream",
     "text": [
      "Epoch 1/20\n",
      "315/315 [==============================] - 3s 6ms/step - loss: 0.4921 - accuracy: 0.8548 - val_loss: 0.2212 - val_accuracy: 0.9372\n",
      "Epoch 2/20\n",
      "315/315 [==============================] - 1s 4ms/step - loss: 0.2809 - accuracy: 0.9225 - val_loss: 0.1641 - val_accuracy: 0.9567\n",
      "Epoch 3/20\n",
      "315/315 [==============================] - 1s 4ms/step - loss: 0.2473 - accuracy: 0.9343 - val_loss: 0.2115 - val_accuracy: 0.9494\n",
      "Epoch 4/20\n",
      "315/315 [==============================] - 1s 4ms/step - loss: 0.2255 - accuracy: 0.9418 - val_loss: 0.1761 - val_accuracy: 0.9601\n",
      "Epoch 5/20\n",
      "315/315 [==============================] - 1s 4ms/step - loss: 0.2247 - accuracy: 0.9421 - val_loss: 0.1791 - val_accuracy: 0.9606\n",
      "Epoch 6/20\n",
      "315/315 [==============================] - 1s 5ms/step - loss: 0.2207 - accuracy: 0.9444 - val_loss: 0.1730 - val_accuracy: 0.9611\n",
      "Epoch 7/20\n",
      "314/315 [============================>.] - ETA: 0s - loss: 0.2106 - accuracy: 0.9467"
     ]
    },
    {
     "name": "stderr",
     "output_type": "stream",
     "text": [
      "\u001b[32m[I 2022-03-28 17:47:32,183]\u001b[0m Trial 50 pruned. Trial was pruned at epoch 6.\u001b[0m\n"
     ]
    },
    {
     "name": "stdout",
     "output_type": "stream",
     "text": [
      "Epoch 1/20\n",
      "315/315 [==============================] - 2s 4ms/step - loss: 0.4117 - accuracy: 0.8779 - val_loss: 0.2154 - val_accuracy: 0.9378\n",
      "Epoch 2/20\n",
      "315/315 [==============================] - 1s 4ms/step - loss: 0.2139 - accuracy: 0.9353 - val_loss: 0.1554 - val_accuracy: 0.9541\n",
      "Epoch 3/20\n",
      "315/315 [==============================] - 1s 4ms/step - loss: 0.1723 - accuracy: 0.9486 - val_loss: 0.1389 - val_accuracy: 0.9601\n",
      "Epoch 4/20\n",
      "315/315 [==============================] - 1s 3ms/step - loss: 0.1501 - accuracy: 0.9552 - val_loss: 0.1308 - val_accuracy: 0.9637\n",
      "Epoch 5/20\n",
      "315/315 [==============================] - 1s 3ms/step - loss: 0.1374 - accuracy: 0.9589 - val_loss: 0.1187 - val_accuracy: 0.9677\n",
      "Epoch 6/20\n",
      "315/315 [==============================] - 1s 3ms/step - loss: 0.1253 - accuracy: 0.9637 - val_loss: 0.1230 - val_accuracy: 0.9677\n",
      "Epoch 7/20\n",
      "315/315 [==============================] - 1s 4ms/step - loss: 0.1151 - accuracy: 0.9654 - val_loss: 0.1163 - val_accuracy: 0.9701\n",
      "Epoch 8/20\n",
      "315/315 [==============================] - 1s 4ms/step - loss: 0.1083 - accuracy: 0.9668 - val_loss: 0.1236 - val_accuracy: 0.9702\n",
      "Epoch 9/20\n",
      "315/315 [==============================] - 1s 4ms/step - loss: 0.1027 - accuracy: 0.9683 - val_loss: 0.1143 - val_accuracy: 0.9714\n",
      "Epoch 10/20\n",
      "315/315 [==============================] - 1s 4ms/step - loss: 0.0990 - accuracy: 0.9698 - val_loss: 0.1143 - val_accuracy: 0.9715\n",
      "Epoch 11/20\n",
      "315/315 [==============================] - 1s 4ms/step - loss: 0.0924 - accuracy: 0.9716 - val_loss: 0.1195 - val_accuracy: 0.9709\n",
      "Epoch 12/20\n",
      "315/315 [==============================] - 1s 4ms/step - loss: 0.0917 - accuracy: 0.9711 - val_loss: 0.1206 - val_accuracy: 0.9716\n",
      "Epoch 13/20\n",
      "315/315 [==============================] - 1s 4ms/step - loss: 0.0900 - accuracy: 0.9725 - val_loss: 0.1251 - val_accuracy: 0.9704\n",
      "Epoch 14/20\n",
      "315/315 [==============================] - 1s 4ms/step - loss: 0.0871 - accuracy: 0.9725 - val_loss: 0.1261 - val_accuracy: 0.9708\n",
      "Epoch 15/20\n",
      "315/315 [==============================] - 1s 3ms/step - loss: 0.0837 - accuracy: 0.9749 - val_loss: 0.1281 - val_accuracy: 0.9717\n",
      "Epoch 16/20\n",
      "315/315 [==============================] - 1s 4ms/step - loss: 0.0830 - accuracy: 0.9755 - val_loss: 0.1217 - val_accuracy: 0.9725\n",
      "Epoch 17/20\n",
      "315/315 [==============================] - 1s 4ms/step - loss: 0.0784 - accuracy: 0.9760 - val_loss: 0.1277 - val_accuracy: 0.9724\n",
      "Epoch 18/20\n",
      "315/315 [==============================] - 1s 4ms/step - loss: 0.0792 - accuracy: 0.9759 - val_loss: 0.1358 - val_accuracy: 0.9713\n",
      "Epoch 19/20\n",
      "315/315 [==============================] - 1s 4ms/step - loss: 0.0725 - accuracy: 0.9769 - val_loss: 0.1271 - val_accuracy: 0.9731\n",
      "Epoch 20/20\n",
      "315/315 [==============================] - 1s 4ms/step - loss: 0.0723 - accuracy: 0.9778 - val_loss: 0.1308 - val_accuracy: 0.9731\n"
     ]
    },
    {
     "name": "stderr",
     "output_type": "stream",
     "text": [
      "\u001b[32m[I 2022-03-28 17:47:57,378]\u001b[0m Trial 51 finished with value: 0.9732000231742859 and parameters: {'n_layers': 1, 'n_units_l0': 84, 'dropout_l0': 0.28575580981201926, 'learning_rate': 0.002286726782206743}. Best is trial 23 with value: 0.9772999882698059.\u001b[0m\n"
     ]
    },
    {
     "name": "stdout",
     "output_type": "stream",
     "text": [
      "Epoch 1/20\n",
      "296/315 [===========================>..] - ETA: 0s - loss: 0.4140 - accuracy: 0.8799"
     ]
    },
    {
     "name": "stderr",
     "output_type": "stream",
     "text": [
      "\u001b[32m[I 2022-03-28 17:47:59,721]\u001b[0m Trial 52 pruned. Trial was pruned at epoch 0.\u001b[0m\n"
     ]
    },
    {
     "name": "stdout",
     "output_type": "stream",
     "text": [
      "Epoch 1/20\n",
      "306/315 [============================>.] - ETA: 0s - loss: 0.5579 - accuracy: 0.8386"
     ]
    },
    {
     "name": "stderr",
     "output_type": "stream",
     "text": [
      "\u001b[32m[I 2022-03-28 17:48:01,774]\u001b[0m Trial 53 pruned. Trial was pruned at epoch 0.\u001b[0m\n"
     ]
    },
    {
     "name": "stdout",
     "output_type": "stream",
     "text": [
      "Epoch 1/20\n",
      "293/315 [==========================>...] - ETA: 0s - loss: 0.4378 - accuracy: 0.8679"
     ]
    },
    {
     "name": "stderr",
     "output_type": "stream",
     "text": [
      "\u001b[32m[I 2022-03-28 17:48:03,838]\u001b[0m Trial 54 pruned. Trial was pruned at epoch 0.\u001b[0m\n"
     ]
    },
    {
     "name": "stdout",
     "output_type": "stream",
     "text": [
      "Epoch 1/20\n",
      "300/315 [===========================>..] - ETA: 0s - loss: 0.6547 - accuracy: 0.8190"
     ]
    },
    {
     "name": "stderr",
     "output_type": "stream",
     "text": [
      "\u001b[32m[I 2022-03-28 17:48:05,864]\u001b[0m Trial 55 pruned. Trial was pruned at epoch 0.\u001b[0m\n"
     ]
    },
    {
     "name": "stdout",
     "output_type": "stream",
     "text": [
      "Epoch 1/20\n",
      "306/315 [============================>.] - ETA: 0s - loss: 0.8928 - accuracy: 0.7222"
     ]
    },
    {
     "name": "stderr",
     "output_type": "stream",
     "text": [
      "\u001b[32m[I 2022-03-28 17:48:07,871]\u001b[0m Trial 56 pruned. Trial was pruned at epoch 0.\u001b[0m\n"
     ]
    },
    {
     "name": "stdout",
     "output_type": "stream",
     "text": [
      "Epoch 1/20\n",
      "315/315 [==============================] - 1s 4ms/step - loss: 0.3735 - accuracy: 0.8890 - val_loss: 0.1897 - val_accuracy: 0.9442\n",
      "Epoch 2/20\n",
      "315/315 [==============================] - 1s 4ms/step - loss: 0.1958 - accuracy: 0.9427 - val_loss: 0.1744 - val_accuracy: 0.9458\n",
      "Epoch 3/20\n",
      "315/315 [==============================] - 1s 3ms/step - loss: 0.1523 - accuracy: 0.9540 - val_loss: 0.1335 - val_accuracy: 0.9608\n",
      "Epoch 4/20\n",
      "315/315 [==============================] - 1s 3ms/step - loss: 0.1333 - accuracy: 0.9606 - val_loss: 0.1188 - val_accuracy: 0.9670\n",
      "Epoch 5/20\n",
      "315/315 [==============================] - 1s 4ms/step - loss: 0.1177 - accuracy: 0.9647 - val_loss: 0.1148 - val_accuracy: 0.9678\n",
      "Epoch 6/20\n",
      "315/315 [==============================] - 1s 4ms/step - loss: 0.1038 - accuracy: 0.9697 - val_loss: 0.1144 - val_accuracy: 0.9694\n",
      "Epoch 7/20\n",
      "315/315 [==============================] - 1s 4ms/step - loss: 0.0967 - accuracy: 0.9709 - val_loss: 0.1114 - val_accuracy: 0.9706\n",
      "Epoch 8/20\n",
      "315/315 [==============================] - 1s 3ms/step - loss: 0.0924 - accuracy: 0.9721 - val_loss: 0.1150 - val_accuracy: 0.9700\n",
      "Epoch 9/20\n",
      "315/315 [==============================] - 1s 3ms/step - loss: 0.0886 - accuracy: 0.9736 - val_loss: 0.1178 - val_accuracy: 0.9699\n",
      "Epoch 10/20\n",
      "315/315 [==============================] - 1s 4ms/step - loss: 0.0814 - accuracy: 0.9759 - val_loss: 0.1153 - val_accuracy: 0.9708\n",
      "Epoch 11/20\n",
      "315/315 [==============================] - 1s 4ms/step - loss: 0.0760 - accuracy: 0.9766 - val_loss: 0.1209 - val_accuracy: 0.9711\n",
      "Epoch 12/20\n",
      "315/315 [==============================] - 1s 4ms/step - loss: 0.0724 - accuracy: 0.9776 - val_loss: 0.1223 - val_accuracy: 0.9712\n",
      "Epoch 13/20\n",
      "315/315 [==============================] - 1s 3ms/step - loss: 0.0720 - accuracy: 0.9777 - val_loss: 0.1170 - val_accuracy: 0.9723\n",
      "Epoch 14/20\n",
      "315/315 [==============================] - 1s 3ms/step - loss: 0.0678 - accuracy: 0.9793 - val_loss: 0.1226 - val_accuracy: 0.9711\n",
      "Epoch 15/20\n",
      "315/315 [==============================] - 1s 4ms/step - loss: 0.0665 - accuracy: 0.9793 - val_loss: 0.1236 - val_accuracy: 0.9710\n",
      "Epoch 16/20\n",
      "315/315 [==============================] - 1s 3ms/step - loss: 0.0648 - accuracy: 0.9800 - val_loss: 0.1247 - val_accuracy: 0.9713\n",
      "Epoch 17/20\n",
      "315/315 [==============================] - 1s 3ms/step - loss: 0.0608 - accuracy: 0.9808 - val_loss: 0.1248 - val_accuracy: 0.9723\n",
      "Epoch 18/20\n",
      "315/315 [==============================] - 1s 3ms/step - loss: 0.0602 - accuracy: 0.9803 - val_loss: 0.1202 - val_accuracy: 0.9732\n",
      "Epoch 19/20\n",
      "315/315 [==============================] - 1s 4ms/step - loss: 0.0608 - accuracy: 0.9820 - val_loss: 0.1354 - val_accuracy: 0.9704\n",
      "Epoch 20/20\n",
      "315/315 [==============================] - 1s 3ms/step - loss: 0.0583 - accuracy: 0.9825 - val_loss: 0.1358 - val_accuracy: 0.9724\n"
     ]
    },
    {
     "name": "stderr",
     "output_type": "stream",
     "text": [
      "\u001b[32m[I 2022-03-28 17:48:32,503]\u001b[0m Trial 57 finished with value: 0.9732000231742859 and parameters: {'n_layers': 1, 'n_units_l0': 83, 'dropout_l0': 0.22391871133199828, 'learning_rate': 0.0027693354233122706}. Best is trial 23 with value: 0.9772999882698059.\u001b[0m\n"
     ]
    },
    {
     "name": "stdout",
     "output_type": "stream",
     "text": [
      "Epoch 1/20\n",
      "310/315 [============================>.] - ETA: 0s - loss: 0.5212 - accuracy: 0.8517"
     ]
    },
    {
     "name": "stderr",
     "output_type": "stream",
     "text": [
      "\u001b[32m[I 2022-03-28 17:48:34,453]\u001b[0m Trial 58 pruned. Trial was pruned at epoch 0.\u001b[0m\n"
     ]
    },
    {
     "name": "stdout",
     "output_type": "stream",
     "text": [
      "Epoch 1/20\n",
      "309/315 [============================>.] - ETA: 0s - loss: 1.1628 - accuracy: 0.6001"
     ]
    },
    {
     "name": "stderr",
     "output_type": "stream",
     "text": [
      "\u001b[32m[I 2022-03-28 17:48:36,977]\u001b[0m Trial 59 pruned. Trial was pruned at epoch 0.\u001b[0m\n"
     ]
    },
    {
     "name": "stdout",
     "output_type": "stream",
     "text": [
      "Epoch 1/20\n",
      "297/315 [===========================>..] - ETA: 0s - loss: 0.7734 - accuracy: 0.7779"
     ]
    },
    {
     "name": "stderr",
     "output_type": "stream",
     "text": [
      "\u001b[32m[I 2022-03-28 17:48:38,980]\u001b[0m Trial 60 pruned. Trial was pruned at epoch 0.\u001b[0m\n"
     ]
    },
    {
     "name": "stdout",
     "output_type": "stream",
     "text": [
      "Epoch 1/20\n",
      "308/315 [============================>.] - ETA: 0s - loss: 0.4213 - accuracy: 0.8723"
     ]
    },
    {
     "name": "stderr",
     "output_type": "stream",
     "text": [
      "\u001b[32m[I 2022-03-28 17:48:41,023]\u001b[0m Trial 61 pruned. Trial was pruned at epoch 0.\u001b[0m\n"
     ]
    },
    {
     "name": "stdout",
     "output_type": "stream",
     "text": [
      "Epoch 1/20\n",
      "298/315 [===========================>..] - ETA: 0s - loss: 2.3819 - accuracy: 0.1216"
     ]
    },
    {
     "name": "stderr",
     "output_type": "stream",
     "text": [
      "\u001b[32m[I 2022-03-28 17:48:43,320]\u001b[0m Trial 62 pruned. Trial was pruned at epoch 0.\u001b[0m\n"
     ]
    },
    {
     "name": "stdout",
     "output_type": "stream",
     "text": [
      "Epoch 1/20\n",
      "315/315 [==============================] - 2s 3ms/step - loss: 0.4147 - accuracy: 0.8782 - val_loss: 0.2056 - val_accuracy: 0.9397\n",
      "Epoch 2/20\n",
      "315/315 [==============================] - 1s 4ms/step - loss: 0.2158 - accuracy: 0.9367 - val_loss: 0.1472 - val_accuracy: 0.9565\n",
      "Epoch 3/20\n",
      "315/315 [==============================] - 1s 3ms/step - loss: 0.1696 - accuracy: 0.9497 - val_loss: 0.1360 - val_accuracy: 0.9592\n",
      "Epoch 4/20\n",
      "315/315 [==============================] - 1s 3ms/step - loss: 0.1481 - accuracy: 0.9557 - val_loss: 0.1234 - val_accuracy: 0.9652\n",
      "Epoch 5/20\n",
      "315/315 [==============================] - 1s 3ms/step - loss: 0.1322 - accuracy: 0.9604 - val_loss: 0.1179 - val_accuracy: 0.9667\n",
      "Epoch 6/20\n",
      "315/315 [==============================] - 1s 3ms/step - loss: 0.1204 - accuracy: 0.9634 - val_loss: 0.1162 - val_accuracy: 0.9679\n",
      "Epoch 7/20\n",
      "315/315 [==============================] - 1s 3ms/step - loss: 0.1164 - accuracy: 0.9666 - val_loss: 0.1162 - val_accuracy: 0.9680\n",
      "Epoch 8/20\n",
      "315/315 [==============================] - 1s 3ms/step - loss: 0.1069 - accuracy: 0.9682 - val_loss: 0.1191 - val_accuracy: 0.9680\n",
      "Epoch 9/20\n",
      "315/315 [==============================] - 2s 6ms/step - loss: 0.1033 - accuracy: 0.9698 - val_loss: 0.1248 - val_accuracy: 0.9668\n",
      "Epoch 10/20\n",
      "315/315 [==============================] - 2s 5ms/step - loss: 0.0962 - accuracy: 0.9711 - val_loss: 0.1189 - val_accuracy: 0.9707\n",
      "Epoch 11/20\n",
      "315/315 [==============================] - 1s 4ms/step - loss: 0.0931 - accuracy: 0.9715 - val_loss: 0.1152 - val_accuracy: 0.9714\n",
      "Epoch 12/20\n",
      "315/315 [==============================] - 1s 4ms/step - loss: 0.0855 - accuracy: 0.9740 - val_loss: 0.1205 - val_accuracy: 0.9704\n",
      "Epoch 13/20\n",
      "315/315 [==============================] - 1s 4ms/step - loss: 0.0843 - accuracy: 0.9747 - val_loss: 0.1202 - val_accuracy: 0.9720\n",
      "Epoch 14/20\n",
      "315/315 [==============================] - 1s 4ms/step - loss: 0.0813 - accuracy: 0.9738 - val_loss: 0.1239 - val_accuracy: 0.9709\n",
      "Epoch 15/20\n",
      "315/315 [==============================] - 1s 4ms/step - loss: 0.0788 - accuracy: 0.9761 - val_loss: 0.1233 - val_accuracy: 0.9707\n",
      "Epoch 16/20\n",
      "315/315 [==============================] - 1s 4ms/step - loss: 0.0785 - accuracy: 0.9753 - val_loss: 0.1268 - val_accuracy: 0.9717\n",
      "Epoch 17/20\n",
      "315/315 [==============================] - 1s 3ms/step - loss: 0.0766 - accuracy: 0.9766 - val_loss: 0.1302 - val_accuracy: 0.9708\n",
      "Epoch 18/20\n",
      "315/315 [==============================] - 1s 3ms/step - loss: 0.0724 - accuracy: 0.9776 - val_loss: 0.1279 - val_accuracy: 0.9721\n",
      "Epoch 19/20\n",
      "315/315 [==============================] - 1s 3ms/step - loss: 0.0721 - accuracy: 0.9781 - val_loss: 0.1243 - val_accuracy: 0.9723\n",
      "Epoch 20/20\n",
      "315/315 [==============================] - 1s 3ms/step - loss: 0.0736 - accuracy: 0.9775 - val_loss: 0.1363 - val_accuracy: 0.9717\n"
     ]
    },
    {
     "name": "stderr",
     "output_type": "stream",
     "text": [
      "\u001b[32m[I 2022-03-28 17:49:09,261]\u001b[0m Trial 63 finished with value: 0.9736999869346619 and parameters: {'n_layers': 1, 'n_units_l0': 91, 'dropout_l0': 0.28902305447183424, 'learning_rate': 0.002166126482578127}. Best is trial 23 with value: 0.9772999882698059.\u001b[0m\n"
     ]
    },
    {
     "name": "stdout",
     "output_type": "stream",
     "text": [
      "Epoch 1/20\n",
      "315/315 [==============================] - 1s 4ms/step - loss: 0.4031 - accuracy: 0.8811 - val_loss: 0.2305 - val_accuracy: 0.9319\n",
      "Epoch 2/20\n",
      "315/315 [==============================] - 1s 3ms/step - loss: 0.2125 - accuracy: 0.9389 - val_loss: 0.1579 - val_accuracy: 0.9516\n",
      "Epoch 3/20\n",
      "315/315 [==============================] - 1s 3ms/step - loss: 0.1706 - accuracy: 0.9500 - val_loss: 0.1319 - val_accuracy: 0.9599\n",
      "Epoch 4/20\n",
      "315/315 [==============================] - 1s 3ms/step - loss: 0.1458 - accuracy: 0.9567 - val_loss: 0.1198 - val_accuracy: 0.9641\n",
      "Epoch 5/20\n",
      "315/315 [==============================] - 1s 3ms/step - loss: 0.1338 - accuracy: 0.9601 - val_loss: 0.1170 - val_accuracy: 0.9641\n",
      "Epoch 6/20\n",
      "315/315 [==============================] - 1s 3ms/step - loss: 0.1213 - accuracy: 0.9638 - val_loss: 0.1108 - val_accuracy: 0.9674\n",
      "Epoch 7/20\n",
      "315/315 [==============================] - 1s 3ms/step - loss: 0.1132 - accuracy: 0.9663 - val_loss: 0.1089 - val_accuracy: 0.9677\n",
      "Epoch 8/20\n",
      "315/315 [==============================] - 1s 3ms/step - loss: 0.1036 - accuracy: 0.9695 - val_loss: 0.1146 - val_accuracy: 0.9681\n",
      "Epoch 9/20\n",
      "315/315 [==============================] - 1s 3ms/step - loss: 0.1005 - accuracy: 0.9696 - val_loss: 0.1059 - val_accuracy: 0.9707\n",
      "Epoch 10/20\n",
      "315/315 [==============================] - 1s 4ms/step - loss: 0.0961 - accuracy: 0.9718 - val_loss: 0.1060 - val_accuracy: 0.9709\n",
      "Epoch 11/20\n",
      "315/315 [==============================] - 1s 4ms/step - loss: 0.0914 - accuracy: 0.9726 - val_loss: 0.1125 - val_accuracy: 0.9699\n",
      "Epoch 12/20\n",
      "315/315 [==============================] - 1s 4ms/step - loss: 0.0867 - accuracy: 0.9742 - val_loss: 0.1087 - val_accuracy: 0.9715\n",
      "Epoch 13/20\n",
      "315/315 [==============================] - 1s 3ms/step - loss: 0.0876 - accuracy: 0.9745 - val_loss: 0.1079 - val_accuracy: 0.9721\n",
      "Epoch 14/20\n",
      "315/315 [==============================] - 1s 4ms/step - loss: 0.0808 - accuracy: 0.9748 - val_loss: 0.1195 - val_accuracy: 0.9708\n",
      "Epoch 15/20\n",
      "315/315 [==============================] - 1s 3ms/step - loss: 0.0791 - accuracy: 0.9761 - val_loss: 0.1073 - val_accuracy: 0.9731\n",
      "Epoch 16/20\n",
      "315/315 [==============================] - 1s 4ms/step - loss: 0.0758 - accuracy: 0.9771 - val_loss: 0.1108 - val_accuracy: 0.9727\n",
      "Epoch 17/20\n",
      "315/315 [==============================] - 1s 3ms/step - loss: 0.0760 - accuracy: 0.9769 - val_loss: 0.1149 - val_accuracy: 0.9738\n",
      "Epoch 18/20\n",
      "315/315 [==============================] - 1s 4ms/step - loss: 0.0756 - accuracy: 0.9774 - val_loss: 0.1132 - val_accuracy: 0.9733\n",
      "Epoch 19/20\n",
      "315/315 [==============================] - 1s 4ms/step - loss: 0.0718 - accuracy: 0.9788 - val_loss: 0.1130 - val_accuracy: 0.9726\n",
      "Epoch 20/20\n",
      "315/315 [==============================] - 1s 3ms/step - loss: 0.0657 - accuracy: 0.9799 - val_loss: 0.1133 - val_accuracy: 0.9737\n"
     ]
    },
    {
     "name": "stderr",
     "output_type": "stream",
     "text": [
      "\u001b[32m[I 2022-03-28 17:49:33,658]\u001b[0m Trial 64 finished with value: 0.973800003528595 and parameters: {'n_layers': 1, 'n_units_l0': 97, 'dropout_l0': 0.29241992116592247, 'learning_rate': 0.0022157517922600425}. Best is trial 23 with value: 0.9772999882698059.\u001b[0m\n"
     ]
    },
    {
     "name": "stdout",
     "output_type": "stream",
     "text": [
      "Epoch 1/20\n",
      "315/315 [==============================] - 1s 3ms/step - loss: 0.4335 - accuracy: 0.8750 - val_loss: 0.2244 - val_accuracy: 0.9317\n",
      "Epoch 2/20\n",
      "315/315 [==============================] - 1s 3ms/step - loss: 0.2209 - accuracy: 0.9348 - val_loss: 0.1651 - val_accuracy: 0.9501\n",
      "Epoch 3/20\n",
      "315/315 [==============================] - 1s 3ms/step - loss: 0.1696 - accuracy: 0.9500 - val_loss: 0.1351 - val_accuracy: 0.9594\n",
      "Epoch 4/20\n",
      "315/315 [==============================] - 1s 3ms/step - loss: 0.1411 - accuracy: 0.9574 - val_loss: 0.1162 - val_accuracy: 0.9651\n",
      "Epoch 5/20\n",
      "315/315 [==============================] - 1s 3ms/step - loss: 0.1254 - accuracy: 0.9624 - val_loss: 0.1110 - val_accuracy: 0.9664\n",
      "Epoch 6/20\n",
      "315/315 [==============================] - 1s 3ms/step - loss: 0.1131 - accuracy: 0.9664 - val_loss: 0.1019 - val_accuracy: 0.9692\n",
      "Epoch 7/20\n",
      "315/315 [==============================] - 1s 3ms/step - loss: 0.1031 - accuracy: 0.9678 - val_loss: 0.0984 - val_accuracy: 0.9710\n",
      "Epoch 8/20\n",
      "315/315 [==============================] - 1s 4ms/step - loss: 0.0952 - accuracy: 0.9709 - val_loss: 0.0996 - val_accuracy: 0.9707\n",
      "Epoch 9/20\n",
      "315/315 [==============================] - 1s 3ms/step - loss: 0.0880 - accuracy: 0.9742 - val_loss: 0.0960 - val_accuracy: 0.9726\n",
      "Epoch 10/20\n",
      "315/315 [==============================] - 1s 4ms/step - loss: 0.0827 - accuracy: 0.9746 - val_loss: 0.0922 - val_accuracy: 0.9730\n",
      "Epoch 11/20\n",
      "315/315 [==============================] - 1s 4ms/step - loss: 0.0790 - accuracy: 0.9760 - val_loss: 0.0935 - val_accuracy: 0.9740\n",
      "Epoch 12/20\n",
      "315/315 [==============================] - 1s 4ms/step - loss: 0.0751 - accuracy: 0.9773 - val_loss: 0.0942 - val_accuracy: 0.9748\n",
      "Epoch 13/20\n",
      "315/315 [==============================] - 1s 3ms/step - loss: 0.0697 - accuracy: 0.9784 - val_loss: 0.0936 - val_accuracy: 0.9737\n",
      "Epoch 14/20\n",
      "315/315 [==============================] - 1s 4ms/step - loss: 0.0674 - accuracy: 0.9793 - val_loss: 0.0896 - val_accuracy: 0.9755\n",
      "Epoch 15/20\n",
      "315/315 [==============================] - 1s 3ms/step - loss: 0.0659 - accuracy: 0.9798 - val_loss: 0.0921 - val_accuracy: 0.9758\n",
      "Epoch 16/20\n",
      "315/315 [==============================] - 1s 3ms/step - loss: 0.0602 - accuracy: 0.9813 - val_loss: 0.0945 - val_accuracy: 0.9745\n",
      "Epoch 17/20\n",
      "315/315 [==============================] - 1s 3ms/step - loss: 0.0609 - accuracy: 0.9806 - val_loss: 0.1041 - val_accuracy: 0.9727\n",
      "Epoch 18/20\n",
      "315/315 [==============================] - 1s 3ms/step - loss: 0.0557 - accuracy: 0.9824 - val_loss: 0.0949 - val_accuracy: 0.9751\n",
      "Epoch 19/20\n",
      "315/315 [==============================] - 1s 3ms/step - loss: 0.0564 - accuracy: 0.9829 - val_loss: 0.0920 - val_accuracy: 0.9766\n",
      "Epoch 20/20\n",
      "315/315 [==============================] - 1s 3ms/step - loss: 0.0530 - accuracy: 0.9833 - val_loss: 0.0958 - val_accuracy: 0.9745\n"
     ]
    },
    {
     "name": "stderr",
     "output_type": "stream",
     "text": [
      "\u001b[32m[I 2022-03-28 17:49:57,168]\u001b[0m Trial 65 finished with value: 0.9761999845504761 and parameters: {'n_layers': 1, 'n_units_l0': 118, 'dropout_l0': 0.27326363929258235, 'learning_rate': 0.00130605831042931}. Best is trial 23 with value: 0.9772999882698059.\u001b[0m\n"
     ]
    },
    {
     "name": "stdout",
     "output_type": "stream",
     "text": [
      "Epoch 1/20\n",
      "315/315 [==============================] - 1s 4ms/step - loss: 0.4532 - accuracy: 0.8708 - val_loss: 0.2400 - val_accuracy: 0.9312\n",
      "Epoch 2/20\n",
      "315/315 [==============================] - 1s 4ms/step - loss: 0.2309 - accuracy: 0.9323 - val_loss: 0.1740 - val_accuracy: 0.9492\n",
      "Epoch 3/20\n",
      "315/315 [==============================] - 1s 4ms/step - loss: 0.1786 - accuracy: 0.9482 - val_loss: 0.1478 - val_accuracy: 0.9564\n",
      "Epoch 4/20\n",
      "315/315 [==============================] - 1s 4ms/step - loss: 0.1497 - accuracy: 0.9555 - val_loss: 0.1329 - val_accuracy: 0.9601\n",
      "Epoch 5/20\n",
      "315/315 [==============================] - 1s 4ms/step - loss: 0.1303 - accuracy: 0.9605 - val_loss: 0.1163 - val_accuracy: 0.9654\n",
      "Epoch 6/20\n",
      "315/315 [==============================] - 1s 4ms/step - loss: 0.1153 - accuracy: 0.9664 - val_loss: 0.1100 - val_accuracy: 0.9668\n",
      "Epoch 7/20\n",
      "315/315 [==============================] - 1s 4ms/step - loss: 0.1054 - accuracy: 0.9683 - val_loss: 0.1023 - val_accuracy: 0.9698\n",
      "Epoch 8/20\n",
      "315/315 [==============================] - 1s 3ms/step - loss: 0.0948 - accuracy: 0.9709 - val_loss: 0.1008 - val_accuracy: 0.9698\n",
      "Epoch 9/20\n",
      "315/315 [==============================] - 1s 3ms/step - loss: 0.0894 - accuracy: 0.9731 - val_loss: 0.0981 - val_accuracy: 0.9714\n",
      "Epoch 10/20\n",
      "315/315 [==============================] - 1s 3ms/step - loss: 0.0816 - accuracy: 0.9760 - val_loss: 0.0955 - val_accuracy: 0.9722\n",
      "Epoch 11/20\n",
      "315/315 [==============================] - 1s 3ms/step - loss: 0.0766 - accuracy: 0.9762 - val_loss: 0.0958 - val_accuracy: 0.9729\n",
      "Epoch 12/20\n",
      "315/315 [==============================] - 1s 3ms/step - loss: 0.0720 - accuracy: 0.9772 - val_loss: 0.0959 - val_accuracy: 0.9731\n",
      "Epoch 13/20\n",
      "315/315 [==============================] - 1s 3ms/step - loss: 0.0705 - accuracy: 0.9787 - val_loss: 0.0934 - val_accuracy: 0.9741\n",
      "Epoch 14/20\n",
      "315/315 [==============================] - 1s 3ms/step - loss: 0.0633 - accuracy: 0.9805 - val_loss: 0.0931 - val_accuracy: 0.9742\n",
      "Epoch 15/20\n",
      "315/315 [==============================] - 1s 3ms/step - loss: 0.0615 - accuracy: 0.9816 - val_loss: 0.0905 - val_accuracy: 0.9756\n",
      "Epoch 16/20\n",
      "315/315 [==============================] - 1s 3ms/step - loss: 0.0589 - accuracy: 0.9814 - val_loss: 0.0935 - val_accuracy: 0.9748\n",
      "Epoch 17/20\n",
      "315/315 [==============================] - 1s 3ms/step - loss: 0.0570 - accuracy: 0.9818 - val_loss: 0.0900 - val_accuracy: 0.9762\n",
      "Epoch 18/20\n",
      "315/315 [==============================] - 1s 3ms/step - loss: 0.0537 - accuracy: 0.9833 - val_loss: 0.0924 - val_accuracy: 0.9759\n",
      "Epoch 19/20\n",
      "315/315 [==============================] - 1s 3ms/step - loss: 0.0490 - accuracy: 0.9841 - val_loss: 0.0910 - val_accuracy: 0.9760\n",
      "Epoch 20/20\n",
      "315/315 [==============================] - 1s 3ms/step - loss: 0.0515 - accuracy: 0.9839 - val_loss: 0.0930 - val_accuracy: 0.9762\n"
     ]
    },
    {
     "name": "stderr",
     "output_type": "stream",
     "text": [
      "\u001b[32m[I 2022-03-28 17:50:21,712]\u001b[0m Trial 66 finished with value: 0.9754999876022339 and parameters: {'n_layers': 1, 'n_units_l0': 128, 'dropout_l0': 0.27059531210396626, 'learning_rate': 0.001035934141375721}. Best is trial 23 with value: 0.9772999882698059.\u001b[0m\n"
     ]
    },
    {
     "name": "stdout",
     "output_type": "stream",
     "text": [
      "Epoch 1/20\n",
      "310/315 [============================>.] - ETA: 0s - loss: 0.6643 - accuracy: 0.8216"
     ]
    },
    {
     "name": "stderr",
     "output_type": "stream",
     "text": [
      "\u001b[32m[I 2022-03-28 17:50:23,721]\u001b[0m Trial 67 pruned. Trial was pruned at epoch 0.\u001b[0m\n"
     ]
    },
    {
     "name": "stdout",
     "output_type": "stream",
     "text": [
      "Epoch 1/20\n",
      "301/315 [===========================>..] - ETA: 0s - loss: 1.6003 - accuracy: 0.4779"
     ]
    },
    {
     "name": "stderr",
     "output_type": "stream",
     "text": [
      "\u001b[32m[I 2022-03-28 17:50:25,648]\u001b[0m Trial 68 pruned. Trial was pruned at epoch 0.\u001b[0m\n"
     ]
    },
    {
     "name": "stdout",
     "output_type": "stream",
     "text": [
      "Epoch 1/20\n",
      "307/315 [============================>.] - ETA: 0s - loss: 1.8870 - accuracy: 0.3072"
     ]
    },
    {
     "name": "stderr",
     "output_type": "stream",
     "text": [
      "\u001b[32m[I 2022-03-28 17:50:27,597]\u001b[0m Trial 69 pruned. Trial was pruned at epoch 0.\u001b[0m\n"
     ]
    },
    {
     "name": "stdout",
     "output_type": "stream",
     "text": [
      "Epoch 1/20\n",
      "315/315 [==============================] - 1s 3ms/step - loss: 0.3409 - accuracy: 0.8946 - val_loss: 0.2115 - val_accuracy: 0.9340\n",
      "Epoch 2/20\n",
      "315/315 [==============================] - 1s 3ms/step - loss: 0.1805 - accuracy: 0.9464 - val_loss: 0.1341 - val_accuracy: 0.9616\n",
      "Epoch 3/20\n",
      "315/315 [==============================] - 1s 3ms/step - loss: 0.1474 - accuracy: 0.9576 - val_loss: 0.1179 - val_accuracy: 0.9676\n",
      "Epoch 4/20\n",
      "315/315 [==============================] - 1s 4ms/step - loss: 0.1297 - accuracy: 0.9621 - val_loss: 0.1222 - val_accuracy: 0.9656\n",
      "Epoch 5/20\n",
      "315/315 [==============================] - 1s 4ms/step - loss: 0.1168 - accuracy: 0.9660 - val_loss: 0.1218 - val_accuracy: 0.9678\n",
      "Epoch 6/20\n",
      "315/315 [==============================] - 1s 3ms/step - loss: 0.1067 - accuracy: 0.9687 - val_loss: 0.1157 - val_accuracy: 0.9726\n",
      "Epoch 7/20\n",
      "315/315 [==============================] - 1s 3ms/step - loss: 0.1023 - accuracy: 0.9710 - val_loss: 0.1297 - val_accuracy: 0.9713\n",
      "Epoch 8/20\n",
      "315/315 [==============================] - 1s 3ms/step - loss: 0.0925 - accuracy: 0.9732 - val_loss: 0.1300 - val_accuracy: 0.9701\n",
      "Epoch 9/20\n",
      "315/315 [==============================] - 1s 3ms/step - loss: 0.0928 - accuracy: 0.9733 - val_loss: 0.1255 - val_accuracy: 0.9734\n",
      "Epoch 10/20\n",
      "315/315 [==============================] - 1s 3ms/step - loss: 0.0855 - accuracy: 0.9748 - val_loss: 0.1358 - val_accuracy: 0.9730\n",
      "Epoch 11/20\n",
      "315/315 [==============================] - 1s 3ms/step - loss: 0.0842 - accuracy: 0.9761 - val_loss: 0.1344 - val_accuracy: 0.9728\n",
      "Epoch 12/20\n",
      "315/315 [==============================] - 1s 4ms/step - loss: 0.0823 - accuracy: 0.9770 - val_loss: 0.1424 - val_accuracy: 0.9720\n",
      "Epoch 13/20\n",
      "315/315 [==============================] - 1s 4ms/step - loss: 0.0792 - accuracy: 0.9777 - val_loss: 0.1387 - val_accuracy: 0.9738\n",
      "Epoch 14/20\n",
      "315/315 [==============================] - 1s 4ms/step - loss: 0.0746 - accuracy: 0.9790 - val_loss: 0.1457 - val_accuracy: 0.9740\n",
      "Epoch 15/20\n",
      "315/315 [==============================] - 1s 4ms/step - loss: 0.0701 - accuracy: 0.9801 - val_loss: 0.1436 - val_accuracy: 0.9729\n",
      "Epoch 16/20\n",
      "315/315 [==============================] - 1s 3ms/step - loss: 0.0709 - accuracy: 0.9803 - val_loss: 0.1453 - val_accuracy: 0.9730\n",
      "Epoch 17/20\n",
      "315/315 [==============================] - 1s 3ms/step - loss: 0.0679 - accuracy: 0.9800 - val_loss: 0.1544 - val_accuracy: 0.9727\n",
      "Epoch 18/20\n",
      "315/315 [==============================] - 1s 3ms/step - loss: 0.0683 - accuracy: 0.9815 - val_loss: 0.1623 - val_accuracy: 0.9720\n",
      "Epoch 19/20\n",
      "315/315 [==============================] - 1s 3ms/step - loss: 0.0655 - accuracy: 0.9825 - val_loss: 0.1640 - val_accuracy: 0.9731\n",
      "Epoch 20/20\n",
      "315/315 [==============================] - 1s 3ms/step - loss: 0.0695 - accuracy: 0.9814 - val_loss: 0.1746 - val_accuracy: 0.9720\n"
     ]
    },
    {
     "name": "stderr",
     "output_type": "stream",
     "text": [
      "\u001b[32m[I 2022-03-28 17:50:51,653]\u001b[0m Trial 70 finished with value: 0.9745000004768372 and parameters: {'n_layers': 1, 'n_units_l0': 116, 'dropout_l0': 0.23571851132368116, 'learning_rate': 0.00584601232516584}. Best is trial 23 with value: 0.9772999882698059.\u001b[0m\n"
     ]
    },
    {
     "name": "stdout",
     "output_type": "stream",
     "text": [
      "Epoch 1/20\n",
      "315/315 [==============================] - 1s 3ms/step - loss: 0.4425 - accuracy: 0.8724 - val_loss: 0.2260 - val_accuracy: 0.9363\n",
      "Epoch 2/20\n",
      "315/315 [==============================] - 1s 3ms/step - loss: 0.2255 - accuracy: 0.9344 - val_loss: 0.1729 - val_accuracy: 0.9512\n",
      "Epoch 3/20\n",
      "315/315 [==============================] - 1s 3ms/step - loss: 0.1765 - accuracy: 0.9476 - val_loss: 0.1400 - val_accuracy: 0.9604\n",
      "Epoch 4/20\n",
      "315/315 [==============================] - 1s 3ms/step - loss: 0.1525 - accuracy: 0.9553 - val_loss: 0.1328 - val_accuracy: 0.9614\n",
      "Epoch 5/20\n",
      "315/315 [==============================] - 1s 3ms/step - loss: 0.1325 - accuracy: 0.9604 - val_loss: 0.1245 - val_accuracy: 0.9644\n",
      "Epoch 6/20\n",
      "315/315 [==============================] - 1s 3ms/step - loss: 0.1187 - accuracy: 0.9638 - val_loss: 0.1169 - val_accuracy: 0.9669\n",
      "Epoch 7/20\n",
      "315/315 [==============================] - 1s 4ms/step - loss: 0.1076 - accuracy: 0.9672 - val_loss: 0.1133 - val_accuracy: 0.9673\n",
      "Epoch 8/20\n",
      "315/315 [==============================] - 1s 4ms/step - loss: 0.1027 - accuracy: 0.9691 - val_loss: 0.1097 - val_accuracy: 0.9693\n",
      "Epoch 9/20\n",
      "315/315 [==============================] - 1s 3ms/step - loss: 0.0957 - accuracy: 0.9706 - val_loss: 0.1104 - val_accuracy: 0.9701\n",
      "Epoch 10/20\n",
      "315/315 [==============================] - 1s 4ms/step - loss: 0.0893 - accuracy: 0.9733 - val_loss: 0.1060 - val_accuracy: 0.9714\n",
      "Epoch 11/20\n",
      "315/315 [==============================] - 1s 3ms/step - loss: 0.0851 - accuracy: 0.9745 - val_loss: 0.1057 - val_accuracy: 0.9720\n",
      "Epoch 12/20\n",
      "315/315 [==============================] - 1s 3ms/step - loss: 0.0820 - accuracy: 0.9751 - val_loss: 0.1074 - val_accuracy: 0.9718\n",
      "Epoch 13/20\n",
      "315/315 [==============================] - 1s 3ms/step - loss: 0.0765 - accuracy: 0.9768 - val_loss: 0.1128 - val_accuracy: 0.9717\n",
      "Epoch 14/20\n",
      "315/315 [==============================] - 1s 3ms/step - loss: 0.0750 - accuracy: 0.9772 - val_loss: 0.1071 - val_accuracy: 0.9725\n",
      "Epoch 15/20\n",
      "315/315 [==============================] - 1s 3ms/step - loss: 0.0699 - accuracy: 0.9792 - val_loss: 0.1101 - val_accuracy: 0.9706\n",
      "Epoch 16/20\n",
      "315/315 [==============================] - 1s 3ms/step - loss: 0.0667 - accuracy: 0.9794 - val_loss: 0.1079 - val_accuracy: 0.9726\n",
      "Epoch 17/20\n",
      "315/315 [==============================] - 1s 3ms/step - loss: 0.0663 - accuracy: 0.9793 - val_loss: 0.1086 - val_accuracy: 0.9734\n",
      "Epoch 18/20\n",
      "315/315 [==============================] - 1s 3ms/step - loss: 0.0630 - accuracy: 0.9809 - val_loss: 0.1091 - val_accuracy: 0.9731\n",
      "Epoch 19/20\n",
      "315/315 [==============================] - 1s 3ms/step - loss: 0.0608 - accuracy: 0.9809 - val_loss: 0.1119 - val_accuracy: 0.9735\n",
      "Epoch 20/20\n",
      "315/315 [==============================] - 1s 3ms/step - loss: 0.0578 - accuracy: 0.9822 - val_loss: 0.1115 - val_accuracy: 0.9736\n"
     ]
    },
    {
     "name": "stderr",
     "output_type": "stream",
     "text": [
      "\u001b[32m[I 2022-03-28 17:51:15,196]\u001b[0m Trial 71 finished with value: 0.9743000268936157 and parameters: {'n_layers': 1, 'n_units_l0': 112, 'dropout_l0': 0.30178557033005704, 'learning_rate': 0.0013493686786007933}. Best is trial 23 with value: 0.9772999882698059.\u001b[0m\n"
     ]
    },
    {
     "name": "stdout",
     "output_type": "stream",
     "text": [
      "Epoch 1/20\n",
      "305/315 [============================>.] - ETA: 0s - loss: 0.5311 - accuracy: 0.8494"
     ]
    },
    {
     "name": "stderr",
     "output_type": "stream",
     "text": [
      "\u001b[32m[I 2022-03-28 17:51:17,183]\u001b[0m Trial 72 pruned. Trial was pruned at epoch 0.\u001b[0m\n"
     ]
    },
    {
     "name": "stdout",
     "output_type": "stream",
     "text": [
      "Epoch 1/20\n",
      "315/315 [==============================] - 1s 3ms/step - loss: 0.4273 - accuracy: 0.8746 - val_loss: 0.2304 - val_accuracy: 0.9319\n",
      "Epoch 2/20\n",
      "315/315 [==============================] - 1s 3ms/step - loss: 0.2281 - accuracy: 0.9321 - val_loss: 0.1732 - val_accuracy: 0.9467\n",
      "Epoch 3/20\n",
      "295/315 [===========================>..] - ETA: 0s - loss: 0.1835 - accuracy: 0.9468"
     ]
    },
    {
     "name": "stderr",
     "output_type": "stream",
     "text": [
      "\u001b[32m[I 2022-03-28 17:51:21,199]\u001b[0m Trial 73 pruned. Trial was pruned at epoch 2.\u001b[0m\n"
     ]
    },
    {
     "name": "stdout",
     "output_type": "stream",
     "text": [
      "Epoch 1/20\n",
      "315/315 [==============================] - 1s 4ms/step - loss: 0.3499 - accuracy: 0.8933 - val_loss: 0.1811 - val_accuracy: 0.9435\n",
      "Epoch 2/20\n",
      "315/315 [==============================] - 1s 3ms/step - loss: 0.1803 - accuracy: 0.9467 - val_loss: 0.1275 - val_accuracy: 0.9623\n",
      "Epoch 3/20\n",
      "315/315 [==============================] - 1s 3ms/step - loss: 0.1367 - accuracy: 0.9576 - val_loss: 0.1259 - val_accuracy: 0.9644\n",
      "Epoch 4/20\n",
      "315/315 [==============================] - 1s 4ms/step - loss: 0.1198 - accuracy: 0.9638 - val_loss: 0.1171 - val_accuracy: 0.9670\n",
      "Epoch 5/20\n",
      "315/315 [==============================] - 1s 3ms/step - loss: 0.1037 - accuracy: 0.9680 - val_loss: 0.1135 - val_accuracy: 0.9707\n",
      "Epoch 6/20\n",
      "315/315 [==============================] - 1s 3ms/step - loss: 0.0944 - accuracy: 0.9714 - val_loss: 0.1153 - val_accuracy: 0.9706\n",
      "Epoch 7/20\n",
      "315/315 [==============================] - 1s 3ms/step - loss: 0.0895 - accuracy: 0.9713 - val_loss: 0.1269 - val_accuracy: 0.9698\n",
      "Epoch 8/20\n",
      "315/315 [==============================] - 1s 3ms/step - loss: 0.0803 - accuracy: 0.9757 - val_loss: 0.1146 - val_accuracy: 0.9731\n",
      "Epoch 9/20\n",
      "315/315 [==============================] - 1s 3ms/step - loss: 0.0747 - accuracy: 0.9759 - val_loss: 0.1320 - val_accuracy: 0.9703\n",
      "Epoch 10/20\n",
      "315/315 [==============================] - 1s 3ms/step - loss: 0.0724 - accuracy: 0.9781 - val_loss: 0.1241 - val_accuracy: 0.9726\n",
      "Epoch 11/20\n",
      "315/315 [==============================] - 1s 3ms/step - loss: 0.0702 - accuracy: 0.9787 - val_loss: 0.1150 - val_accuracy: 0.9759\n",
      "Epoch 12/20\n",
      "315/315 [==============================] - 1s 3ms/step - loss: 0.0674 - accuracy: 0.9797 - val_loss: 0.1282 - val_accuracy: 0.9725\n",
      "Epoch 13/20\n",
      "315/315 [==============================] - 1s 3ms/step - loss: 0.0626 - accuracy: 0.9803 - val_loss: 0.1334 - val_accuracy: 0.9746\n",
      "Epoch 14/20\n",
      "315/315 [==============================] - 1s 3ms/step - loss: 0.0581 - accuracy: 0.9828 - val_loss: 0.1228 - val_accuracy: 0.9753\n",
      "Epoch 15/20\n",
      "315/315 [==============================] - 1s 3ms/step - loss: 0.0579 - accuracy: 0.9815 - val_loss: 0.1253 - val_accuracy: 0.9775\n",
      "Epoch 16/20\n",
      "315/315 [==============================] - 1s 3ms/step - loss: 0.0570 - accuracy: 0.9820 - val_loss: 0.1235 - val_accuracy: 0.9769\n",
      "Epoch 17/20\n",
      "315/315 [==============================] - 1s 3ms/step - loss: 0.0546 - accuracy: 0.9824 - val_loss: 0.1409 - val_accuracy: 0.9747\n",
      "Epoch 18/20\n",
      "315/315 [==============================] - 1s 3ms/step - loss: 0.0530 - accuracy: 0.9839 - val_loss: 0.1279 - val_accuracy: 0.9763\n",
      "Epoch 19/20\n",
      "315/315 [==============================] - 1s 3ms/step - loss: 0.0512 - accuracy: 0.9841 - val_loss: 0.1360 - val_accuracy: 0.9771\n",
      "Epoch 20/20\n",
      "315/315 [==============================] - 1s 3ms/step - loss: 0.0505 - accuracy: 0.9848 - val_loss: 0.1390 - val_accuracy: 0.9761\n"
     ]
    },
    {
     "name": "stderr",
     "output_type": "stream",
     "text": [
      "\u001b[32m[I 2022-03-28 17:51:44,729]\u001b[0m Trial 74 finished with value: 0.9789000153541565 and parameters: {'n_layers': 1, 'n_units_l0': 125, 'dropout_l0': 0.28155932664292166, 'learning_rate': 0.003380608431168201}. Best is trial 74 with value: 0.9789000153541565.\u001b[0m\n"
     ]
    },
    {
     "name": "stdout",
     "output_type": "stream",
     "text": [
      "Epoch 1/20\n",
      "315/315 [==============================] - 2s 3ms/step - loss: 0.3514 - accuracy: 0.8944 - val_loss: 0.1698 - val_accuracy: 0.9504\n",
      "Epoch 2/20\n",
      "315/315 [==============================] - 1s 3ms/step - loss: 0.1789 - accuracy: 0.9465 - val_loss: 0.1296 - val_accuracy: 0.9607\n",
      "Epoch 3/20\n",
      "315/315 [==============================] - 1s 3ms/step - loss: 0.1404 - accuracy: 0.9569 - val_loss: 0.1191 - val_accuracy: 0.9657\n",
      "Epoch 4/20\n",
      "315/315 [==============================] - 1s 3ms/step - loss: 0.1208 - accuracy: 0.9642 - val_loss: 0.1188 - val_accuracy: 0.9659\n",
      "Epoch 5/20\n",
      "315/315 [==============================] - 1s 3ms/step - loss: 0.1089 - accuracy: 0.9671 - val_loss: 0.1185 - val_accuracy: 0.9683\n",
      "Epoch 6/20\n",
      "315/315 [==============================] - 1s 3ms/step - loss: 0.0971 - accuracy: 0.9697 - val_loss: 0.1131 - val_accuracy: 0.9702\n",
      "Epoch 7/20\n",
      "315/315 [==============================] - 1s 3ms/step - loss: 0.0919 - accuracy: 0.9726 - val_loss: 0.1050 - val_accuracy: 0.9726\n",
      "Epoch 8/20\n",
      "315/315 [==============================] - 1s 3ms/step - loss: 0.0851 - accuracy: 0.9749 - val_loss: 0.1341 - val_accuracy: 0.9667\n",
      "Epoch 9/20\n",
      "315/315 [==============================] - 1s 3ms/step - loss: 0.0812 - accuracy: 0.9756 - val_loss: 0.1081 - val_accuracy: 0.9739\n",
      "Epoch 10/20\n",
      "315/315 [==============================] - 1s 3ms/step - loss: 0.0771 - accuracy: 0.9775 - val_loss: 0.1272 - val_accuracy: 0.9703\n",
      "Epoch 11/20\n",
      "315/315 [==============================] - 1s 3ms/step - loss: 0.0718 - accuracy: 0.9776 - val_loss: 0.1241 - val_accuracy: 0.9718\n",
      "Epoch 12/20\n",
      "315/315 [==============================] - 1s 3ms/step - loss: 0.0686 - accuracy: 0.9791 - val_loss: 0.1203 - val_accuracy: 0.9730\n",
      "Epoch 13/20\n",
      "315/315 [==============================] - 1s 4ms/step - loss: 0.0665 - accuracy: 0.9799 - val_loss: 0.1227 - val_accuracy: 0.9732\n",
      "Epoch 14/20\n",
      "315/315 [==============================] - 1s 3ms/step - loss: 0.0637 - accuracy: 0.9816 - val_loss: 0.1211 - val_accuracy: 0.9742\n",
      "Epoch 15/20\n",
      "315/315 [==============================] - 1s 4ms/step - loss: 0.0613 - accuracy: 0.9812 - val_loss: 0.1202 - val_accuracy: 0.9745\n",
      "Epoch 16/20\n",
      "315/315 [==============================] - 1s 3ms/step - loss: 0.0619 - accuracy: 0.9814 - val_loss: 0.1269 - val_accuracy: 0.9745\n",
      "Epoch 17/20\n",
      "315/315 [==============================] - 1s 3ms/step - loss: 0.0612 - accuracy: 0.9816 - val_loss: 0.1310 - val_accuracy: 0.9759\n",
      "Epoch 18/20\n",
      "315/315 [==============================] - 1s 4ms/step - loss: 0.0568 - accuracy: 0.9828 - val_loss: 0.1360 - val_accuracy: 0.9747\n",
      "Epoch 19/20\n",
      "315/315 [==============================] - 1s 3ms/step - loss: 0.0551 - accuracy: 0.9830 - val_loss: 0.1332 - val_accuracy: 0.9756\n",
      "Epoch 20/20\n",
      "315/315 [==============================] - 1s 3ms/step - loss: 0.0530 - accuracy: 0.9847 - val_loss: 0.1378 - val_accuracy: 0.9753\n"
     ]
    },
    {
     "name": "stderr",
     "output_type": "stream",
     "text": [
      "\u001b[32m[I 2022-03-28 17:52:08,778]\u001b[0m Trial 75 finished with value: 0.9765999913215637 and parameters: {'n_layers': 1, 'n_units_l0': 125, 'dropout_l0': 0.28569230269104134, 'learning_rate': 0.00324649561495446}. Best is trial 74 with value: 0.9789000153541565.\u001b[0m\n"
     ]
    },
    {
     "name": "stdout",
     "output_type": "stream",
     "text": [
      "Epoch 1/20\n",
      "315/315 [==============================] - 1s 4ms/step - loss: 0.3675 - accuracy: 0.8895 - val_loss: 0.1984 - val_accuracy: 0.9377\n",
      "Epoch 2/20\n",
      "315/315 [==============================] - 1s 3ms/step - loss: 0.1879 - accuracy: 0.9442 - val_loss: 0.1371 - val_accuracy: 0.9584\n",
      "Epoch 3/20\n",
      "315/315 [==============================] - 1s 3ms/step - loss: 0.1485 - accuracy: 0.9555 - val_loss: 0.1234 - val_accuracy: 0.9634\n",
      "Epoch 4/20\n",
      "315/315 [==============================] - 1s 3ms/step - loss: 0.1268 - accuracy: 0.9621 - val_loss: 0.1135 - val_accuracy: 0.9669\n",
      "Epoch 5/20\n",
      "315/315 [==============================] - 1s 3ms/step - loss: 0.1160 - accuracy: 0.9653 - val_loss: 0.1143 - val_accuracy: 0.9671\n",
      "Epoch 6/20\n",
      "315/315 [==============================] - 1s 3ms/step - loss: 0.1061 - accuracy: 0.9688 - val_loss: 0.1154 - val_accuracy: 0.9668\n",
      "Epoch 7/20\n",
      "315/315 [==============================] - 1s 3ms/step - loss: 0.0986 - accuracy: 0.9712 - val_loss: 0.1087 - val_accuracy: 0.9712\n",
      "Epoch 8/20\n",
      "315/315 [==============================] - 1s 3ms/step - loss: 0.0938 - accuracy: 0.9714 - val_loss: 0.1090 - val_accuracy: 0.9712\n",
      "Epoch 9/20\n",
      "315/315 [==============================] - 1s 3ms/step - loss: 0.0895 - accuracy: 0.9727 - val_loss: 0.1135 - val_accuracy: 0.9707\n",
      "Epoch 10/20\n",
      "315/315 [==============================] - 1s 3ms/step - loss: 0.0835 - accuracy: 0.9752 - val_loss: 0.1161 - val_accuracy: 0.9703\n",
      "Epoch 11/20\n",
      "315/315 [==============================] - 1s 3ms/step - loss: 0.0823 - accuracy: 0.9745 - val_loss: 0.1193 - val_accuracy: 0.9717\n",
      "Epoch 12/20\n",
      "315/315 [==============================] - 1s 4ms/step - loss: 0.0744 - accuracy: 0.9770 - val_loss: 0.1172 - val_accuracy: 0.9726\n",
      "Epoch 13/20\n",
      "315/315 [==============================] - 1s 4ms/step - loss: 0.0741 - accuracy: 0.9776 - val_loss: 0.1243 - val_accuracy: 0.9719\n",
      "Epoch 14/20\n",
      "315/315 [==============================] - 1s 3ms/step - loss: 0.0738 - accuracy: 0.9774 - val_loss: 0.1270 - val_accuracy: 0.9711\n",
      "Epoch 15/20\n",
      "315/315 [==============================] - 1s 3ms/step - loss: 0.0705 - accuracy: 0.9784 - val_loss: 0.1197 - val_accuracy: 0.9732\n",
      "Epoch 16/20\n",
      "315/315 [==============================] - 1s 3ms/step - loss: 0.0677 - accuracy: 0.9795 - val_loss: 0.1286 - val_accuracy: 0.9713\n",
      "Epoch 17/20\n",
      "315/315 [==============================] - 1s 3ms/step - loss: 0.0666 - accuracy: 0.9802 - val_loss: 0.1312 - val_accuracy: 0.9735\n",
      "Epoch 18/20\n",
      "315/315 [==============================] - 1s 3ms/step - loss: 0.0631 - accuracy: 0.9812 - val_loss: 0.1326 - val_accuracy: 0.9725\n",
      "Epoch 19/20\n",
      "315/315 [==============================] - 1s 3ms/step - loss: 0.0639 - accuracy: 0.9807 - val_loss: 0.1343 - val_accuracy: 0.9728\n",
      "Epoch 20/20\n",
      "315/315 [==============================] - 1s 3ms/step - loss: 0.0598 - accuracy: 0.9815 - val_loss: 0.1361 - val_accuracy: 0.9743\n"
     ]
    },
    {
     "name": "stderr",
     "output_type": "stream",
     "text": [
      "\u001b[32m[I 2022-03-28 17:52:32,486]\u001b[0m Trial 76 finished with value: 0.9753999710083008 and parameters: {'n_layers': 1, 'n_units_l0': 109, 'dropout_l0': 0.28336215537170417, 'learning_rate': 0.0031698698767019364}. Best is trial 74 with value: 0.9789000153541565.\u001b[0m\n"
     ]
    },
    {
     "name": "stdout",
     "output_type": "stream",
     "text": [
      "Epoch 1/20\n",
      "304/315 [===========================>..] - ETA: 0s - loss: 0.6769 - accuracy: 0.7785"
     ]
    },
    {
     "name": "stderr",
     "output_type": "stream",
     "text": [
      "\u001b[32m[I 2022-03-28 17:52:34,326]\u001b[0m Trial 77 pruned. Trial was pruned at epoch 0.\u001b[0m\n"
     ]
    },
    {
     "name": "stdout",
     "output_type": "stream",
     "text": [
      "Epoch 1/20\n",
      "309/315 [============================>.] - ETA: 0s - loss: 1.5381 - accuracy: 0.4252"
     ]
    },
    {
     "name": "stderr",
     "output_type": "stream",
     "text": [
      "\u001b[32m[I 2022-03-28 17:52:36,133]\u001b[0m Trial 78 pruned. Trial was pruned at epoch 0.\u001b[0m\n"
     ]
    },
    {
     "name": "stdout",
     "output_type": "stream",
     "text": [
      "Epoch 1/20\n",
      "315/315 [==============================] - 1s 3ms/step - loss: 0.3907 - accuracy: 0.8799 - val_loss: 0.1895 - val_accuracy: 0.9430\n",
      "Epoch 2/20\n",
      "315/315 [==============================] - 1s 3ms/step - loss: 0.2202 - accuracy: 0.9332 - val_loss: 0.1755 - val_accuracy: 0.9478\n",
      "Epoch 3/20\n",
      "315/315 [==============================] - 1s 3ms/step - loss: 0.1859 - accuracy: 0.9449 - val_loss: 0.1483 - val_accuracy: 0.9579\n",
      "Epoch 4/20\n",
      "315/315 [==============================] - 1s 3ms/step - loss: 0.1666 - accuracy: 0.9505 - val_loss: 0.1321 - val_accuracy: 0.9651\n",
      "Epoch 5/20\n",
      "315/315 [==============================] - 1s 3ms/step - loss: 0.1559 - accuracy: 0.9539 - val_loss: 0.1303 - val_accuracy: 0.9661\n",
      "Epoch 6/20\n",
      "315/315 [==============================] - 1s 3ms/step - loss: 0.1465 - accuracy: 0.9573 - val_loss: 0.1325 - val_accuracy: 0.9653\n",
      "Epoch 7/20\n",
      "315/315 [==============================] - 1s 3ms/step - loss: 0.1370 - accuracy: 0.9590 - val_loss: 0.1251 - val_accuracy: 0.9692\n",
      "Epoch 8/20\n",
      "315/315 [==============================] - 1s 3ms/step - loss: 0.1324 - accuracy: 0.9615 - val_loss: 0.1484 - val_accuracy: 0.9656\n",
      "Epoch 9/20\n",
      "315/315 [==============================] - 1s 3ms/step - loss: 0.1233 - accuracy: 0.9632 - val_loss: 0.1405 - val_accuracy: 0.9692\n",
      "Epoch 10/20\n",
      "311/315 [============================>.] - ETA: 0s - loss: 0.1232 - accuracy: 0.9637"
     ]
    },
    {
     "name": "stderr",
     "output_type": "stream",
     "text": [
      "\u001b[32m[I 2022-03-28 17:52:48,067]\u001b[0m Trial 79 pruned. Trial was pruned at epoch 9.\u001b[0m\n"
     ]
    },
    {
     "name": "stdout",
     "output_type": "stream",
     "text": [
      "Epoch 1/20\n",
      "315/315 [==============================] - 1s 3ms/step - loss: 0.4015 - accuracy: 0.8789 - val_loss: 0.2075 - val_accuracy: 0.9398\n",
      "Epoch 2/20\n",
      "315/315 [==============================] - 1s 3ms/step - loss: 0.2128 - accuracy: 0.9361 - val_loss: 0.1695 - val_accuracy: 0.9506\n",
      "Epoch 3/20\n",
      "315/315 [==============================] - 1s 3ms/step - loss: 0.1753 - accuracy: 0.9472 - val_loss: 0.1432 - val_accuracy: 0.9605\n",
      "Epoch 4/20\n",
      "315/315 [==============================] - 1s 3ms/step - loss: 0.1532 - accuracy: 0.9535 - val_loss: 0.1261 - val_accuracy: 0.9654\n",
      "Epoch 5/20\n",
      "315/315 [==============================] - 1s 3ms/step - loss: 0.1409 - accuracy: 0.9575 - val_loss: 0.1260 - val_accuracy: 0.9670\n",
      "Epoch 6/20\n",
      "315/315 [==============================] - 1s 3ms/step - loss: 0.1274 - accuracy: 0.9615 - val_loss: 0.1260 - val_accuracy: 0.9660\n",
      "Epoch 7/20\n",
      "315/315 [==============================] - 1s 3ms/step - loss: 0.1230 - accuracy: 0.9628 - val_loss: 0.1292 - val_accuracy: 0.9686\n",
      "Epoch 8/20\n",
      "315/315 [==============================] - 1s 3ms/step - loss: 0.1164 - accuracy: 0.9649 - val_loss: 0.1289 - val_accuracy: 0.9689\n",
      "Epoch 9/20\n",
      "315/315 [==============================] - 1s 3ms/step - loss: 0.1119 - accuracy: 0.9675 - val_loss: 0.1337 - val_accuracy: 0.9674\n",
      "Epoch 10/20\n",
      "315/315 [==============================] - 1s 3ms/step - loss: 0.1104 - accuracy: 0.9667 - val_loss: 0.1273 - val_accuracy: 0.9713\n",
      "Epoch 11/20\n",
      "315/315 [==============================] - 1s 4ms/step - loss: 0.1045 - accuracy: 0.9700 - val_loss: 0.1298 - val_accuracy: 0.9699\n",
      "Epoch 12/20\n",
      "315/315 [==============================] - 1s 3ms/step - loss: 0.0972 - accuracy: 0.9709 - val_loss: 0.1320 - val_accuracy: 0.9708\n",
      "Epoch 13/20\n",
      "315/315 [==============================] - 1s 4ms/step - loss: 0.0949 - accuracy: 0.9701 - val_loss: 0.1425 - val_accuracy: 0.9705\n",
      "Epoch 14/20\n",
      "315/315 [==============================] - 1s 4ms/step - loss: 0.0941 - accuracy: 0.9718 - val_loss: 0.1330 - val_accuracy: 0.9715\n",
      "Epoch 15/20\n",
      "315/315 [==============================] - 1s 4ms/step - loss: 0.0929 - accuracy: 0.9724 - val_loss: 0.1368 - val_accuracy: 0.9714\n",
      "Epoch 16/20\n",
      "315/315 [==============================] - 1s 4ms/step - loss: 0.0866 - accuracy: 0.9741 - val_loss: 0.1393 - val_accuracy: 0.9712\n",
      "Epoch 17/20\n",
      "315/315 [==============================] - 1s 4ms/step - loss: 0.0860 - accuracy: 0.9741 - val_loss: 0.1336 - val_accuracy: 0.9721\n",
      "Epoch 18/20\n",
      "315/315 [==============================] - 1s 3ms/step - loss: 0.0880 - accuracy: 0.9740 - val_loss: 0.1493 - val_accuracy: 0.9714\n",
      "Epoch 19/20\n",
      "315/315 [==============================] - 1s 4ms/step - loss: 0.0871 - accuracy: 0.9734 - val_loss: 0.1557 - val_accuracy: 0.9698\n",
      "Epoch 20/20\n",
      "315/315 [==============================] - 1s 3ms/step - loss: 0.0852 - accuracy: 0.9756 - val_loss: 0.1500 - val_accuracy: 0.9715\n"
     ]
    },
    {
     "name": "stderr",
     "output_type": "stream",
     "text": [
      "\u001b[32m[I 2022-03-28 17:53:12,030]\u001b[0m Trial 80 finished with value: 0.9742000102996826 and parameters: {'n_layers': 1, 'n_units_l0': 101, 'dropout_l0': 0.35699077751935887, 'learning_rate': 0.002633111859064742}. Best is trial 74 with value: 0.9789000153541565.\u001b[0m\n"
     ]
    },
    {
     "name": "stdout",
     "output_type": "stream",
     "text": [
      "Epoch 1/20\n",
      "315/315 [==============================] - 1s 3ms/step - loss: 0.3750 - accuracy: 0.8891 - val_loss: 0.1711 - val_accuracy: 0.9498\n",
      "Epoch 2/20\n",
      "315/315 [==============================] - 1s 3ms/step - loss: 0.1855 - accuracy: 0.9448 - val_loss: 0.1381 - val_accuracy: 0.9575\n",
      "Epoch 3/20\n",
      "315/315 [==============================] - 1s 3ms/step - loss: 0.1465 - accuracy: 0.9563 - val_loss: 0.1159 - val_accuracy: 0.9661\n",
      "Epoch 4/20\n",
      "315/315 [==============================] - 1s 3ms/step - loss: 0.1215 - accuracy: 0.9631 - val_loss: 0.1068 - val_accuracy: 0.9685\n",
      "Epoch 5/20\n",
      "315/315 [==============================] - 1s 3ms/step - loss: 0.1066 - accuracy: 0.9676 - val_loss: 0.1001 - val_accuracy: 0.9713\n",
      "Epoch 6/20\n",
      "315/315 [==============================] - 1s 3ms/step - loss: 0.0926 - accuracy: 0.9710 - val_loss: 0.0996 - val_accuracy: 0.9720\n",
      "Epoch 7/20\n",
      "315/315 [==============================] - 1s 3ms/step - loss: 0.0856 - accuracy: 0.9735 - val_loss: 0.0938 - val_accuracy: 0.9738\n",
      "Epoch 8/20\n",
      "315/315 [==============================] - 1s 3ms/step - loss: 0.0791 - accuracy: 0.9756 - val_loss: 0.0955 - val_accuracy: 0.9739\n",
      "Epoch 9/20\n",
      "315/315 [==============================] - 1s 4ms/step - loss: 0.0734 - accuracy: 0.9765 - val_loss: 0.0996 - val_accuracy: 0.9738\n",
      "Epoch 10/20\n",
      "315/315 [==============================] - 1s 3ms/step - loss: 0.0684 - accuracy: 0.9790 - val_loss: 0.0907 - val_accuracy: 0.9759\n",
      "Epoch 11/20\n",
      "315/315 [==============================] - 1s 3ms/step - loss: 0.0623 - accuracy: 0.9804 - val_loss: 0.1015 - val_accuracy: 0.9752\n",
      "Epoch 12/20\n",
      "315/315 [==============================] - 1s 3ms/step - loss: 0.0604 - accuracy: 0.9807 - val_loss: 0.0960 - val_accuracy: 0.9761\n",
      "Epoch 13/20\n",
      "315/315 [==============================] - 1s 3ms/step - loss: 0.0568 - accuracy: 0.9824 - val_loss: 0.0956 - val_accuracy: 0.9761\n",
      "Epoch 14/20\n",
      "315/315 [==============================] - 1s 3ms/step - loss: 0.0553 - accuracy: 0.9821 - val_loss: 0.0958 - val_accuracy: 0.9770\n",
      "Epoch 15/20\n",
      "315/315 [==============================] - 1s 3ms/step - loss: 0.0513 - accuracy: 0.9842 - val_loss: 0.0976 - val_accuracy: 0.9766\n",
      "Epoch 16/20\n",
      "315/315 [==============================] - 1s 4ms/step - loss: 0.0504 - accuracy: 0.9843 - val_loss: 0.0972 - val_accuracy: 0.9781\n",
      "Epoch 17/20\n",
      "315/315 [==============================] - 1s 4ms/step - loss: 0.0485 - accuracy: 0.9842 - val_loss: 0.1022 - val_accuracy: 0.9768\n",
      "Epoch 18/20\n",
      "315/315 [==============================] - 1s 4ms/step - loss: 0.0443 - accuracy: 0.9856 - val_loss: 0.1042 - val_accuracy: 0.9771\n",
      "Epoch 19/20\n",
      "315/315 [==============================] - 1s 4ms/step - loss: 0.0468 - accuracy: 0.9846 - val_loss: 0.1018 - val_accuracy: 0.9776\n",
      "Epoch 20/20\n",
      "315/315 [==============================] - 1s 4ms/step - loss: 0.0424 - accuracy: 0.9860 - val_loss: 0.1035 - val_accuracy: 0.9786\n"
     ]
    },
    {
     "name": "stderr",
     "output_type": "stream",
     "text": [
      "\u001b[32m[I 2022-03-28 17:53:35,970]\u001b[0m Trial 81 finished with value: 0.9761999845504761 and parameters: {'n_layers': 1, 'n_units_l0': 126, 'dropout_l0': 0.267955646960048, 'learning_rate': 0.002075980926597991}. Best is trial 74 with value: 0.9789000153541565.\u001b[0m\n"
     ]
    },
    {
     "name": "stdout",
     "output_type": "stream",
     "text": [
      "Epoch 1/20\n",
      "315/315 [==============================] - 2s 4ms/step - loss: 0.3638 - accuracy: 0.8901 - val_loss: 0.1764 - val_accuracy: 0.9479\n",
      "Epoch 2/20\n",
      "315/315 [==============================] - 1s 3ms/step - loss: 0.1862 - accuracy: 0.9438 - val_loss: 0.1428 - val_accuracy: 0.9574\n",
      "Epoch 3/20\n",
      "315/315 [==============================] - 1s 3ms/step - loss: 0.1513 - accuracy: 0.9547 - val_loss: 0.1141 - val_accuracy: 0.9662\n",
      "Epoch 4/20\n",
      "315/315 [==============================] - 1s 3ms/step - loss: 0.1276 - accuracy: 0.9618 - val_loss: 0.1198 - val_accuracy: 0.9660\n",
      "Epoch 5/20\n",
      "315/315 [==============================] - 1s 4ms/step - loss: 0.1163 - accuracy: 0.9648 - val_loss: 0.1241 - val_accuracy: 0.9656\n",
      "Epoch 6/20\n",
      "315/315 [==============================] - 1s 4ms/step - loss: 0.1048 - accuracy: 0.9688 - val_loss: 0.1143 - val_accuracy: 0.9689\n",
      "Epoch 7/20\n",
      "315/315 [==============================] - 1s 4ms/step - loss: 0.1008 - accuracy: 0.9696 - val_loss: 0.1132 - val_accuracy: 0.9718\n",
      "Epoch 8/20\n",
      "315/315 [==============================] - 1s 4ms/step - loss: 0.0942 - accuracy: 0.9712 - val_loss: 0.1090 - val_accuracy: 0.9721\n",
      "Epoch 9/20\n",
      "315/315 [==============================] - 1s 4ms/step - loss: 0.0898 - accuracy: 0.9729 - val_loss: 0.1094 - val_accuracy: 0.9724\n",
      "Epoch 10/20\n",
      "315/315 [==============================] - 1s 4ms/step - loss: 0.0846 - accuracy: 0.9744 - val_loss: 0.1045 - val_accuracy: 0.9747\n",
      "Epoch 11/20\n",
      "315/315 [==============================] - 1s 4ms/step - loss: 0.0801 - accuracy: 0.9761 - val_loss: 0.1112 - val_accuracy: 0.9731\n",
      "Epoch 12/20\n",
      "315/315 [==============================] - 1s 4ms/step - loss: 0.0762 - accuracy: 0.9772 - val_loss: 0.1209 - val_accuracy: 0.9733\n",
      "Epoch 13/20\n",
      "315/315 [==============================] - 1s 4ms/step - loss: 0.0743 - accuracy: 0.9773 - val_loss: 0.1161 - val_accuracy: 0.9747\n",
      "Epoch 14/20\n",
      "315/315 [==============================] - 1s 3ms/step - loss: 0.0698 - accuracy: 0.9782 - val_loss: 0.1228 - val_accuracy: 0.9733\n",
      "Epoch 15/20\n",
      "315/315 [==============================] - 1s 4ms/step - loss: 0.0664 - accuracy: 0.9798 - val_loss: 0.1313 - val_accuracy: 0.9740\n",
      "Epoch 16/20\n",
      "315/315 [==============================] - 1s 3ms/step - loss: 0.0682 - accuracy: 0.9792 - val_loss: 0.1243 - val_accuracy: 0.9746\n",
      "Epoch 17/20\n",
      "315/315 [==============================] - 1s 3ms/step - loss: 0.0648 - accuracy: 0.9803 - val_loss: 0.1346 - val_accuracy: 0.9729\n",
      "Epoch 18/20\n",
      "315/315 [==============================] - 1s 3ms/step - loss: 0.0678 - accuracy: 0.9801 - val_loss: 0.1376 - val_accuracy: 0.9714\n",
      "Epoch 19/20\n",
      "315/315 [==============================] - 1s 3ms/step - loss: 0.0612 - accuracy: 0.9814 - val_loss: 0.1394 - val_accuracy: 0.9721\n",
      "Epoch 20/20\n",
      "315/315 [==============================] - 1s 4ms/step - loss: 0.0636 - accuracy: 0.9813 - val_loss: 0.1395 - val_accuracy: 0.9744\n"
     ]
    },
    {
     "name": "stderr",
     "output_type": "stream",
     "text": [
      "\u001b[32m[I 2022-03-28 17:54:01,072]\u001b[0m Trial 82 finished with value: 0.9729999899864197 and parameters: {'n_layers': 1, 'n_units_l0': 117, 'dropout_l0': 0.2800974948825661, 'learning_rate': 0.003507523586320415}. Best is trial 74 with value: 0.9789000153541565.\u001b[0m\n"
     ]
    },
    {
     "name": "stdout",
     "output_type": "stream",
     "text": [
      "Epoch 1/20\n",
      "315/315 [==============================] - 2s 4ms/step - loss: 0.3929 - accuracy: 0.8822 - val_loss: 0.1815 - val_accuracy: 0.9475\n",
      "Epoch 2/20\n",
      "315/315 [==============================] - 1s 4ms/step - loss: 0.1955 - accuracy: 0.9408 - val_loss: 0.1393 - val_accuracy: 0.9605\n",
      "Epoch 3/20\n",
      "315/315 [==============================] - 1s 4ms/step - loss: 0.1541 - accuracy: 0.9550 - val_loss: 0.1206 - val_accuracy: 0.9653\n",
      "Epoch 4/20\n",
      "315/315 [==============================] - 1s 4ms/step - loss: 0.1297 - accuracy: 0.9603 - val_loss: 0.1068 - val_accuracy: 0.9692\n",
      "Epoch 5/20\n",
      "315/315 [==============================] - 1s 4ms/step - loss: 0.1136 - accuracy: 0.9660 - val_loss: 0.1005 - val_accuracy: 0.9713\n",
      "Epoch 6/20\n",
      "315/315 [==============================] - 1s 4ms/step - loss: 0.1002 - accuracy: 0.9691 - val_loss: 0.1010 - val_accuracy: 0.9708\n",
      "Epoch 7/20\n",
      "315/315 [==============================] - 2s 5ms/step - loss: 0.0922 - accuracy: 0.9714 - val_loss: 0.0936 - val_accuracy: 0.9741\n",
      "Epoch 8/20\n",
      "315/315 [==============================] - 2s 5ms/step - loss: 0.0842 - accuracy: 0.9737 - val_loss: 0.1073 - val_accuracy: 0.9703\n",
      "Epoch 9/20\n",
      "315/315 [==============================] - 1s 4ms/step - loss: 0.0804 - accuracy: 0.9751 - val_loss: 0.1023 - val_accuracy: 0.9731\n",
      "Epoch 10/20\n",
      "315/315 [==============================] - 1s 4ms/step - loss: 0.0771 - accuracy: 0.9769 - val_loss: 0.0952 - val_accuracy: 0.9750\n",
      "Epoch 11/20\n",
      "315/315 [==============================] - 1s 3ms/step - loss: 0.0703 - accuracy: 0.9778 - val_loss: 0.1016 - val_accuracy: 0.9739\n",
      "Epoch 12/20\n",
      "315/315 [==============================] - 1s 3ms/step - loss: 0.0652 - accuracy: 0.9798 - val_loss: 0.0982 - val_accuracy: 0.9755\n",
      "Epoch 13/20\n",
      "315/315 [==============================] - 1s 3ms/step - loss: 0.0647 - accuracy: 0.9799 - val_loss: 0.1010 - val_accuracy: 0.9759\n",
      "Epoch 14/20\n",
      "315/315 [==============================] - 1s 4ms/step - loss: 0.0617 - accuracy: 0.9808 - val_loss: 0.1062 - val_accuracy: 0.9745\n",
      "Epoch 15/20\n",
      "315/315 [==============================] - 1s 3ms/step - loss: 0.0598 - accuracy: 0.9816 - val_loss: 0.1016 - val_accuracy: 0.9764\n",
      "Epoch 16/20\n",
      "315/315 [==============================] - 1s 4ms/step - loss: 0.0562 - accuracy: 0.9822 - val_loss: 0.1078 - val_accuracy: 0.9748\n",
      "Epoch 17/20\n",
      "315/315 [==============================] - 1s 4ms/step - loss: 0.0558 - accuracy: 0.9829 - val_loss: 0.1048 - val_accuracy: 0.9760\n",
      "Epoch 18/20\n",
      "315/315 [==============================] - 1s 4ms/step - loss: 0.0534 - accuracy: 0.9839 - val_loss: 0.1091 - val_accuracy: 0.9761\n",
      "Epoch 19/20\n",
      "315/315 [==============================] - 1s 4ms/step - loss: 0.0524 - accuracy: 0.9838 - val_loss: 0.1080 - val_accuracy: 0.9774\n",
      "Epoch 20/20\n",
      "315/315 [==============================] - 1s 4ms/step - loss: 0.0502 - accuracy: 0.9840 - val_loss: 0.1101 - val_accuracy: 0.9764\n"
     ]
    },
    {
     "name": "stderr",
     "output_type": "stream",
     "text": [
      "\u001b[32m[I 2022-03-28 17:54:27,703]\u001b[0m Trial 83 finished with value: 0.9769999980926514 and parameters: {'n_layers': 1, 'n_units_l0': 120, 'dropout_l0': 0.2866798980967188, 'learning_rate': 0.0020507308986461924}. Best is trial 74 with value: 0.9789000153541565.\u001b[0m\n"
     ]
    },
    {
     "name": "stdout",
     "output_type": "stream",
     "text": [
      "Epoch 1/20\n",
      "315/315 [==============================] - 1s 3ms/step - loss: 0.3805 - accuracy: 0.8880 - val_loss: 0.2018 - val_accuracy: 0.9396\n",
      "Epoch 2/20\n",
      "315/315 [==============================] - 1s 4ms/step - loss: 0.1878 - accuracy: 0.9444 - val_loss: 0.1411 - val_accuracy: 0.9580\n",
      "Epoch 3/20\n",
      "315/315 [==============================] - 1s 3ms/step - loss: 0.1440 - accuracy: 0.9581 - val_loss: 0.1195 - val_accuracy: 0.9659\n",
      "Epoch 4/20\n",
      "315/315 [==============================] - 1s 3ms/step - loss: 0.1193 - accuracy: 0.9644 - val_loss: 0.1047 - val_accuracy: 0.9691\n",
      "Epoch 5/20\n",
      "315/315 [==============================] - 1s 3ms/step - loss: 0.1047 - accuracy: 0.9687 - val_loss: 0.1013 - val_accuracy: 0.9720\n",
      "Epoch 6/20\n",
      "315/315 [==============================] - 1s 4ms/step - loss: 0.0939 - accuracy: 0.9720 - val_loss: 0.1046 - val_accuracy: 0.9722\n",
      "Epoch 7/20\n",
      "315/315 [==============================] - 1s 3ms/step - loss: 0.0849 - accuracy: 0.9735 - val_loss: 0.1039 - val_accuracy: 0.9725\n",
      "Epoch 8/20\n",
      "315/315 [==============================] - 1s 3ms/step - loss: 0.0787 - accuracy: 0.9762 - val_loss: 0.0997 - val_accuracy: 0.9736\n",
      "Epoch 9/20\n",
      "315/315 [==============================] - 1s 3ms/step - loss: 0.0702 - accuracy: 0.9780 - val_loss: 0.1035 - val_accuracy: 0.9739\n",
      "Epoch 10/20\n",
      "315/315 [==============================] - 1s 3ms/step - loss: 0.0662 - accuracy: 0.9796 - val_loss: 0.0999 - val_accuracy: 0.9751\n",
      "Epoch 11/20\n",
      "315/315 [==============================] - 1s 3ms/step - loss: 0.0611 - accuracy: 0.9812 - val_loss: 0.1006 - val_accuracy: 0.9753\n",
      "Epoch 12/20\n",
      "315/315 [==============================] - 1s 3ms/step - loss: 0.0581 - accuracy: 0.9820 - val_loss: 0.1040 - val_accuracy: 0.9736\n",
      "Epoch 13/20\n",
      "315/315 [==============================] - 1s 3ms/step - loss: 0.0501 - accuracy: 0.9832 - val_loss: 0.1109 - val_accuracy: 0.9742\n",
      "Epoch 14/20\n",
      "315/315 [==============================] - 1s 3ms/step - loss: 0.0524 - accuracy: 0.9833 - val_loss: 0.1070 - val_accuracy: 0.9744\n",
      "Epoch 15/20\n",
      "315/315 [==============================] - 1s 3ms/step - loss: 0.0517 - accuracy: 0.9841 - val_loss: 0.1096 - val_accuracy: 0.9752\n",
      "Epoch 16/20\n",
      "315/315 [==============================] - 1s 3ms/step - loss: 0.0487 - accuracy: 0.9849 - val_loss: 0.1076 - val_accuracy: 0.9751\n",
      "Epoch 17/20\n",
      "315/315 [==============================] - 1s 3ms/step - loss: 0.0448 - accuracy: 0.9854 - val_loss: 0.1152 - val_accuracy: 0.9753\n",
      "Epoch 18/20\n",
      "315/315 [==============================] - 1s 3ms/step - loss: 0.0452 - accuracy: 0.9854 - val_loss: 0.1096 - val_accuracy: 0.9753\n",
      "Epoch 19/20\n",
      "315/315 [==============================] - 1s 3ms/step - loss: 0.0423 - accuracy: 0.9869 - val_loss: 0.1214 - val_accuracy: 0.9755\n",
      "Epoch 20/20\n",
      "315/315 [==============================] - 1s 3ms/step - loss: 0.0401 - accuracy: 0.9869 - val_loss: 0.1133 - val_accuracy: 0.9762\n"
     ]
    },
    {
     "name": "stderr",
     "output_type": "stream",
     "text": [
      "\u001b[32m[I 2022-03-28 17:54:51,128]\u001b[0m Trial 84 finished with value: 0.9779000282287598 and parameters: {'n_layers': 1, 'n_units_l0': 120, 'dropout_l0': 0.24885707427801013, 'learning_rate': 0.0019937425294458753}. Best is trial 74 with value: 0.9789000153541565.\u001b[0m\n"
     ]
    },
    {
     "name": "stdout",
     "output_type": "stream",
     "text": [
      "Epoch 1/20\n",
      "311/315 [============================>.] - ETA: 0s - loss: 0.9309 - accuracy: 0.7011"
     ]
    },
    {
     "name": "stderr",
     "output_type": "stream",
     "text": [
      "\u001b[32m[I 2022-03-28 17:54:53,046]\u001b[0m Trial 85 pruned. Trial was pruned at epoch 0.\u001b[0m\n"
     ]
    },
    {
     "name": "stdout",
     "output_type": "stream",
     "text": [
      "Epoch 1/20\n",
      "310/315 [============================>.] - ETA: 0s - loss: 0.3441 - accuracy: 0.8951"
     ]
    },
    {
     "name": "stderr",
     "output_type": "stream",
     "text": [
      "\u001b[32m[I 2022-03-28 17:54:54,885]\u001b[0m Trial 86 pruned. Trial was pruned at epoch 0.\u001b[0m\n"
     ]
    },
    {
     "name": "stdout",
     "output_type": "stream",
     "text": [
      "Epoch 1/20\n",
      "302/315 [===========================>..] - ETA: 0s - loss: 0.4653 - accuracy: 0.8664"
     ]
    },
    {
     "name": "stderr",
     "output_type": "stream",
     "text": [
      "\u001b[32m[I 2022-03-28 17:54:57,062]\u001b[0m Trial 87 pruned. Trial was pruned at epoch 0.\u001b[0m\n"
     ]
    },
    {
     "name": "stdout",
     "output_type": "stream",
     "text": [
      "Epoch 1/20\n",
      "315/315 [==============================] - 1s 3ms/step - loss: 0.3866 - accuracy: 0.8834 - val_loss: 0.2120 - val_accuracy: 0.9383\n",
      "Epoch 2/20\n",
      "315/315 [==============================] - 1s 3ms/step - loss: 0.2128 - accuracy: 0.9363 - val_loss: 0.1753 - val_accuracy: 0.9521\n",
      "Epoch 3/20\n",
      "308/315 [============================>.] - ETA: 0s - loss: 0.1802 - accuracy: 0.9466"
     ]
    },
    {
     "name": "stderr",
     "output_type": "stream",
     "text": [
      "\u001b[32m[I 2022-03-28 17:55:01,297]\u001b[0m Trial 88 pruned. Trial was pruned at epoch 2.\u001b[0m\n"
     ]
    },
    {
     "name": "stdout",
     "output_type": "stream",
     "text": [
      "Epoch 1/20\n",
      "315/315 [==============================] - 1s 4ms/step - loss: 0.3618 - accuracy: 0.8917 - val_loss: 0.1757 - val_accuracy: 0.9466\n",
      "Epoch 2/20\n",
      "315/315 [==============================] - 1s 3ms/step - loss: 0.1771 - accuracy: 0.9475 - val_loss: 0.1537 - val_accuracy: 0.9546\n",
      "Epoch 3/20\n",
      "315/315 [==============================] - 1s 3ms/step - loss: 0.1417 - accuracy: 0.9577 - val_loss: 0.1259 - val_accuracy: 0.9649\n",
      "Epoch 4/20\n",
      "315/315 [==============================] - 1s 3ms/step - loss: 0.1279 - accuracy: 0.9627 - val_loss: 0.1105 - val_accuracy: 0.9696\n",
      "Epoch 5/20\n",
      "315/315 [==============================] - 1s 3ms/step - loss: 0.1097 - accuracy: 0.9666 - val_loss: 0.1238 - val_accuracy: 0.9667\n",
      "Epoch 6/20\n",
      "315/315 [==============================] - 1s 3ms/step - loss: 0.1029 - accuracy: 0.9689 - val_loss: 0.1167 - val_accuracy: 0.9714\n",
      "Epoch 7/20\n",
      "315/315 [==============================] - 1s 3ms/step - loss: 0.0939 - accuracy: 0.9723 - val_loss: 0.1294 - val_accuracy: 0.9716\n",
      "Epoch 8/20\n",
      "315/315 [==============================] - 1s 4ms/step - loss: 0.0889 - accuracy: 0.9737 - val_loss: 0.1225 - val_accuracy: 0.9717\n",
      "Epoch 9/20\n",
      "315/315 [==============================] - 1s 3ms/step - loss: 0.0856 - accuracy: 0.9750 - val_loss: 0.1242 - val_accuracy: 0.9743\n",
      "Epoch 10/20\n",
      "315/315 [==============================] - 1s 4ms/step - loss: 0.0832 - accuracy: 0.9764 - val_loss: 0.1324 - val_accuracy: 0.9709\n",
      "Epoch 11/20\n",
      "315/315 [==============================] - 1s 4ms/step - loss: 0.0726 - accuracy: 0.9785 - val_loss: 0.1338 - val_accuracy: 0.9718\n",
      "Epoch 12/20\n",
      "315/315 [==============================] - 1s 4ms/step - loss: 0.0783 - accuracy: 0.9783 - val_loss: 0.1428 - val_accuracy: 0.9715\n",
      "Epoch 13/20\n",
      "315/315 [==============================] - 1s 4ms/step - loss: 0.0707 - accuracy: 0.9796 - val_loss: 0.1438 - val_accuracy: 0.9737\n",
      "Epoch 14/20\n",
      "315/315 [==============================] - 1s 4ms/step - loss: 0.0744 - accuracy: 0.9785 - val_loss: 0.1588 - val_accuracy: 0.9723\n",
      "Epoch 15/20\n",
      "315/315 [==============================] - 1s 4ms/step - loss: 0.0702 - accuracy: 0.9800 - val_loss: 0.1511 - val_accuracy: 0.9738\n",
      "Epoch 16/20\n",
      "315/315 [==============================] - 1s 4ms/step - loss: 0.0671 - accuracy: 0.9805 - val_loss: 0.1562 - val_accuracy: 0.9737\n",
      "Epoch 17/20\n",
      "315/315 [==============================] - 1s 4ms/step - loss: 0.0616 - accuracy: 0.9816 - val_loss: 0.1659 - val_accuracy: 0.9745\n",
      "Epoch 18/20\n",
      "315/315 [==============================] - 1s 4ms/step - loss: 0.0650 - accuracy: 0.9825 - val_loss: 0.1624 - val_accuracy: 0.9737\n",
      "Epoch 19/20\n",
      "315/315 [==============================] - 1s 4ms/step - loss: 0.0610 - accuracy: 0.9830 - val_loss: 0.1755 - val_accuracy: 0.9738\n",
      "Epoch 20/20\n",
      "315/315 [==============================] - 1s 4ms/step - loss: 0.0616 - accuracy: 0.9830 - val_loss: 0.1915 - val_accuracy: 0.9710\n"
     ]
    },
    {
     "name": "stderr",
     "output_type": "stream",
     "text": [
      "\u001b[32m[I 2022-03-28 17:55:26,952]\u001b[0m Trial 89 finished with value: 0.9731000065803528 and parameters: {'n_layers': 1, 'n_units_l0': 128, 'dropout_l0': 0.27250969878330217, 'learning_rate': 0.004937455720387297}. Best is trial 74 with value: 0.9789000153541565.\u001b[0m\n"
     ]
    },
    {
     "name": "stdout",
     "output_type": "stream",
     "text": [
      "Epoch 1/20\n",
      "299/315 [===========================>..] - ETA: 0s - loss: 0.4783 - accuracy: 0.8604"
     ]
    },
    {
     "name": "stderr",
     "output_type": "stream",
     "text": [
      "\u001b[32m[I 2022-03-28 17:55:29,135]\u001b[0m Trial 90 pruned. Trial was pruned at epoch 0.\u001b[0m\n"
     ]
    },
    {
     "name": "stdout",
     "output_type": "stream",
     "text": [
      "Epoch 1/20\n",
      "315/315 [==============================] - 1s 4ms/step - loss: 0.3926 - accuracy: 0.8827 - val_loss: 0.2166 - val_accuracy: 0.9393\n",
      "Epoch 2/20\n",
      "315/315 [==============================] - 1s 3ms/step - loss: 0.1996 - accuracy: 0.9411 - val_loss: 0.1503 - val_accuracy: 0.9565\n",
      "Epoch 3/20\n",
      "315/315 [==============================] - 1s 3ms/step - loss: 0.1555 - accuracy: 0.9542 - val_loss: 0.1278 - val_accuracy: 0.9628\n",
      "Epoch 4/20\n",
      "315/315 [==============================] - 1s 3ms/step - loss: 0.1332 - accuracy: 0.9598 - val_loss: 0.1139 - val_accuracy: 0.9664\n",
      "Epoch 5/20\n",
      "315/315 [==============================] - 1s 3ms/step - loss: 0.1138 - accuracy: 0.9657 - val_loss: 0.1077 - val_accuracy: 0.9684\n",
      "Epoch 6/20\n",
      "315/315 [==============================] - 1s 3ms/step - loss: 0.1072 - accuracy: 0.9672 - val_loss: 0.1175 - val_accuracy: 0.9682\n",
      "Epoch 7/20\n",
      "315/315 [==============================] - 1s 4ms/step - loss: 0.0991 - accuracy: 0.9702 - val_loss: 0.1025 - val_accuracy: 0.9714\n",
      "Epoch 8/20\n",
      "315/315 [==============================] - 1s 4ms/step - loss: 0.0919 - accuracy: 0.9720 - val_loss: 0.1068 - val_accuracy: 0.9711\n",
      "Epoch 9/20\n",
      "315/315 [==============================] - 1s 4ms/step - loss: 0.0873 - accuracy: 0.9731 - val_loss: 0.1088 - val_accuracy: 0.9719\n",
      "Epoch 10/20\n",
      "315/315 [==============================] - 1s 4ms/step - loss: 0.0795 - accuracy: 0.9748 - val_loss: 0.1212 - val_accuracy: 0.9691\n",
      "Epoch 11/20\n",
      "315/315 [==============================] - 1s 4ms/step - loss: 0.0776 - accuracy: 0.9766 - val_loss: 0.1133 - val_accuracy: 0.9715\n",
      "Epoch 12/20\n",
      "315/315 [==============================] - 1s 4ms/step - loss: 0.0721 - accuracy: 0.9781 - val_loss: 0.1073 - val_accuracy: 0.9729\n",
      "Epoch 13/20\n",
      "315/315 [==============================] - 1s 4ms/step - loss: 0.0667 - accuracy: 0.9794 - val_loss: 0.1116 - val_accuracy: 0.9724\n",
      "Epoch 14/20\n",
      "315/315 [==============================] - 1s 4ms/step - loss: 0.0671 - accuracy: 0.9796 - val_loss: 0.1072 - val_accuracy: 0.9738\n",
      "Epoch 15/20\n",
      "315/315 [==============================] - 1s 4ms/step - loss: 0.0675 - accuracy: 0.9800 - val_loss: 0.1107 - val_accuracy: 0.9735\n",
      "Epoch 16/20\n",
      "315/315 [==============================] - 1s 4ms/step - loss: 0.0599 - accuracy: 0.9813 - val_loss: 0.1270 - val_accuracy: 0.9717\n",
      "Epoch 17/20\n",
      "315/315 [==============================] - 1s 4ms/step - loss: 0.0603 - accuracy: 0.9809 - val_loss: 0.1191 - val_accuracy: 0.9730\n",
      "Epoch 18/20\n",
      "315/315 [==============================] - 1s 4ms/step - loss: 0.0614 - accuracy: 0.9812 - val_loss: 0.1255 - val_accuracy: 0.9726\n",
      "Epoch 19/20\n",
      "315/315 [==============================] - 1s 4ms/step - loss: 0.0590 - accuracy: 0.9818 - val_loss: 0.1177 - val_accuracy: 0.9736\n",
      "Epoch 20/20\n",
      "315/315 [==============================] - 1s 4ms/step - loss: 0.0541 - accuracy: 0.9826 - val_loss: 0.1401 - val_accuracy: 0.9692\n"
     ]
    },
    {
     "name": "stderr",
     "output_type": "stream",
     "text": [
      "\u001b[32m[I 2022-03-28 17:55:54,301]\u001b[0m Trial 91 finished with value: 0.97079998254776 and parameters: {'n_layers': 1, 'n_units_l0': 104, 'dropout_l0': 0.2649384550054484, 'learning_rate': 0.0023021042965958452}. Best is trial 74 with value: 0.9789000153541565.\u001b[0m\n"
     ]
    },
    {
     "name": "stdout",
     "output_type": "stream",
     "text": [
      "Epoch 1/20\n",
      "306/315 [============================>.] - ETA: 0s - loss: 0.3945 - accuracy: 0.8838"
     ]
    },
    {
     "name": "stderr",
     "output_type": "stream",
     "text": [
      "\u001b[32m[I 2022-03-28 17:55:56,610]\u001b[0m Trial 92 pruned. Trial was pruned at epoch 0.\u001b[0m\n"
     ]
    },
    {
     "name": "stdout",
     "output_type": "stream",
     "text": [
      "Epoch 1/20\n",
      "307/315 [============================>.] - ETA: 0s - loss: 0.6000 - accuracy: 0.8332"
     ]
    },
    {
     "name": "stderr",
     "output_type": "stream",
     "text": [
      "\u001b[32m[I 2022-03-28 17:55:58,677]\u001b[0m Trial 93 pruned. Trial was pruned at epoch 0.\u001b[0m\n"
     ]
    },
    {
     "name": "stdout",
     "output_type": "stream",
     "text": [
      "Epoch 1/20\n",
      "310/315 [============================>.] - ETA: 0s - loss: 0.4056 - accuracy: 0.8821"
     ]
    },
    {
     "name": "stderr",
     "output_type": "stream",
     "text": [
      "\u001b[32m[I 2022-03-28 17:56:01,084]\u001b[0m Trial 94 pruned. Trial was pruned at epoch 0.\u001b[0m\n"
     ]
    },
    {
     "name": "stdout",
     "output_type": "stream",
     "text": [
      "Epoch 1/20\n",
      "308/315 [============================>.] - ETA: 0s - loss: 2.0796 - accuracy: 0.2945"
     ]
    },
    {
     "name": "stderr",
     "output_type": "stream",
     "text": [
      "\u001b[32m[I 2022-03-28 17:56:03,300]\u001b[0m Trial 95 pruned. Trial was pruned at epoch 0.\u001b[0m\n"
     ]
    },
    {
     "name": "stdout",
     "output_type": "stream",
     "text": [
      "Epoch 1/20\n",
      "304/315 [===========================>..] - ETA: 0s - loss: 1.5235 - accuracy: 0.4367"
     ]
    },
    {
     "name": "stderr",
     "output_type": "stream",
     "text": [
      "\u001b[32m[I 2022-03-28 17:56:06,088]\u001b[0m Trial 96 pruned. Trial was pruned at epoch 0.\u001b[0m\n"
     ]
    },
    {
     "name": "stdout",
     "output_type": "stream",
     "text": [
      "Epoch 1/20\n",
      "315/315 [==============================] - 2s 4ms/step - loss: 0.3961 - accuracy: 0.8830 - val_loss: 0.2024 - val_accuracy: 0.9379\n",
      "Epoch 2/20\n",
      "315/315 [==============================] - 1s 4ms/step - loss: 0.2033 - accuracy: 0.9404 - val_loss: 0.1550 - val_accuracy: 0.9531\n",
      "Epoch 3/20\n",
      "315/315 [==============================] - 1s 4ms/step - loss: 0.1549 - accuracy: 0.9545 - val_loss: 0.1352 - val_accuracy: 0.9598\n",
      "Epoch 4/20\n",
      "315/315 [==============================] - 1s 4ms/step - loss: 0.1302 - accuracy: 0.9611 - val_loss: 0.1127 - val_accuracy: 0.9667\n",
      "Epoch 5/20\n",
      "315/315 [==============================] - 1s 4ms/step - loss: 0.1142 - accuracy: 0.9664 - val_loss: 0.1177 - val_accuracy: 0.9654\n",
      "Epoch 6/20\n",
      "315/315 [==============================] - 1s 4ms/step - loss: 0.1039 - accuracy: 0.9692 - val_loss: 0.1034 - val_accuracy: 0.9701\n",
      "Epoch 7/20\n",
      "315/315 [==============================] - 1s 4ms/step - loss: 0.0910 - accuracy: 0.9718 - val_loss: 0.1026 - val_accuracy: 0.9698\n",
      "Epoch 8/20\n",
      "315/315 [==============================] - 1s 4ms/step - loss: 0.0872 - accuracy: 0.9730 - val_loss: 0.1060 - val_accuracy: 0.9699\n",
      "Epoch 9/20\n",
      "315/315 [==============================] - 1s 4ms/step - loss: 0.0783 - accuracy: 0.9771 - val_loss: 0.1035 - val_accuracy: 0.9711\n",
      "Epoch 10/20\n",
      "315/315 [==============================] - 1s 4ms/step - loss: 0.0752 - accuracy: 0.9769 - val_loss: 0.0988 - val_accuracy: 0.9730\n",
      "Epoch 11/20\n",
      "315/315 [==============================] - 1s 4ms/step - loss: 0.0706 - accuracy: 0.9785 - val_loss: 0.1017 - val_accuracy: 0.9726\n",
      "Epoch 12/20\n",
      "315/315 [==============================] - 1s 4ms/step - loss: 0.0697 - accuracy: 0.9790 - val_loss: 0.1018 - val_accuracy: 0.9738\n",
      "Epoch 13/20\n",
      "315/315 [==============================] - 1s 4ms/step - loss: 0.0660 - accuracy: 0.9797 - val_loss: 0.1009 - val_accuracy: 0.9731\n",
      "Epoch 14/20\n",
      "315/315 [==============================] - 1s 4ms/step - loss: 0.0608 - accuracy: 0.9807 - val_loss: 0.1063 - val_accuracy: 0.9731\n",
      "Epoch 15/20\n",
      "315/315 [==============================] - 1s 4ms/step - loss: 0.0592 - accuracy: 0.9814 - val_loss: 0.1009 - val_accuracy: 0.9737\n",
      "Epoch 16/20\n",
      "315/315 [==============================] - 1s 4ms/step - loss: 0.0538 - accuracy: 0.9832 - val_loss: 0.1084 - val_accuracy: 0.9731\n",
      "Epoch 17/20\n",
      "315/315 [==============================] - 1s 3ms/step - loss: 0.0543 - accuracy: 0.9829 - val_loss: 0.1062 - val_accuracy: 0.9744\n",
      "Epoch 18/20\n",
      "315/315 [==============================] - 1s 4ms/step - loss: 0.0514 - accuracy: 0.9837 - val_loss: 0.1051 - val_accuracy: 0.9755\n",
      "Epoch 19/20\n",
      "315/315 [==============================] - 1s 4ms/step - loss: 0.0514 - accuracy: 0.9838 - val_loss: 0.1060 - val_accuracy: 0.9747\n",
      "Epoch 20/20\n",
      "315/315 [==============================] - 1s 4ms/step - loss: 0.0485 - accuracy: 0.9836 - val_loss: 0.1129 - val_accuracy: 0.9740\n"
     ]
    },
    {
     "name": "stderr",
     "output_type": "stream",
     "text": [
      "\u001b[32m[I 2022-03-28 17:56:33,210]\u001b[0m Trial 97 finished with value: 0.9764999747276306 and parameters: {'n_layers': 1, 'n_units_l0': 111, 'dropout_l0': 0.26240888673752827, 'learning_rate': 0.0018652331724338751}. Best is trial 74 with value: 0.9789000153541565.\u001b[0m\n"
     ]
    },
    {
     "name": "stdout",
     "output_type": "stream",
     "text": [
      "Epoch 1/20\n",
      "310/315 [============================>.] - ETA: 0s - loss: 0.4914 - accuracy: 0.8590"
     ]
    },
    {
     "name": "stderr",
     "output_type": "stream",
     "text": [
      "\u001b[32m[I 2022-03-28 17:56:35,321]\u001b[0m Trial 98 pruned. Trial was pruned at epoch 0.\u001b[0m\n"
     ]
    },
    {
     "name": "stdout",
     "output_type": "stream",
     "text": [
      "Epoch 1/20\n",
      "315/315 [==============================] - 2s 4ms/step - loss: 0.7839 - accuracy: 0.7454 - val_loss: 0.2374 - val_accuracy: 0.9339\n",
      "Epoch 2/20\n",
      "303/315 [===========================>..] - ETA: 0s - loss: 0.4404 - accuracy: 0.8699"
     ]
    },
    {
     "name": "stderr",
     "output_type": "stream",
     "text": [
      "\u001b[32m[I 2022-03-28 17:56:39,306]\u001b[0m Trial 99 pruned. Trial was pruned at epoch 1.\u001b[0m\n"
     ]
    },
    {
     "name": "stdout",
     "output_type": "stream",
     "text": [
      "Study statistics: \n",
      "  Number of finished trials: 100\n",
      "  Number of pruned trials: 58\n",
      "  Number of complete trials: 42\n",
      "Best trial:\n",
      "  Value:  0.9789000153541565\n",
      "  Params: \n",
      "    n_layers: 1\n",
      "    n_units_l0: 125\n",
      "    dropout_l0: 0.28155932664292166\n",
      "    learning_rate: 0.003380608431168201\n"
     ]
    }
   ],
   "source": [
    "if __name__ == \"__main__\":\n",
    "    study = optuna.create_study(direction=\"maximize\", pruner=optuna.pruners.MedianPruner())\n",
    "    study.optimize(objective, n_trials=100)\n",
    "    pruned_trials = study.get_trials(deepcopy=False, states=(TrialState.PRUNED,))\n",
    "    complete_trials = study.get_trials(deepcopy=False, states=(TrialState.COMPLETE,))\n",
    "    print(\"Study statistics: \")\n",
    "    print(f\"  Number of finished trials: {len(study.trials)}\")\n",
    "    print(f\"  Number of pruned trials: {len(pruned_trials)}\")\n",
    "    print(f\"  Number of complete trials: {len(complete_trials)}\")\n",
    "\n",
    "    print(\"Best trial:\")\n",
    "    trial = study.best_trial\n",
    "\n",
    "    print(\"  Value: \", trial.value)\n",
    "\n",
    "    print(\"  Params: \")\n",
    "    for key, value in trial.params.items():\n",
    "        print(f\"    {key}: {value}\")"
   ]
  }
 ],
 "metadata": {
  "interpreter": {
   "hash": "683035455952fa0c5c07396da2eac07ae1d76897e4164c7dcbe8556e60afc848"
  },
  "kernelspec": {
   "display_name": "Python 3.9.7 ('udemy_tensorflow')",
   "language": "python",
   "name": "python3"
  },
  "language_info": {
   "codemirror_mode": {
    "name": "ipython",
    "version": 3
   },
   "file_extension": ".py",
   "mimetype": "text/x-python",
   "name": "python",
   "nbconvert_exporter": "python",
   "pygments_lexer": "ipython3",
   "version": "3.9.12"
  },
  "orig_nbformat": 4
 },
 "nbformat": 4,
 "nbformat_minor": 2
}
