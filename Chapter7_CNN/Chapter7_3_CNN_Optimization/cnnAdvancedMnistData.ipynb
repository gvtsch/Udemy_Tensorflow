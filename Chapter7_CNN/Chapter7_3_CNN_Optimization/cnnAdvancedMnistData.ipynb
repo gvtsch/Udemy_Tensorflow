{
 "cells": [
  {
   "cell_type": "markdown",
   "metadata": {},
   "source": [
    "In diesem Skript wird nicht auf ein sequentielles Model (Sequential) gesetzt, sondern auf ein Model"
   ]
  },
  {
   "cell_type": "code",
   "execution_count": 2,
   "metadata": {},
   "outputs": [],
   "source": [
    "import os # Arbeiten mit Pfaden\n",
    "import numpy as np\n",
    "from typing import Tuple\n",
    "\n",
    "from tensorflow.keras.datasets import mnist\n",
    "from tensorflow.keras.layers import Activation\n",
    "from tensorflow.keras.layers import Dense\n",
    "from tensorflow.keras.layers import Input\n",
    "from tensorflow.keras.models import Model\n",
    "from tensorflow.keras.utils import to_categorical\n",
    "from tensorflow.keras.optimizers import Adam\n",
    "from tensorflow.keras.callbacks import TensorBoard\n",
    "from tensorflow.keras.layers import Conv2D\n",
    "from tensorflow.keras.layers import Flatten\n",
    "from tensorflow.keras.layers import MaxPooling2D\n",
    "\n",
    "import matplotlib.pyplot as plt\n",
    "\n",
    "from mnistData_advance import MNIST"
   ]
  },
  {
   "cell_type": "code",
   "execution_count": 3,
   "metadata": {},
   "outputs": [],
   "source": [
    "def build_model(img_shape: Tuple[int, int, int], num_classes: int) -> Model:\n",
    "    input_img = Input(shape=img_shape)\n",
    "\n",
    "    x = Conv2D(filters=32, kernel_size=3, padding='same')(input_img)\n",
    "    x = Activation('relu')(x)\n",
    "    x = Conv2D(filters=32, kernel_size=3, padding='same')(x)\n",
    "    x = Activation('relu')(x)\n",
    "    x = MaxPooling2D()(x)\n",
    "\n",
    "    x = Conv2D(filters=64, kernel_size=3, padding='same')(x)\n",
    "    x = Activation('relu')(x)\n",
    "    x = Conv2D(filters=64, kernel_size=3, padding='same')(x)\n",
    "    x = Activation('relu')(x)\n",
    "    x = MaxPooling2D()(x)\n",
    "\n",
    "    x = Flatten()(x)\n",
    "    x = Dense(units=num_classes)(x)\n",
    "    y_pred = Activation('softmax')(x)\n",
    "\n",
    "    # Jetzt muss noch ein Modell Objekt mit eben obiger Struktur erstellt werden\n",
    "    model = Model(\n",
    "        inputs = [input_img],\n",
    "        outputs = [y_pred]\n",
    "    )\n",
    "\n",
    "    model.summary()\n",
    "\n",
    "    return model"
   ]
  },
  {
   "cell_type": "code",
   "execution_count": 4,
   "metadata": {},
   "outputs": [
    {
     "name": "stdout",
     "output_type": "stream",
     "text": [
      "Model: \"model\"\n",
      "_________________________________________________________________\n",
      " Layer (type)                Output Shape              Param #   \n",
      "=================================================================\n",
      " input_1 (InputLayer)        [(None, 28, 28, 1)]       0         \n",
      "                                                                 \n",
      " conv2d (Conv2D)             (None, 28, 28, 32)        320       \n",
      "                                                                 \n",
      " activation (Activation)     (None, 28, 28, 32)        0         \n",
      "                                                                 \n",
      " conv2d_1 (Conv2D)           (None, 28, 28, 32)        9248      \n",
      "                                                                 \n",
      " activation_1 (Activation)   (None, 28, 28, 32)        0         \n",
      "                                                                 \n",
      " max_pooling2d (MaxPooling2D  (None, 14, 14, 32)       0         \n",
      " )                                                               \n",
      "                                                                 \n",
      " conv2d_2 (Conv2D)           (None, 14, 14, 64)        18496     \n",
      "                                                                 \n",
      " activation_2 (Activation)   (None, 14, 14, 64)        0         \n",
      "                                                                 \n",
      " conv2d_3 (Conv2D)           (None, 14, 14, 64)        36928     \n",
      "                                                                 \n",
      " activation_3 (Activation)   (None, 14, 14, 64)        0         \n",
      "                                                                 \n",
      " max_pooling2d_1 (MaxPooling  (None, 7, 7, 64)         0         \n",
      " 2D)                                                             \n",
      "                                                                 \n",
      " flatten (Flatten)           (None, 3136)              0         \n",
      "                                                                 \n",
      " dense (Dense)               (None, 10)                31370     \n",
      "                                                                 \n",
      " activation_4 (Activation)   (None, 10)                0         \n",
      "                                                                 \n",
      "=================================================================\n",
      "Total params: 96,362\n",
      "Trainable params: 96,362\n",
      "Non-trainable params: 0\n",
      "_________________________________________________________________\n",
      "Epoch 1/10\n",
      "315/315 [==============================] - 13s 10ms/step - loss: 0.3563 - accuracy: 0.8890 - val_loss: 0.1166 - val_accuracy: 0.9658\n",
      "Epoch 2/10\n",
      "315/315 [==============================] - 2s 8ms/step - loss: 0.0777 - accuracy: 0.9760 - val_loss: 0.0761 - val_accuracy: 0.9782\n",
      "Epoch 3/10\n",
      "315/315 [==============================] - 2s 8ms/step - loss: 0.0528 - accuracy: 0.9829 - val_loss: 0.0628 - val_accuracy: 0.9814\n",
      "Epoch 4/10\n",
      "315/315 [==============================] - 2s 8ms/step - loss: 0.0449 - accuracy: 0.9858 - val_loss: 0.0523 - val_accuracy: 0.9847\n",
      "Epoch 5/10\n",
      "315/315 [==============================] - 2s 8ms/step - loss: 0.0317 - accuracy: 0.9894 - val_loss: 0.0519 - val_accuracy: 0.9855\n",
      "Epoch 6/10\n",
      "315/315 [==============================] - 2s 8ms/step - loss: 0.0272 - accuracy: 0.9915 - val_loss: 0.0504 - val_accuracy: 0.9852\n",
      "Epoch 7/10\n",
      "315/315 [==============================] - 3s 9ms/step - loss: 0.0220 - accuracy: 0.9931 - val_loss: 0.0480 - val_accuracy: 0.9862\n",
      "Epoch 8/10\n",
      "315/315 [==============================] - 3s 10ms/step - loss: 0.0197 - accuracy: 0.9936 - val_loss: 0.0504 - val_accuracy: 0.9858\n",
      "Epoch 9/10\n",
      "315/315 [==============================] - 3s 10ms/step - loss: 0.0146 - accuracy: 0.9954 - val_loss: 0.0513 - val_accuracy: 0.9869\n",
      "Epoch 10/10\n",
      "315/315 [==============================] - 2s 8ms/step - loss: 0.0136 - accuracy: 0.9955 - val_loss: 0.0622 - val_accuracy: 0.9852\n"
     ]
    },
    {
     "data": {
      "text/plain": [
       "<keras.callbacks.History at 0x181a390c8b0>"
      ]
     },
     "execution_count": 4,
     "metadata": {},
     "output_type": "execute_result"
    }
   ],
   "source": [
    "data = MNIST()\n",
    "\n",
    "train_dataset = data.get_train_set()\n",
    "val_dataset = data.get_val_set()\n",
    "\n",
    "model = build_model(data.img_shape, data.num_classes)\n",
    "\n",
    "model.compile(\n",
    "    loss='categorical_crossentropy', # wird bei Kategorie-Problemen mit mehr als 2 Klassen genommen\n",
    "    optimizer=Adam(learning_rate=0.0005),\n",
    "    metrics=['accuracy']\n",
    ")\n",
    "\n",
    "model.fit(\n",
    "    train_dataset,\n",
    "    epochs=10,\n",
    "    batch_size=128,\n",
    "    verbose=1,\n",
    "    validation_data=val_dataset\n",
    ")"
   ]
  }
 ],
 "metadata": {
  "interpreter": {
   "hash": "683035455952fa0c5c07396da2eac07ae1d76897e4164c7dcbe8556e60afc848"
  },
  "kernelspec": {
   "display_name": "Python 3.9.7 ('udemy_tensorflow')",
   "language": "python",
   "name": "python3"
  },
  "language_info": {
   "codemirror_mode": {
    "name": "ipython",
    "version": 3
   },
   "file_extension": ".py",
   "mimetype": "text/x-python",
   "name": "python",
   "nbconvert_exporter": "python",
   "pygments_lexer": "ipython3",
   "version": "3.9.7"
  },
  "orig_nbformat": 4
 },
 "nbformat": 4,
 "nbformat_minor": 2
}
