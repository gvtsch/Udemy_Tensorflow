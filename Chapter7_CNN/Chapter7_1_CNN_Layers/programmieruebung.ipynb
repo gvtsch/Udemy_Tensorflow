{
 "cells": [
  {
   "cell_type": "code",
   "execution_count": 6,
   "metadata": {},
   "outputs": [],
   "source": [
    "import matplotlib.pyplot as plt\n",
    "import numpy as np\n",
    "from tensorflow.keras.datasets import mnist\n",
    "from tensorflow.keras.layers import Conv2D"
   ]
  },
  {
   "cell_type": "code",
   "execution_count": 7,
   "metadata": {},
   "outputs": [],
   "source": [
    "def conv2D(image: np.ndarray, kernel: np.ndarray) -> np.ndarray:\n",
    "    rows, cols = image.shape\n",
    "\n",
    "    conv_image = np.zeros(shape=(rows, cols), dtype=np.float32)\n",
    "    padded_image = np.zeros(shape=(rows + 2, cols + 2))\n",
    "    padded_image[1:-1, 1:-1] = image\n",
    "\n",
    "    padded_rows, padded_cols = padded_image.shape\n",
    "\n",
    "    for i_out, i in enumerate(range(1, padded_rows - 1)):\n",
    "        for j_out, j in enumerate(range(1, padded_cols - 1)):\n",
    "            image_slice = padded_image[i-1: i+2, j-1: j+2]\n",
    "            conv_image[i_out, j_out] = np.sum(kernel * image_slice)\n",
    "\n",
    "    return conv_image"
   ]
  },
  {
   "cell_type": "code",
   "execution_count": 8,
   "metadata": {},
   "outputs": [
    {
     "name": "stdout",
     "output_type": "stream",
     "text": [
      "Prvious shape: (4, 4) current shape: (4, 4)\n",
      "Conved Image:\n",
      "[[10. 18. 24. 18.]\n",
      " [27. 45. 54. 39.]\n",
      " [51. 81. 90. 63.]\n",
      " [42. 66. 72. 50.]]\n",
      "Conved Image TF:\n",
      "[[10. 18. 24. 18.]\n",
      " [27. 45. 54. 39.]\n",
      " [51. 81. 90. 63.]\n",
      " [42. 66. 72. 50.]]\n"
     ]
    },
    {
     "data": {
      "image/png": "[encoded data removed]",
      "text/plain": [
       "<Figure size 432x288 with 3 Axes>"
      ]
     },
     "metadata": {
      "needs_background": "light"
     },
     "output_type": "display_data"
    }
   ],
   "source": [
    "(x_train, y_train), (x_test, y_test) = mnist.load_data()\n",
    "\n",
    "image = np.arange(16)\n",
    "image = image.reshape((4, 4)).astype(np.float32)\n",
    "kernel = np.ones(shape=(3, 3))\n",
    "\n",
    "conv_image = conv2D(image, kernel)\n",
    "\n",
    "print(f\"Prvious shape: {image.shape} current shape: {conv_image.shape}\")\n",
    "print(f\"Conved Image:\\n{conv_image.squeeze()}\")\n",
    "\n",
    "layer = Conv2D(filters=1, kernel_size=(3, 3), strides=1, padding='same')\n",
    "layer.build((4, 4, 1))\n",
    "W, b = layer.get_weights()\n",
    "layer.set_weights([np.ones_like(W), np.zeros_like(b)])\n",
    "conv_image_tf = layer(image.reshape((1, 4, 4, 1))).numpy()\n",
    "print(f\"Conved Image TF:\\n{conv_image_tf.squeeze()}\")\n",
    "not_equals = (conv_image.flatten() != conv_image_tf.flatten())\n",
    "# assert np.allclose(conv_image.flatten(), conv_image_tf.flatten())\n",
    "\n",
    "fig, axs = plt.subplots(nrows=1, ncols=3)\n",
    "axs[0].imshow(image, cmap=\"gray\")\n",
    "axs[1].imshow(conv_image, cmap=\"gray\")\n",
    "axs[2].imshow(conv_image_tf.squeeze(), cmap=\"gray\")\n",
    "plt.show()"
   ]
  }
 ],
 "metadata": {
  "interpreter": {
   "hash": "683035455952fa0c5c07396da2eac07ae1d76897e4164c7dcbe8556e60afc848"
  },
  "kernelspec": {
   "display_name": "Python 3.9.7 ('udemy_tensorflow')",
   "language": "python",
   "name": "python3"
  },
  "language_info": {
   "codemirror_mode": {
    "name": "ipython",
    "version": 3
   },
   "file_extension": ".py",
   "mimetype": "text/x-python",
   "name": "python",
   "nbconvert_exporter": "python",
   "pygments_lexer": "ipython3",
   "version": "3.9.7"
  },
  "orig_nbformat": 4
 },
 "nbformat": 4,
 "nbformat_minor": 2
}
