{
 "cells": [
  {
   "cell_type": "code",
   "execution_count": 4,
   "metadata": {},
   "outputs": [],
   "source": [
    "import matplotlib.pyplot as plt\n",
    "import numpy as np\n",
    "from tensorflow.keras.datasets import mnist\n",
    "from tensorflow.keras.layers import MaxPool2D"
   ]
  },
  {
   "cell_type": "code",
   "execution_count": 5,
   "metadata": {},
   "outputs": [],
   "source": [
    "def max_pooling(image: np.ndarray) -> np.ndarray:\n",
    "    rows, cols = image.shape\n",
    "    output = np.zeros(shape=(rows // 2, cols // 2), dtype=np.float32)\n",
    "    for i_out, i in enumerate(range(0, rows, 2)):\n",
    "        for j_out, j in enumerate(range(0, cols, 2)):\n",
    "            output[i_out, j_out] = np.max(image[i: i+2, j: j+2])\n",
    "    return output"
   ]
  },
  {
   "cell_type": "code",
   "execution_count": 6,
   "metadata": {},
   "outputs": [
    {
     "name": "stdout",
     "output_type": "stream",
     "text": [
      "Prvious shape: (28, 28) current shape: (14, 14)\n",
      "Pooled Image:\n",
      "[[  0.   0.   0.   0.   0.   0.   0.   0.   0.   0.   0.   0.   0.   0.]\n",
      " [  0.   0.   0.   0.   0.   0.   0.   0.   0.   0.   0.   0.   0.   0.]\n",
      " [  0.   0.   0.   0.   0.   0.  18.  18. 136. 175. 255. 247.   0.   0.]\n",
      " [  0.   0.   0.  49. 253. 253. 253. 253. 253. 225. 253. 195.   0.   0.]\n",
      " [  0.   0.   0.  18. 253. 253. 253. 198. 247.   0.   0.   0.   0.   0.]\n",
      " [  0.   0.   0.   0.  14. 154. 253.   2.   0.   0.   0.   0.   0.   0.]\n",
      " [  0.   0.   0.   0.   0.  11. 253. 225. 108.   0.   0.   0.   0.   0.]\n",
      " [  0.   0.   0.   0.   0.   0.  81. 253. 253. 150.   0.   0.   0.   0.]\n",
      " [  0.   0.   0.   0.   0.   0.   0.  16. 252. 253.  64.   0.   0.   0.]\n",
      " [  0.   0.   0.   0.   0.   0. 148. 253. 253. 253.   2.   0.   0.   0.]\n",
      " [  0.   0.   0.   0.  66. 253. 253. 253. 253.  78.   0.   0.   0.   0.]\n",
      " [  0.   0. 172. 253. 253. 253. 253.  80.   0.   0.   0.   0.   0.   0.]\n",
      " [  0.   0. 253. 253. 212. 132.   0.   0.   0.   0.   0.   0.   0.   0.]\n",
      " [  0.   0.   0.   0.   0.   0.   0.   0.   0.   0.   0.   0.   0.   0.]]\n",
      "Pooled Image TF:\n",
      "[[  0.   0.   0.   0.   0.   0.   0.   0.   0.   0.   0.   0.   0.   0.]\n",
      " [  0.   0.   0.   0.   0.   0.   0.   0.   0.   0.   0.   0.   0.   0.]\n",
      " [  0.   0.   0.   0.   0.   0.  18.  18. 136. 175. 255. 247.   0.   0.]\n",
      " [  0.   0.   0.  49. 253. 253. 253. 253. 253. 225. 253. 195.   0.   0.]\n",
      " [  0.   0.   0.  18. 253. 253. 253. 198. 247.   0.   0.   0.   0.   0.]\n",
      " [  0.   0.   0.   0.  14. 154. 253.   2.   0.   0.   0.   0.   0.   0.]\n",
      " [  0.   0.   0.   0.   0.  11. 253. 225. 108.   0.   0.   0.   0.   0.]\n",
      " [  0.   0.   0.   0.   0.   0.  81. 253. 253. 150.   0.   0.   0.   0.]\n",
      " [  0.   0.   0.   0.   0.   0.   0.  16. 252. 253.  64.   0.   0.   0.]\n",
      " [  0.   0.   0.   0.   0.   0. 148. 253. 253. 253.   2.   0.   0.   0.]\n",
      " [  0.   0.   0.   0.  66. 253. 253. 253. 253.  78.   0.   0.   0.   0.]\n",
      " [  0.   0. 172. 253. 253. 253. 253.  80.   0.   0.   0.   0.   0.   0.]\n",
      " [  0.   0. 253. 253. 212. 132.   0.   0.   0.   0.   0.   0.   0.   0.]\n",
      " [  0.   0.   0.   0.   0.   0.   0.   0.   0.   0.   0.   0.   0.   0.]]\n"
     ]
    },
    {
     "data": {
      "image/png": "[encoded data removed]",
      "text/plain": [
       "<Figure size 432x288 with 3 Axes>"
      ]
     },
     "metadata": {
      "needs_background": "light"
     },
     "output_type": "display_data"
    }
   ],
   "source": [
    "(x_train, y_train), (x_test, y_test) = mnist.load_data()\n",
    "\n",
    "image = x_train[0]\n",
    "image = image.reshape((28, 28)).astype(np.float32)\n",
    "\n",
    "pooling_image = max_pooling(image)\n",
    "\n",
    "print(f\"Prvious shape: {image.shape} current shape: {pooling_image.shape}\")\n",
    "print(f\"Pooled Image:\\n{pooling_image.squeeze()}\")\n",
    "\n",
    "layer = MaxPool2D(pool_size=(2, 2), strides=2, padding='valid')\n",
    "pooling_image_tf = layer(image.reshape((1, 28, 28, 1))).numpy()\n",
    "print(f\"Pooled Image TF:\\n{pooling_image_tf.squeeze()}\")\n",
    "# assert np.allclose(pooling_image.flatten(), pooling_image_tf.flatten())\n",
    "\n",
    "fig, axs = plt.subplots(nrows=1, ncols=3)\n",
    "axs[0].imshow(image, cmap=\"gray\")\n",
    "axs[1].imshow(pooling_image, cmap=\"gray\")\n",
    "axs[2].imshow(pooling_image_tf.squeeze(), cmap=\"gray\")\n",
    "plt.show()"
   ]
  }
 ],
 "metadata": {
  "interpreter": {
   "hash": "683035455952fa0c5c07396da2eac07ae1d76897e4164c7dcbe8556e60afc848"
  },
  "kernelspec": {
   "display_name": "Python 3.9.7 ('udemy_tensorflow')",
   "language": "python",
   "name": "python3"
  },
  "language_info": {
   "codemirror_mode": {
    "name": "ipython",
    "version": 3
   },
   "file_extension": ".py",
   "mimetype": "text/x-python",
   "name": "python",
   "nbconvert_exporter": "python",
   "pygments_lexer": "ipython3",
   "version": "3.9.7"
  },
  "orig_nbformat": 4
 },
 "nbformat": 4,
 "nbformat_minor": 2
}
