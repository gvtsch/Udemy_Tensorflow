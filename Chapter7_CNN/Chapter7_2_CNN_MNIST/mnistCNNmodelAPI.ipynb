{
 "cells": [
  {
   "cell_type": "markdown",
   "metadata": {},
   "source": [
    "In diesem Skript wird nicht auf ein sequentielles Model (Sequential) gesetzt, sondern auf ein Model"
   ]
  },
  {
   "cell_type": "code",
   "execution_count": 57,
   "metadata": {},
   "outputs": [],
   "source": [
    "import os # Arbeiten mit Pfaden\n",
    "import numpy as np\n",
    "from typing import Tuple\n",
    "\n",
    "from tensorflow.keras.datasets import mnist\n",
    "from tensorflow.keras.layers import Activation\n",
    "from tensorflow.keras.layers import Dense\n",
    "from tensorflow.keras.layers import Input\n",
    "from tensorflow.keras.models import Model\n",
    "from tensorflow.keras.utils import to_categorical\n",
    "from tensorflow.keras.optimizers import Adam\n",
    "from tensorflow.keras.callbacks import TensorBoard\n",
    "from tensorflow.keras.layers import Conv2D\n",
    "from tensorflow.keras.layers import Flatten\n",
    "from tensorflow.keras.layers import MaxPooling2D\n",
    "\n",
    "import matplotlib.pyplot as plt"
   ]
  },
  {
   "cell_type": "code",
   "execution_count": 58,
   "metadata": {},
   "outputs": [],
   "source": [
    "LOGS_DIR = os.path.abspath('C:/Selbststudium/Udemy/Udemy_Tensorflow/logs')\n",
    "if not os.path.exists(LOGS_DIR):\n",
    "    os.mkdir(LOGS_DIR)\n",
    "MODEL_LOG_DIR = os.path.join(LOGS_DIR, 'mnist_cnn4')"
   ]
  },
  {
   "cell_type": "code",
   "execution_count": 59,
   "metadata": {},
   "outputs": [],
   "source": [
    "def get_dataset(img_shape: int, num_classes: int) -> Tuple[Tuple[np.ndarray, np.ndarray], Tuple[np.ndarray, np.ndarray]]:\n",
    "    (x_train, y_train), (x_test, y_test) = mnist.load_data()\n",
    "    \n",
    "    x_train = x_train.astype(np.float32)\n",
    "    x_test  = x_test.astype(np.float32)\n",
    "    \n",
    "    y_train = to_categorical(y_train, num_classes=num_classes, dtype=np.float32)\n",
    "    y_test  = to_categorical(y_test, num_classes=num_classes, dtype=np.float32)\n",
    "\n",
    "    return (x_train, y_train), (x_test, y_test)"
   ]
  },
  {
   "cell_type": "code",
   "execution_count": 60,
   "metadata": {},
   "outputs": [],
   "source": [
    "def build_model(img_shape: Tuple[int, int, int], num_classes: int) -> Model:\n",
    "    input_img = Input(shape=img_shape)\n",
    "\n",
    "    x = Conv2D(filters=32, kernel_size=3, padding='same')(input_img)\n",
    "    x = Activation('relu')(x)\n",
    "    x = Conv2D(filters=32, kernel_size=3, padding='same')(x)\n",
    "    x = Activation('relu')(x)\n",
    "    x = MaxPooling2D()(x)\n",
    "\n",
    "    x = Conv2D(filters=64, kernel_size=3, padding='same')(x)\n",
    "    x = Activation('relu')(x)\n",
    "    x = Conv2D(filters=64, kernel_size=3, padding='same')(x)\n",
    "    x = Activation('relu')(x)\n",
    "    x = MaxPooling2D()(x)\n",
    "\n",
    "    x = Flatten()(x)\n",
    "    x = Dense(units=num_classes)(x)\n",
    "    y_pred = Activation('softmax')(x)\n",
    "\n",
    "    # Jetzt muss noch ein Modell Objekt mit eben obiger Struktur erstellt werden\n",
    "    model = Model(\n",
    "        inputs = [input_img],\n",
    "        outputs = [y_pred]\n",
    "    )\n",
    "\n",
    "    model.summary()\n",
    "\n",
    "    return model"
   ]
  },
  {
   "cell_type": "code",
   "execution_count": 66,
   "metadata": {},
   "outputs": [],
   "source": [
    "# Visualisierung der Filter\n",
    "def plot_filters(model: Model) -> None:\n",
    "    first_conv_layer = model.layers[1]\n",
    "    layer_weights = first_conv_layer.get_weights()\n",
    "    kernels = layer_weights[0]\n",
    "\n",
    "    num_filters = kernels.shape[3]\n",
    "    subplot_grid = (num_filters // 4, 4)\n",
    "\n",
    "    fig, ax = plt.subplots(subplot_grid[0], subplot_grid[1], figsize = (20, 20))\n",
    "    ax = ax.reshape(num_filters)\n",
    "\n",
    "    for filter_idx in range(num_filters):\n",
    "        ax[filter_idx].imshow(kernels[:, :, 0, filter_idx], cmap = 'gray')\n",
    "\n",
    "    ax = ax.reshape(subplot_grid)\n",
    "    fig.subplots_adjust(hspace=0.5)\n",
    "    plt.show()"
   ]
  },
  {
   "cell_type": "code",
   "execution_count": 62,
   "metadata": {},
   "outputs": [
    {
     "name": "stdout",
     "output_type": "stream",
     "text": [
      "Model: \"model_5\"\n",
      "_________________________________________________________________\n",
      " Layer (type)                Output Shape              Param #   \n",
      "=================================================================\n",
      " input_9 (InputLayer)        [(None, 28, 28, 1)]       0         \n",
      "                                                                 \n",
      " conv2d_28 (Conv2D)          (None, 28, 28, 32)        320       \n",
      "                                                                 \n",
      " activation_33 (Activation)  (None, 28, 28, 32)        0         \n",
      "                                                                 \n",
      " conv2d_29 (Conv2D)          (None, 28, 28, 32)        9248      \n",
      "                                                                 \n",
      " activation_34 (Activation)  (None, 28, 28, 32)        0         \n",
      "                                                                 \n",
      " max_pooling2d_14 (MaxPoolin  (None, 14, 14, 32)       0         \n",
      " g2D)                                                            \n",
      "                                                                 \n",
      " conv2d_30 (Conv2D)          (None, 14, 14, 64)        18496     \n",
      "                                                                 \n",
      " activation_35 (Activation)  (None, 14, 14, 64)        0         \n",
      "                                                                 \n",
      " conv2d_31 (Conv2D)          (None, 14, 14, 64)        36928     \n",
      "                                                                 \n",
      " activation_36 (Activation)  (None, 14, 14, 64)        0         \n",
      "                                                                 \n",
      " max_pooling2d_15 (MaxPoolin  (None, 7, 7, 64)         0         \n",
      " g2D)                                                            \n",
      "                                                                 \n",
      " flatten_6 (Flatten)         (None, 3136)              0         \n",
      "                                                                 \n",
      " dense_5 (Dense)             (None, 10)                31370     \n",
      "                                                                 \n",
      " activation_37 (Activation)  (None, 10)                0         \n",
      "                                                                 \n",
      "=================================================================\n",
      "Total params: 96,362\n",
      "Trainable params: 96,362\n",
      "Non-trainable params: 0\n",
      "_________________________________________________________________\n",
      "Epoch 1/10\n",
      "235/235 [==============================] - 8s 33ms/step - loss: 0.7548 - accuracy: 0.8942 - val_loss: 0.0617 - val_accuracy: 0.9792\n",
      "Epoch 2/10\n",
      "235/235 [==============================] - 4s 17ms/step - loss: 0.0585 - accuracy: 0.9821 - val_loss: 0.0454 - val_accuracy: 0.9859\n",
      "Epoch 3/10\n",
      "235/235 [==============================] - 6s 24ms/step - loss: 0.0394 - accuracy: 0.9876 - val_loss: 0.0396 - val_accuracy: 0.9866\n",
      "Epoch 4/10\n",
      "235/235 [==============================] - 5s 20ms/step - loss: 0.0295 - accuracy: 0.9905 - val_loss: 0.0369 - val_accuracy: 0.9869\n",
      "Epoch 5/10\n",
      "235/235 [==============================] - 5s 21ms/step - loss: 0.0245 - accuracy: 0.9923 - val_loss: 0.0465 - val_accuracy: 0.9849\n",
      "Epoch 6/10\n",
      "235/235 [==============================] - 6s 25ms/step - loss: 0.0185 - accuracy: 0.9943 - val_loss: 0.0345 - val_accuracy: 0.9890\n",
      "Epoch 7/10\n",
      "235/235 [==============================] - 8s 32ms/step - loss: 0.0152 - accuracy: 0.9949 - val_loss: 0.0345 - val_accuracy: 0.9890\n",
      "Epoch 8/10\n",
      "235/235 [==============================] - 5s 21ms/step - loss: 0.0141 - accuracy: 0.9953 - val_loss: 0.0381 - val_accuracy: 0.9886\n",
      "Epoch 9/10\n",
      "235/235 [==============================] - 6s 24ms/step - loss: 0.0130 - accuracy: 0.9955 - val_loss: 0.0418 - val_accuracy: 0.9874\n",
      "Epoch 10/10\n",
      "235/235 [==============================] - 8s 33ms/step - loss: 0.0104 - accuracy: 0.9964 - val_loss: 0.0335 - val_accuracy: 0.9892\n"
     ]
    }
   ],
   "source": [
    "img_shape = (28, 28, 1) # Bild hat 28*28 Pixel\n",
    "num_classes = 10 # 10 Ziffern möglich\n",
    "    \n",
    "(x_train, y_train), (x_test, y_test) = get_dataset(img_shape, num_classes)\n",
    "  \n",
    "model = build_model(img_shape, num_classes)\n",
    "\n",
    "opt = Adam(learning_rate=0.001)\n",
    "\n",
    "model.compile(\n",
    "    loss='categorical_crossentropy', # wird bei Kategorie-Problemen mit mehr als 2 Klassen genommen\n",
    "    optimizer=opt,\n",
    "    metrics=['accuracy']\n",
    ")\n",
    "\n",
    "tb_callback = TensorBoard(\n",
    "    log_dir=MODEL_LOG_DIR,\n",
    "    histogram_freq=1,\n",
    "    write_graph=True\n",
    ")\n",
    "\n",
    "model.fit(\n",
    "    x=x_train,\n",
    "    y=y_train,\n",
    "    epochs=10,\n",
    "    batch_size=256,\n",
    "    verbose=1,\n",
    "    validation_data=(x_test, y_test),\n",
    "    callbacks=[tb_callback]\n",
    ")\n",
    "\n",
    "scores = model.evaluate(\n",
    "    x=x_test, \n",
    "    y=y_test, \n",
    "    verbose=0\n",
    ")"
   ]
  },
  {
   "cell_type": "code",
   "execution_count": 67,
   "metadata": {},
   "outputs": [
    {
     "data": {
      "image/png": "[encoded data removed]",
      "text/plain": [
       "<Figure size 1440x1440 with 32 Axes>"
      ]
     },
     "metadata": {
      "needs_background": "light"
     },
     "output_type": "display_data"
    }
   ],
   "source": [
    "plot_filters(model)"
   ]
  }
 ],
 "metadata": {
  "interpreter": {
   "hash": "683035455952fa0c5c07396da2eac07ae1d76897e4164c7dcbe8556e60afc848"
  },
  "kernelspec": {
   "display_name": "Python 3.9.7 ('udemy_tensorflow')",
   "language": "python",
   "name": "python3"
  },
  "language_info": {
   "codemirror_mode": {
    "name": "ipython",
    "version": 3
   },
   "file_extension": ".py",
   "mimetype": "text/x-python",
   "name": "python",
   "nbconvert_exporter": "python",
   "pygments_lexer": "ipython3",
   "version": "3.9.7"
  },
  "orig_nbformat": 4
 },
 "nbformat": 4,
 "nbformat_minor": 2
}
