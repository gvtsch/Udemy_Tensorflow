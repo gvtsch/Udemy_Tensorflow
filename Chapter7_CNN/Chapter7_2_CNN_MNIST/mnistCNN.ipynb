{
 "cells": [
  {
   "cell_type": "code",
   "execution_count": 29,
   "metadata": {},
   "outputs": [],
   "source": [
    "import numpy as np\n",
    "from typing import Tuple\n",
    "import tensorflow as tf\n",
    "from tensorflow.keras.datasets import mnist\n",
    "from tensorflow.keras.layers import Activation\n",
    "from tensorflow.keras.layers import Dense\n",
    "from tensorflow.keras.models import Sequential\n",
    "from tensorflow.keras.utils import to_categorical\n",
    "from tensorflow.keras.optimizers import Adam\n",
    "from tensorflow.keras.layers import Conv2D\n",
    "from tensorflow.keras.layers import Reshape\n",
    "from tensorflow.keras.layers import Flatten\n",
    "from tensorflow.keras.layers import MaxPooling2D"
   ]
  },
  {
   "cell_type": "code",
   "execution_count": 30,
   "metadata": {},
   "outputs": [],
   "source": [
    "def get_dataset(img_shape: Tuple[int, int, int], num_classes: int) -> Tuple[Tuple[np.ndarray, np.ndarray], Tuple[np.ndarray, np.ndarray]]:\n",
    "    (x_train, y_train), (x_test, y_test) = mnist.load_data()\n",
    "    \n",
    "    x_train = x_train.astype(np.float32)\n",
    "    x_train = np.expand_dims(x_train, axis=-1)\n",
    "    x_test  = x_test.astype(np.float32)\n",
    "    x_test = np.expand_dims(x_test, axis=-1)\n",
    "    \n",
    "    y_train = to_categorical(y_train, num_classes=num_classes, dtype=np.float32)\n",
    "    y_test  = to_categorical(y_test, num_classes=num_classes, dtype=np.float32)\n",
    "\n",
    "    return (x_train, y_train), (x_test, y_test)"
   ]
  },
  {
   "cell_type": "code",
   "execution_count": 31,
   "metadata": {},
   "outputs": [],
   "source": [
    "def build_model(img_shape: int, num_classes: int) -> Sequential:\n",
    "    model = Sequential()\n",
    "    model.add(Conv2D(filters=16, kernel_size=3, input_shape=img_shape))\n",
    "    model.add(Activation('relu'))\n",
    "    model.add(MaxPooling2D())\n",
    "    model.add(Conv2D(filters=32, kernel_size=3))\n",
    "    model.add(Activation('relu'))\n",
    "    model.add(MaxPooling2D())\n",
    "    model.add(Flatten())\n",
    "    model.add(Dense(units=num_classes))\n",
    "    model.add(Activation('softmax'))\n",
    "    model.summary()\n",
    "    return model"
   ]
  },
  {
   "cell_type": "code",
   "execution_count": 32,
   "metadata": {},
   "outputs": [],
   "source": [
    "def main() -> None:\n",
    "    img_shape = (28, 28, 1) # Bild hat 28*28 Pixel\n",
    "    num_classes = 10 # 10 Ziffern möglich\n",
    "    \n",
    "    (x_train, y_train), (x_test, y_test) = get_dataset(img_shape, num_classes)\n",
    "    \n",
    "    model = build_model(img_shape, num_classes)\n",
    "\n",
    "    opt = Adam(learning_rate=0.0005)\n",
    "    model.compile(\n",
    "        loss='categorical_crossentropy', # wird bei Kategorie-Problemen mit mehr als 2 Klassen genommen\n",
    "        optimizer=opt,\n",
    "        metrics=['accuracy']\n",
    "    )\n",
    "\n",
    "    model.fit(\n",
    "        x=x_train,\n",
    "        y=y_train,\n",
    "        epochs=10,\n",
    "        batch_size=256,\n",
    "        verbose=1,\n",
    "        validation_data=(x_test, y_test)\n",
    "    )\n",
    "\n",
    "    score = model.evaluate(x=x_test, y=y_test, verbose=0)"
   ]
  },
  {
   "cell_type": "code",
   "execution_count": 33,
   "metadata": {},
   "outputs": [
    {
     "name": "stdout",
     "output_type": "stream",
     "text": [
      "Model: \"sequential_4\"\n",
      "_________________________________________________________________\n",
      " Layer (type)                Output Shape              Param #   \n",
      "=================================================================\n",
      " conv2d_5 (Conv2D)           (None, 26, 26, 16)        160       \n",
      "                                                                 \n",
      " activation_9 (Activation)   (None, 26, 26, 16)        0         \n",
      "                                                                 \n",
      " max_pooling2d_2 (MaxPooling  (None, 13, 13, 16)       0         \n",
      " 2D)                                                             \n",
      "                                                                 \n",
      " conv2d_6 (Conv2D)           (None, 11, 11, 32)        4640      \n",
      "                                                                 \n",
      " activation_10 (Activation)  (None, 11, 11, 32)        0         \n",
      "                                                                 \n",
      " max_pooling2d_3 (MaxPooling  (None, 5, 5, 32)         0         \n",
      " 2D)                                                             \n",
      "                                                                 \n",
      " flatten_4 (Flatten)         (None, 800)               0         \n",
      "                                                                 \n",
      " dense_4 (Dense)             (None, 10)                8010      \n",
      "                                                                 \n",
      " activation_11 (Activation)  (None, 10)                0         \n",
      "                                                                 \n",
      "=================================================================\n",
      "Total params: 12,810\n",
      "Trainable params: 12,810\n",
      "Non-trainable params: 0\n",
      "_________________________________________________________________\n",
      "Epoch 1/10\n",
      "235/235 [==============================] - 10s 42ms/step - loss: 3.7357 - accuracy: 0.7550 - val_loss: 0.5349 - val_accuracy: 0.9214\n",
      "Epoch 2/10\n",
      "235/235 [==============================] - 10s 42ms/step - loss: 0.4151 - accuracy: 0.9337 - val_loss: 0.3227 - val_accuracy: 0.9441\n",
      "Epoch 3/10\n",
      "235/235 [==============================] - 10s 42ms/step - loss: 0.2574 - accuracy: 0.9536 - val_loss: 0.2264 - val_accuracy: 0.9575\n",
      "Epoch 4/10\n",
      "235/235 [==============================] - 9s 38ms/step - loss: 0.1935 - accuracy: 0.9622 - val_loss: 0.1950 - val_accuracy: 0.9632\n",
      "Epoch 5/10\n",
      "235/235 [==============================] - 10s 44ms/step - loss: 0.1546 - accuracy: 0.9675 - val_loss: 0.1672 - val_accuracy: 0.9658\n",
      "Epoch 6/10\n",
      "235/235 [==============================] - 10s 44ms/step - loss: 0.1234 - accuracy: 0.9726 - val_loss: 0.1398 - val_accuracy: 0.9694\n",
      "Epoch 7/10\n",
      "235/235 [==============================] - 8s 36ms/step - loss: 0.1047 - accuracy: 0.9753 - val_loss: 0.1229 - val_accuracy: 0.9741\n",
      "Epoch 8/10\n",
      "235/235 [==============================] - 8s 32ms/step - loss: 0.0881 - accuracy: 0.9782 - val_loss: 0.1190 - val_accuracy: 0.9747\n",
      "Epoch 9/10\n",
      "235/235 [==============================] - 8s 33ms/step - loss: 0.0781 - accuracy: 0.9801 - val_loss: 0.1122 - val_accuracy: 0.9758\n",
      "Epoch 10/10\n",
      "235/235 [==============================] - 8s 33ms/step - loss: 0.0663 - accuracy: 0.9822 - val_loss: 0.1049 - val_accuracy: 0.9765\n"
     ]
    }
   ],
   "source": [
    "if __name__=='__main__':\n",
    "    main()"
   ]
  }
 ],
 "metadata": {
  "interpreter": {
   "hash": "683035455952fa0c5c07396da2eac07ae1d76897e4164c7dcbe8556e60afc848"
  },
  "kernelspec": {
   "display_name": "Python 3.9.7 ('udemy_tensorflow')",
   "language": "python",
   "name": "python3"
  },
  "language_info": {
   "codemirror_mode": {
    "name": "ipython",
    "version": 3
   },
   "file_extension": ".py",
   "mimetype": "text/x-python",
   "name": "python",
   "nbconvert_exporter": "python",
   "pygments_lexer": "ipython3",
   "version": "3.9.7"
  },
  "orig_nbformat": 4
 },
 "nbformat": 4,
 "nbformat_minor": 2
}
