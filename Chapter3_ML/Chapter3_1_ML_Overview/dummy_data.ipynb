{
 "cells": [
  {
   "cell_type": "code",
   "execution_count": 13,
   "metadata": {},
   "outputs": [],
   "source": [
    "from typing import Tuple\n",
    "import numpy as np\n",
    "np.random.seed(0)"
   ]
  },
  {
   "cell_type": "code",
   "execution_count": 14,
   "metadata": {},
   "outputs": [],
   "source": [
    "def f(x: np.ndarray) -> np.ndarray:\n",
    "    return 2.0 * x + 5.0"
   ]
  },
  {
   "cell_type": "code",
   "execution_count": 15,
   "metadata": {},
   "outputs": [],
   "source": [
    "def classification_data() -> Tuple[np.ndarray, np.ndarray]:\n",
    "    N = 30\n",
    "    N_class1 = N // 2\n",
    "    N_class2 = N // 2\n",
    "\n",
    "    x1_mean = np.array([5.0, 0.0])\n",
    "    x1_cov = np.array([[3.0, 0.0], [0.0, 1.0]])\n",
    "    x1 = np.random.multivariate_normal(mean = x1_mean, cov = x1_cov, size = N_class1) # Mehrdimensionale Normalverteilung\n",
    "    y1 = np.array([0 for _ in range(N_class1)])\n",
    "\n",
    "    x2_mean = np.array([0.0, 0.0])\n",
    "    x2_cov = np.array([[1.0, 0.0], [0.0, 3.0]])\n",
    "    x2 = np.random.multivariate_normal(mean = x2_mean, cov = x2_cov, size = N_class2) # Mehrdimensionale Normalverteilung\n",
    "    y2 = np.array([1 for _ in range(N_class2)])\n",
    "\n",
    "    x = np.concatenate((x1, x2))\n",
    "    y = np.concatenate((y1, y2))\n",
    "    return x, y"
   ]
  },
  {
   "cell_type": "code",
   "execution_count": 16,
   "metadata": {},
   "outputs": [],
   "source": [
    "def regression_data() -> Tuple[np.ndarray, np.ndarray]:\n",
    "    N = 100 # Größe des Datasets\n",
    "    x = np.random.uniform(low = -10.0, high = 10.0, size = N)\n",
    "    y = f(x) + np.random.normal(scale = 2.0, size = 100) # Funktion mit künstlichem Rauschen / Noise\n",
    "    return x, y"
   ]
  },
  {
   "cell_type": "code",
   "execution_count": null,
   "metadata": {},
   "outputs": [],
   "source": []
  }
 ],
 "metadata": {
  "interpreter": {
   "hash": "683035455952fa0c5c07396da2eac07ae1d76897e4164c7dcbe8556e60afc848"
  },
  "kernelspec": {
   "display_name": "Python 3.9.7 ('udemy_tensorflow')",
   "language": "python",
   "name": "python3"
  },
  "language_info": {
   "codemirror_mode": {
    "name": "ipython",
    "version": 3
   },
   "file_extension": ".py",
   "mimetype": "text/x-python",
   "name": "python",
   "nbconvert_exporter": "python",
   "pygments_lexer": "ipython3",
   "version": "3.9.7"
  },
  "orig_nbformat": 4
 },
 "nbformat": 4,
 "nbformat_minor": 2
}
