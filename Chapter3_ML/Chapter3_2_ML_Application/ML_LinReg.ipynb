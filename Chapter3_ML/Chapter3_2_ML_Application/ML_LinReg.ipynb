{
 "cells": [
  {
   "cell_type": "markdown",
   "metadata": {},
   "source": [
    "## Workflow\n",
    "- Daten laden\n",
    "- Daten aufteilen in Trainings- und Testset\n",
    "- Training auf dem Trainingsset\n",
    "- Performance des Modells testen auf dem Trainingsset"
   ]
  },
  {
   "cell_type": "code",
   "execution_count": 52,
   "metadata": {},
   "outputs": [],
   "source": [
    "import matplotlib.pyplot as plt\n",
    "from sklearn.linear_model import LinearRegression\n",
    "from sklearn.model_selection import train_test_split\n",
    "from tf_utils.dummyData import regression_data"
   ]
  },
  {
   "cell_type": "code",
   "execution_count": 53,
   "metadata": {},
   "outputs": [
    {
     "name": "stdout",
     "output_type": "stream",
     "text": [
      "(100,)\n",
      "(100, 1)\n"
     ]
    }
   ],
   "source": [
    "if __name__=='__main__':\n",
    "    x, y = regression_data()\n",
    "    print(x.shape) # sklearn erwartet shape von (100,1)\n",
    "    x = x.reshape(-1, 1)\n",
    "    print(x.shape)"
   ]
  },
  {
   "cell_type": "code",
   "execution_count": 54,
   "metadata": {},
   "outputs": [],
   "source": [
    "    x_train, x_test, y_train, y_test = train_test_split(x, y, test_size=0.3)"
   ]
  },
  {
   "cell_type": "code",
   "execution_count": 55,
   "metadata": {},
   "outputs": [
    {
     "name": "stdout",
     "output_type": "stream",
     "text": [
      "R2 Score: 0.9765822900796333\n",
      "Coefs: [1.97896645]\n",
      "Intercept: 4.902871740835225\n"
     ]
    }
   ],
   "source": [
    "    regr = LinearRegression() # Regressions-Model\n",
    "    regr.fit(x_train, y_train)\n",
    "    score = regr.score(x_test, y_test)\n",
    "    print(f'R2 Score: {score}')\n",
    "    print(f'Coefs: {regr.coef_}\\nIntercept: {regr.intercept_}')"
   ]
  },
  {
   "cell_type": "code",
   "execution_count": 56,
   "metadata": {},
   "outputs": [],
   "source": [
    "    y_pred = regr.predict(x_test)"
   ]
  },
  {
   "cell_type": "code",
   "execution_count": 57,
   "metadata": {},
   "outputs": [
    {
     "data": {
      "image/png": "[encoded data removed]",
      "text/plain": [
       "<Figure size 432x288 with 1 Axes>"
      ]
     },
     "metadata": {
      "needs_background": "light"
     },
     "output_type": "display_data"
    }
   ],
   "source": [
    "    plt.scatter(x, y)\n",
    "    plt.plot(x_test, y_pred, color = 'red')\n",
    "    plt.show()"
   ]
  },
  {
   "cell_type": "markdown",
   "metadata": {},
   "source": [
    "### Programmierübung\n",
    "- Ermitteln des MAE und des MSE\n",
    "- u.A. mit Sklearn oder mit Numpy möglich"
   ]
  },
  {
   "cell_type": "code",
   "execution_count": 64,
   "metadata": {},
   "outputs": [
    {
     "name": "stdout",
     "output_type": "stream",
     "text": [
      "MAE: 1.2156106679183245\n",
      "MSE: 2.879478883995181\n"
     ]
    }
   ],
   "source": [
    "from sklearn.metrics import mean_squared_error\n",
    "from sklearn.metrics import mean_absolute_error\n",
    "\n",
    "print(f'MAE: {mean_absolute_error(y_test, y_pred)}')\n",
    "print(f'MSE: {mean_squared_error(y_test, y_pred)}')"
   ]
  },
  {
   "cell_type": "code",
   "execution_count": 60,
   "metadata": {},
   "outputs": [
    {
     "name": "stdout",
     "output_type": "stream",
     "text": [
      "MAE: 1.2156106679183245\n",
      "MSE: 2.879478883995181\n"
     ]
    }
   ],
   "source": [
    "import numpy as np\n",
    "\n",
    "def mae(y_true: np.ndarray, y_pred: np.ndarray) -> np.ndarray:\n",
    "    return np.mean(np.abs(y_true - y_pred))\n",
    "\n",
    "def mse(y_true: np.ndarray, y_pred: np.ndarray) -> np.ndarray:\n",
    "    return np.mean(np.square(y_true - y_pred))\n",
    "\n",
    "print(f'MAE: {mae(y_test, y_pred)}')\n",
    "print(f'MSE: {mse(y_test, y_pred)}')"
   ]
  }
 ],
 "metadata": {
  "interpreter": {
   "hash": "683035455952fa0c5c07396da2eac07ae1d76897e4164c7dcbe8556e60afc848"
  },
  "kernelspec": {
   "display_name": "Python 3.9.7 ('udemy_tensorflow')",
   "language": "python",
   "name": "python3"
  },
  "language_info": {
   "codemirror_mode": {
    "name": "ipython",
    "version": 3
   },
   "file_extension": ".py",
   "mimetype": "text/x-python",
   "name": "python",
   "nbconvert_exporter": "python",
   "pygments_lexer": "ipython3",
   "version": "3.9.7"
  },
  "orig_nbformat": 4
 },
 "nbformat": 4,
 "nbformat_minor": 2
}
