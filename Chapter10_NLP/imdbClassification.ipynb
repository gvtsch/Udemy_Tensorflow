{
 "cells": [
  {
   "cell_type": "code",
   "execution_count": 16,
   "metadata": {},
   "outputs": [],
   "source": [
    "from typing import Tuple, Callable\n",
    "\n",
    "import numpy as np\n",
    "import tensorflow as tf\n",
    "from tensorflow.keras.callbacks import EarlyStopping\n",
    "from tensorflow.keras.layers import Activation, Dense, Input, SimpleRNN\n",
    "from tensorflow.keras.models import Model\n",
    "from tensorflow.keras.optimizers import Adam\n",
    "from tensorflow.python.keras.layers.pooling import AveragePooling2D\n",
    "\n",
    "from tf_utils.imdbDataAdvanced import IMDB"
   ]
  },
  {
   "cell_type": "code",
   "execution_count": 17,
   "metadata": {},
   "outputs": [],
   "source": [
    "np.random.seed(0)\n",
    "tf.random.set_seed(0)"
   ]
  },
  {
   "cell_type": "code",
   "execution_count": 18,
   "metadata": {},
   "outputs": [],
   "source": [
    "def create_rnn_model(input_shape: Tuple[int, int], num_classes: int) -> Model:\n",
    "    input_text = Input(shape=input_shape)\n",
    "    x = SimpleRNN(units=80, return_sequences=False)(input_text)\n",
    "    x = Dense(units=80)(x)\n",
    "    x = Activation(\"relu\")(x)\n",
    "    x = Dense(units=num_classes)(x)\n",
    "    out = Activation(\"softmax\")(x)\n",
    "    model = Model(inputs=[input_text], outputs=[out])\n",
    "    opt = Adam(learning_rate=1e-4)\n",
    "    model.compile(\n",
    "        loss=\"categorical_crossentropy\", optimizer=opt, metrics=[\"accuracy\"]\n",
    "    )\n",
    "    model.summary()\n",
    "    return model"
   ]
  },
  {
   "cell_type": "code",
   "execution_count": 19,
   "metadata": {},
   "outputs": [
    {
     "ename": "ValueError",
     "evalue": "Output tensors of a Functional model must be the output of a TensorFlow `Layer` (thus holding past layer metadata). Found: <keras.layers.core.activation.Activation object at 0x000001A0AC1B7430>",
     "output_type": "error",
     "traceback": [
      "\u001b[1;31m---------------------------------------------------------------------------\u001b[0m",
      "\u001b[1;31mValueError\u001b[0m                                Traceback (most recent call last)",
      "\u001b[1;32mc:\\Selbststudium\\Udemy\\Udemy_Tensorflow\\Chapter10_NLP\\imdbClassification.ipynb Cell 4'\u001b[0m in \u001b[0;36m<cell line: 13>\u001b[1;34m()\u001b[0m\n\u001b[0;32m     <a href='vscode-notebook-cell:/c%3A/Selbststudium/Udemy/Udemy_Tensorflow/Chapter10_NLP/imdbClassification.ipynb#ch0000004?line=9'>10</a>\u001b[0m batch_size \u001b[39m=\u001b[39m \u001b[39m512\u001b[39m\n\u001b[0;32m     <a href='vscode-notebook-cell:/c%3A/Selbststudium/Udemy/Udemy_Tensorflow/Chapter10_NLP/imdbClassification.ipynb#ch0000004?line=10'>11</a>\u001b[0m epochs \u001b[39m=\u001b[39m \u001b[39m10\u001b[39m\n\u001b[1;32m---> <a href='vscode-notebook-cell:/c%3A/Selbststudium/Udemy/Udemy_Tensorflow/Chapter10_NLP/imdbClassification.ipynb#ch0000004?line=12'>13</a>\u001b[0m model \u001b[39m=\u001b[39m create_rnn_model(input_shape, num_classes)\n\u001b[0;32m     <a href='vscode-notebook-cell:/c%3A/Selbststudium/Udemy/Udemy_Tensorflow/Chapter10_NLP/imdbClassification.ipynb#ch0000004?line=13'>14</a>\u001b[0m model\u001b[39m.\u001b[39mfit(x\u001b[39m=\u001b[39mtrain_dataset, verbose\u001b[39m=\u001b[39m\u001b[39m1\u001b[39m, batch_size\u001b[39m=\u001b[39mbatch_size, epochs\u001b[39m=\u001b[39mepochs, validation_data\u001b[39m=\u001b[39mval_dataset)\n\u001b[0;32m     <a href='vscode-notebook-cell:/c%3A/Selbststudium/Udemy/Udemy_Tensorflow/Chapter10_NLP/imdbClassification.ipynb#ch0000004?line=14'>15</a>\u001b[0m score \u001b[39m=\u001b[39m model\u001b[39m.\u001b[39mevaluate(x\u001b[39m=\u001b[39mtest_dataset, verbose\u001b[39m=\u001b[39m\u001b[39m0\u001b[39m, batch_size\u001b[39m=\u001b[39mbatch_size)\n",
      "\u001b[1;32mc:\\Selbststudium\\Udemy\\Udemy_Tensorflow\\Chapter10_NLP\\imdbClassification.ipynb Cell 3'\u001b[0m in \u001b[0;36mcreate_rnn_model\u001b[1;34m(input_shape, num_classes)\u001b[0m\n\u001b[0;32m     <a href='vscode-notebook-cell:/c%3A/Selbststudium/Udemy/Udemy_Tensorflow/Chapter10_NLP/imdbClassification.ipynb#ch0000001?line=11'>12</a>\u001b[0m x \u001b[39m=\u001b[39m Dense(units\u001b[39m=\u001b[39mnum_classes)(x)\n\u001b[0;32m     <a href='vscode-notebook-cell:/c%3A/Selbststudium/Udemy/Udemy_Tensorflow/Chapter10_NLP/imdbClassification.ipynb#ch0000001?line=12'>13</a>\u001b[0m out \u001b[39m=\u001b[39m Activation(\u001b[39m\"\u001b[39m\u001b[39msoftmax\u001b[39m\u001b[39m\"\u001b[39m)\n\u001b[1;32m---> <a href='vscode-notebook-cell:/c%3A/Selbststudium/Udemy/Udemy_Tensorflow/Chapter10_NLP/imdbClassification.ipynb#ch0000001?line=13'>14</a>\u001b[0m model \u001b[39m=\u001b[39m Model(inputs\u001b[39m=\u001b[39;49m[input_text], outputs\u001b[39m=\u001b[39;49m[out])\n\u001b[0;32m     <a href='vscode-notebook-cell:/c%3A/Selbststudium/Udemy/Udemy_Tensorflow/Chapter10_NLP/imdbClassification.ipynb#ch0000001?line=14'>15</a>\u001b[0m opt \u001b[39m=\u001b[39m Adam(learning_rate\u001b[39m=\u001b[39m\u001b[39m1e-4\u001b[39m)\n\u001b[0;32m     <a href='vscode-notebook-cell:/c%3A/Selbststudium/Udemy/Udemy_Tensorflow/Chapter10_NLP/imdbClassification.ipynb#ch0000001?line=16'>17</a>\u001b[0m model\u001b[39m.\u001b[39mcompile(\n\u001b[0;32m     <a href='vscode-notebook-cell:/c%3A/Selbststudium/Udemy/Udemy_Tensorflow/Chapter10_NLP/imdbClassification.ipynb#ch0000001?line=17'>18</a>\u001b[0m     loss\u001b[39m=\u001b[39m\u001b[39m\"\u001b[39m\u001b[39mcategorical_crossentropy\u001b[39m\u001b[39m\"\u001b[39m, optimizer\u001b[39m=\u001b[39mopt, metrics\u001b[39m=\u001b[39m[\u001b[39m\"\u001b[39m\u001b[39maccuracy\u001b[39m\u001b[39m\"\u001b[39m]\n\u001b[0;32m     <a href='vscode-notebook-cell:/c%3A/Selbststudium/Udemy/Udemy_Tensorflow/Chapter10_NLP/imdbClassification.ipynb#ch0000001?line=18'>19</a>\u001b[0m )\n",
      "File \u001b[1;32m~\\anaconda3\\envs\\tf_udemy\\lib\\site-packages\\tensorflow\\python\\training\\tracking\\base.py:530\u001b[0m, in \u001b[0;36mno_automatic_dependency_tracking.<locals>._method_wrapper\u001b[1;34m(self, *args, **kwargs)\u001b[0m\n\u001b[0;32m    <a href='file:///c%3A/Users/gutsc/anaconda3/envs/tf_udemy/lib/site-packages/tensorflow/python/training/tracking/base.py?line=527'>528</a>\u001b[0m \u001b[39mself\u001b[39m\u001b[39m.\u001b[39m_self_setattr_tracking \u001b[39m=\u001b[39m \u001b[39mFalse\u001b[39;00m  \u001b[39m# pylint: disable=protected-access\u001b[39;00m\n\u001b[0;32m    <a href='file:///c%3A/Users/gutsc/anaconda3/envs/tf_udemy/lib/site-packages/tensorflow/python/training/tracking/base.py?line=528'>529</a>\u001b[0m \u001b[39mtry\u001b[39;00m:\n\u001b[1;32m--> <a href='file:///c%3A/Users/gutsc/anaconda3/envs/tf_udemy/lib/site-packages/tensorflow/python/training/tracking/base.py?line=529'>530</a>\u001b[0m   result \u001b[39m=\u001b[39m method(\u001b[39mself\u001b[39m, \u001b[39m*\u001b[39margs, \u001b[39m*\u001b[39m\u001b[39m*\u001b[39mkwargs)\n\u001b[0;32m    <a href='file:///c%3A/Users/gutsc/anaconda3/envs/tf_udemy/lib/site-packages/tensorflow/python/training/tracking/base.py?line=530'>531</a>\u001b[0m \u001b[39mfinally\u001b[39;00m:\n\u001b[0;32m    <a href='file:///c%3A/Users/gutsc/anaconda3/envs/tf_udemy/lib/site-packages/tensorflow/python/training/tracking/base.py?line=531'>532</a>\u001b[0m   \u001b[39mself\u001b[39m\u001b[39m.\u001b[39m_self_setattr_tracking \u001b[39m=\u001b[39m previous_value  \u001b[39m# pylint: disable=protected-access\u001b[39;00m\n",
      "File \u001b[1;32m~\\anaconda3\\envs\\tf_udemy\\lib\\site-packages\\keras\\engine\\functional.py:146\u001b[0m, in \u001b[0;36mFunctional.__init__\u001b[1;34m(self, inputs, outputs, name, trainable, **kwargs)\u001b[0m\n\u001b[0;32m    <a href='file:///c%3A/Users/gutsc/anaconda3/envs/tf_udemy/lib/site-packages/keras/engine/functional.py?line=142'>143</a>\u001b[0m   \u001b[39mif\u001b[39;00m \u001b[39mnot\u001b[39;00m \u001b[39mall\u001b[39m([functional_utils\u001b[39m.\u001b[39mis_input_keras_tensor(t)\n\u001b[0;32m    <a href='file:///c%3A/Users/gutsc/anaconda3/envs/tf_udemy/lib/site-packages/keras/engine/functional.py?line=143'>144</a>\u001b[0m               \u001b[39mfor\u001b[39;00m t \u001b[39min\u001b[39;00m tf\u001b[39m.\u001b[39mnest\u001b[39m.\u001b[39mflatten(inputs)]):\n\u001b[0;32m    <a href='file:///c%3A/Users/gutsc/anaconda3/envs/tf_udemy/lib/site-packages/keras/engine/functional.py?line=144'>145</a>\u001b[0m     inputs, outputs \u001b[39m=\u001b[39m functional_utils\u001b[39m.\u001b[39mclone_graph_nodes(inputs, outputs)\n\u001b[1;32m--> <a href='file:///c%3A/Users/gutsc/anaconda3/envs/tf_udemy/lib/site-packages/keras/engine/functional.py?line=145'>146</a>\u001b[0m \u001b[39mself\u001b[39;49m\u001b[39m.\u001b[39;49m_init_graph_network(inputs, outputs)\n",
      "File \u001b[1;32m~\\anaconda3\\envs\\tf_udemy\\lib\\site-packages\\tensorflow\\python\\training\\tracking\\base.py:530\u001b[0m, in \u001b[0;36mno_automatic_dependency_tracking.<locals>._method_wrapper\u001b[1;34m(self, *args, **kwargs)\u001b[0m\n\u001b[0;32m    <a href='file:///c%3A/Users/gutsc/anaconda3/envs/tf_udemy/lib/site-packages/tensorflow/python/training/tracking/base.py?line=527'>528</a>\u001b[0m \u001b[39mself\u001b[39m\u001b[39m.\u001b[39m_self_setattr_tracking \u001b[39m=\u001b[39m \u001b[39mFalse\u001b[39;00m  \u001b[39m# pylint: disable=protected-access\u001b[39;00m\n\u001b[0;32m    <a href='file:///c%3A/Users/gutsc/anaconda3/envs/tf_udemy/lib/site-packages/tensorflow/python/training/tracking/base.py?line=528'>529</a>\u001b[0m \u001b[39mtry\u001b[39;00m:\n\u001b[1;32m--> <a href='file:///c%3A/Users/gutsc/anaconda3/envs/tf_udemy/lib/site-packages/tensorflow/python/training/tracking/base.py?line=529'>530</a>\u001b[0m   result \u001b[39m=\u001b[39m method(\u001b[39mself\u001b[39m, \u001b[39m*\u001b[39margs, \u001b[39m*\u001b[39m\u001b[39m*\u001b[39mkwargs)\n\u001b[0;32m    <a href='file:///c%3A/Users/gutsc/anaconda3/envs/tf_udemy/lib/site-packages/tensorflow/python/training/tracking/base.py?line=530'>531</a>\u001b[0m \u001b[39mfinally\u001b[39;00m:\n\u001b[0;32m    <a href='file:///c%3A/Users/gutsc/anaconda3/envs/tf_udemy/lib/site-packages/tensorflow/python/training/tracking/base.py?line=531'>532</a>\u001b[0m   \u001b[39mself\u001b[39m\u001b[39m.\u001b[39m_self_setattr_tracking \u001b[39m=\u001b[39m previous_value  \u001b[39m# pylint: disable=protected-access\u001b[39;00m\n",
      "File \u001b[1;32m~\\anaconda3\\envs\\tf_udemy\\lib\\site-packages\\keras\\engine\\functional.py:183\u001b[0m, in \u001b[0;36mFunctional._init_graph_network\u001b[1;34m(self, inputs, outputs)\u001b[0m\n\u001b[0;32m    <a href='file:///c%3A/Users/gutsc/anaconda3/envs/tf_udemy/lib/site-packages/keras/engine/functional.py?line=179'>180</a>\u001b[0m   \u001b[39mif\u001b[39;00m \u001b[39many\u001b[39m(\u001b[39mnot\u001b[39;00m \u001b[39mhasattr\u001b[39m(tensor, \u001b[39m'\u001b[39m\u001b[39m_keras_history\u001b[39m\u001b[39m'\u001b[39m) \u001b[39mfor\u001b[39;00m tensor \u001b[39min\u001b[39;00m \u001b[39mself\u001b[39m\u001b[39m.\u001b[39moutputs):\n\u001b[0;32m    <a href='file:///c%3A/Users/gutsc/anaconda3/envs/tf_udemy/lib/site-packages/keras/engine/functional.py?line=180'>181</a>\u001b[0m     base_layer_utils\u001b[39m.\u001b[39mcreate_keras_history(\u001b[39mself\u001b[39m\u001b[39m.\u001b[39m_nested_outputs)\n\u001b[1;32m--> <a href='file:///c%3A/Users/gutsc/anaconda3/envs/tf_udemy/lib/site-packages/keras/engine/functional.py?line=182'>183</a>\u001b[0m \u001b[39mself\u001b[39;49m\u001b[39m.\u001b[39;49m_validate_graph_inputs_and_outputs()\n\u001b[0;32m    <a href='file:///c%3A/Users/gutsc/anaconda3/envs/tf_udemy/lib/site-packages/keras/engine/functional.py?line=184'>185</a>\u001b[0m \u001b[39m# A Network does not create weights of its own, thus it is already\u001b[39;00m\n\u001b[0;32m    <a href='file:///c%3A/Users/gutsc/anaconda3/envs/tf_udemy/lib/site-packages/keras/engine/functional.py?line=185'>186</a>\u001b[0m \u001b[39m# built.\u001b[39;00m\n\u001b[0;32m    <a href='file:///c%3A/Users/gutsc/anaconda3/envs/tf_udemy/lib/site-packages/keras/engine/functional.py?line=186'>187</a>\u001b[0m \u001b[39mself\u001b[39m\u001b[39m.\u001b[39mbuilt \u001b[39m=\u001b[39m \u001b[39mTrue\u001b[39;00m\n",
      "File \u001b[1;32m~\\anaconda3\\envs\\tf_udemy\\lib\\site-packages\\keras\\engine\\functional.py:778\u001b[0m, in \u001b[0;36mFunctional._validate_graph_inputs_and_outputs\u001b[1;34m(self)\u001b[0m\n\u001b[0;32m    <a href='file:///c%3A/Users/gutsc/anaconda3/envs/tf_udemy/lib/site-packages/keras/engine/functional.py?line=775'>776</a>\u001b[0m \u001b[39mif\u001b[39;00m \u001b[39mnot\u001b[39;00m \u001b[39mhasattr\u001b[39m(x, \u001b[39m'\u001b[39m\u001b[39m_keras_history\u001b[39m\u001b[39m'\u001b[39m):\n\u001b[0;32m    <a href='file:///c%3A/Users/gutsc/anaconda3/envs/tf_udemy/lib/site-packages/keras/engine/functional.py?line=776'>777</a>\u001b[0m   cls_name \u001b[39m=\u001b[39m \u001b[39mself\u001b[39m\u001b[39m.\u001b[39m\u001b[39m__class__\u001b[39m\u001b[39m.\u001b[39m\u001b[39m__name__\u001b[39m\n\u001b[1;32m--> <a href='file:///c%3A/Users/gutsc/anaconda3/envs/tf_udemy/lib/site-packages/keras/engine/functional.py?line=777'>778</a>\u001b[0m   \u001b[39mraise\u001b[39;00m \u001b[39mValueError\u001b[39;00m(\u001b[39mf\u001b[39m\u001b[39m'\u001b[39m\u001b[39mOutput tensors of a \u001b[39m\u001b[39m{\u001b[39;00mcls_name\u001b[39m}\u001b[39;00m\u001b[39m model must be \u001b[39m\u001b[39m'\u001b[39m\n\u001b[0;32m    <a href='file:///c%3A/Users/gutsc/anaconda3/envs/tf_udemy/lib/site-packages/keras/engine/functional.py?line=778'>779</a>\u001b[0m                    \u001b[39m'\u001b[39m\u001b[39mthe output of a TensorFlow `Layer` \u001b[39m\u001b[39m'\u001b[39m\n\u001b[0;32m    <a href='file:///c%3A/Users/gutsc/anaconda3/envs/tf_udemy/lib/site-packages/keras/engine/functional.py?line=779'>780</a>\u001b[0m                    \u001b[39mf\u001b[39m\u001b[39m'\u001b[39m\u001b[39m(thus holding past layer metadata). Found: \u001b[39m\u001b[39m{\u001b[39;00mx\u001b[39m}\u001b[39;00m\u001b[39m'\u001b[39m)\n",
      "\u001b[1;31mValueError\u001b[0m: Output tensors of a Functional model must be the output of a TensorFlow `Layer` (thus holding past layer metadata). Found: <keras.layers.core.activation.Activation object at 0x000001A0AC1B7430>"
     ]
    }
   ],
   "source": [
    "vocab_size = 20_000\n",
    "sequence_length = 80\n",
    "imdb_data = IMDB(vocab_size, sequence_length)\n",
    "train_dataset = imdb_data.get_train_set()\n",
    "val_dataset = imdb_data.get_val_set()\n",
    "test_dataset = imdb_data.get_test_set()\n",
    "input_shape = (sequence_length, 1)\n",
    "num_classes = imdb_data.num_classes\n",
    "\n",
    "batch_size = 512\n",
    "epochs = 10\n",
    "\n",
    "model = create_rnn_model(input_shape, num_classes)\n",
    "model.fit(x=train_dataset, verbose=1, batch_size=batch_size, epochs=epochs, validation_data=val_dataset)\n",
    "score = model.evaluate(x=test_dataset, verbose=0, batch_size=batch_size)\n",
    "print(f\"Score: {score}\")"
   ]
  }
 ],
 "metadata": {
  "interpreter": {
   "hash": "683035455952fa0c5c07396da2eac07ae1d76897e4164c7dcbe8556e60afc848"
  },
  "kernelspec": {
   "display_name": "Python 3.9.7 ('udemy_tensorflow')",
   "language": "python",
   "name": "python3"
  },
  "language_info": {
   "codemirror_mode": {
    "name": "ipython",
    "version": 3
   },
   "file_extension": ".py",
   "mimetype": "text/x-python",
   "name": "python",
   "nbconvert_exporter": "python",
   "pygments_lexer": "ipython3",
   "version": "3.9.12"
  },
  "orig_nbformat": 4
 },
 "nbformat": 4,
 "nbformat_minor": 2
}
