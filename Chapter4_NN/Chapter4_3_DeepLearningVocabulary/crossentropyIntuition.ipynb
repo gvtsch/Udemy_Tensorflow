{
 "cells": [
  {
   "cell_type": "code",
   "execution_count": 9,
   "metadata": {},
   "outputs": [],
   "source": [
    "from typing import Tuple\n",
    "import numpy as np"
   ]
  },
  {
   "cell_type": "code",
   "execution_count": 10,
   "metadata": {},
   "outputs": [],
   "source": [
    "def get_dataset() -> Tuple[np.ndarray, np.ndarray]:\n",
    "    x = np.array([[0, 0], [0, 1], [1, 0], [1, 1]])\n",
    "    y = np.array([[0], [1], [1], [1]])\n",
    "    return x, y"
   ]
  },
  {
   "cell_type": "code",
   "execution_count": 11,
   "metadata": {},
   "outputs": [],
   "source": [
    "def to_categorical(y: np.ndarray, num_classes: int) -> np.ndarray:\n",
    "    y_categorical = np.zeros(shape=(len(y), num_classes))\n",
    "    for i, yi in enumerate(y):\n",
    "        y_categorical[i, yi] = 1\n",
    "    return y_categorical"
   ]
  },
  {
   "cell_type": "code",
   "execution_count": 12,
   "metadata": {},
   "outputs": [],
   "source": [
    "def softmax(y_pred: np.ndarray) -> np.ndarray:\n",
    "    probabilities = np.zeros_like(y_pred)\n",
    "    for i in range(len(y_pred)):\n",
    "        exps = np.exp(y_pred[i])\n",
    "        probabilities[i] = exps / np.sum(exps)\n",
    "    return probabilities"
   ]
  },
  {
   "cell_type": "code",
   "execution_count": 13,
   "metadata": {},
   "outputs": [],
   "source": [
    "def cross_entropy(y_true: np.ndarray, y_pred: np.ndarray) -> float:\n",
    "    num_samples = y_true.shape[0]\n",
    "    loss = -np.sum(y_true * np.log(y_pred) / num_samples)\n",
    "    return loss"
   ]
  },
  {
   "cell_type": "code",
   "execution_count": 18,
   "metadata": {},
   "outputs": [
    {
     "name": "stdout",
     "output_type": "stream",
     "text": [
      "[[0]\n",
      " [1]\n",
      " [1]\n",
      " [1]]\n",
      "[[1. 0.]\n",
      " [0. 1.]\n",
      " [0. 1.]\n",
      " [0. 1.]]\n",
      "[[9.99999248e-01 7.52397733e-07]\n",
      " [6.77241496e-05 9.99932276e-01]\n",
      " [2.18812709e-02 9.78118729e-01]\n",
      " [5.21535631e-02 9.47846437e-01]]\n",
      "0.01893886787846552\n"
     ]
    }
   ],
   "source": [
    "if __name__=='__main__':\n",
    "    x, y = get_dataset()\n",
    "    y_true = to_categorical(y, num_classes = 2)\n",
    "    print(y)\n",
    "    print(y_categorical)\n",
    "    \n",
    "    y_logits = np.array([[10.8, -3.3], [12.2, 21.8], [1.1, 4.9], [1.05, 3.95]])\n",
    "\n",
    "    y_pred = softmax(y_logits)\n",
    "    print(y_pred)\n",
    "\n",
    "    loss = cross_entropy(y_true, y_pred)\n",
    "    print(loss)"
   ]
  }
 ],
 "metadata": {
  "interpreter": {
   "hash": "683035455952fa0c5c07396da2eac07ae1d76897e4164c7dcbe8556e60afc848"
  },
  "kernelspec": {
   "display_name": "Python 3.9.7 ('udemy_tensorflow')",
   "language": "python",
   "name": "python3"
  },
  "language_info": {
   "codemirror_mode": {
    "name": "ipython",
    "version": 3
   },
   "file_extension": ".py",
   "mimetype": "text/x-python",
   "name": "python",
   "nbconvert_exporter": "python",
   "pygments_lexer": "ipython3",
   "version": "3.9.7"
  },
  "orig_nbformat": 4
 },
 "nbformat": 4,
 "nbformat_minor": 2
}
