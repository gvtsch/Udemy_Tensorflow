{
 "cells": [
  {
   "cell_type": "code",
   "execution_count": 6,
   "metadata": {},
   "outputs": [],
   "source": [
    "import matplotlib.pyplot as plt\n",
    "import numpy as np\n",
    "from matplotlib.ticker import FormatStrFormatter, LinearLocator\n",
    "from mpl_toolkits.mplot3d.axes3d import Axes3D\n",
    "from matplotlib import cm"
   ]
  },
  {
   "cell_type": "code",
   "execution_count": 7,
   "metadata": {},
   "outputs": [],
   "source": [
    "# Rosenbrock-Funktion\n",
    "def f(x0, x1):\n",
    "    return 100 * (x0**2 - x1)**2 + (x0 - 1)**2\n",
    "\n",
    "# Partielle Ableitungen der Rosenbrock-Funktion\n",
    "def f_prime_x0(x0, x1):\n",
    "    return 2 * (200 * x0 * (x0**2 - x1) + x0 - 1)\n",
    "def f_prime_x1(x0, x1):\n",
    "    return -200 * (x0**2 - x1)\n",
    "\n",
    "def plot_rosenbrock(x_start, gradient_steps = None):\n",
    "    fig = plt.figure(figsize=(12, 8))\n",
    "    ax = Axes3D(fig)\n",
    "\n",
    "    s = 0.3\n",
    "    X = np.arange(-2, 2.+s, s)\n",
    "    Y = np.arange(-2, 3.+s, s)\n",
    "\n",
    "    # Mesh\n",
    "    X, Y = np.meshgrid(X, Y)\n",
    "\n",
    "    # Rosenbrock\n",
    "    Z = f(X, Y)\n",
    "\n",
    "    surf = ax.plot_surface(X, Y, Z, rstride=1, cstride=1, linewidth=0, alpha=0.8, cmap=cm.coolwarm)\n",
    "\n",
    "    # Global minimum\n",
    "    ax.scatter(1, 1, f(1, 1), color = 'red', marker = '*', s=200)\n",
    "\n",
    "    # Startingpoint\n",
    "    x0, x1 = x_start\n",
    "    ax.scatter(x0, x1, f(x0, x1), color='green', marker='o', s=200)\n",
    "\n",
    "    # EPS offset for better visualization\n",
    "    eps = 50\n",
    "\n",
    "    if gradient_steps:\n",
    "        for (x0, x1) in gradient_steps:\n",
    "            ax.scatter(x0, x1, f(x0, x1) + eps, color='green', marker='o', s=50)\n",
    "\n",
    "    ax.set_xlabel('x')\n",
    "    ax.set_ylabel('y')\n",
    "    ax.set_zlabel('z')\n",
    "    ax.zaxis.set_major_locator(LinearLocator(10))\n",
    "    ax.zaxis.set_major_formatter(FormatStrFormatter(\"%.02f\"))\n",
    "    fig.colorbar(surf, shrink=0.5, aspect=5)\n",
    "    plt.show()"
   ]
  }
 ],
 "metadata": {
  "interpreter": {
   "hash": "683035455952fa0c5c07396da2eac07ae1d76897e4164c7dcbe8556e60afc848"
  },
  "kernelspec": {
   "display_name": "Python 3.9.7 ('udemy_tensorflow')",
   "language": "python",
   "name": "python3"
  },
  "language_info": {
   "codemirror_mode": {
    "name": "ipython",
    "version": 3
   },
   "file_extension": ".py",
   "mimetype": "text/x-python",
   "name": "python",
   "nbconvert_exporter": "python",
   "pygments_lexer": "ipython3",
   "version": "3.9.7"
  },
  "orig_nbformat": 4
 },
 "nbformat": 4,
 "nbformat_minor": 2
}
