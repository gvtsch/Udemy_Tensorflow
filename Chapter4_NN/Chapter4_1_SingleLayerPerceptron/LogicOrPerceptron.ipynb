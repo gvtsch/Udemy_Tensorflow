{
 "cells": [
  {
   "cell_type": "markdown",
   "metadata": {},
   "source": [
    "## Erlernen des Logischen Oder Perzeptrons"
   ]
  },
  {
   "cell_type": "code",
   "execution_count": 21,
   "metadata": {},
   "outputs": [],
   "source": [
    "import numpy as np\n",
    "from typing import Tuple"
   ]
  },
  {
   "cell_type": "code",
   "execution_count": 22,
   "metadata": {},
   "outputs": [],
   "source": [
    "def get_dataset() -> Tuple[np.ndarray, np.ndarray]:\n",
    "    x = np.array([[0, 0], [0, 1], [1, 0], [1, 1]])\n",
    "    y = np.array([[0], [1], [1], [1]])\n",
    "    return x, y"
   ]
  },
  {
   "cell_type": "code",
   "execution_count": 23,
   "metadata": {},
   "outputs": [],
   "source": [
    "def accuracy_score(y_true: np.ndarray, y_pred: np.ndarray) -> float:\n",
    "    N = y_true.shape[0]\n",
    "    accuracy = np.sum(y_true == y_pred) / N\n",
    "    return accuracy"
   ]
  },
  {
   "cell_type": "code",
   "execution_count": 24,
   "metadata": {},
   "outputs": [],
   "source": [
    "def step_function(input_signal: np.ndarray) -> np.ndarray:\n",
    "    output_signal = (input_signal > 0.0).astype(np.int_)\n",
    "    return output_signal"
   ]
  },
  {
   "cell_type": "code",
   "execution_count": 25,
   "metadata": {},
   "outputs": [],
   "source": [
    "class Perceptron:\n",
    "    def __init__(self, learning_rate: float, input_dim: int) -> None:\n",
    "        self.learning_rate = learning_rate\n",
    "        self.input_dim = input_dim\n",
    "        self.w = np.random.uniform(-1, 1, size=(self.input_dim, 1))\n",
    "\n",
    "    def _update_weights(self, x: np.ndarray, y: np.ndarray, y_pred: np.ndarray) -> None:\n",
    "        error = y - y_pred\n",
    "        delta = error * x\n",
    "        for delta_i in delta:\n",
    "            self.w = self.w + self.learning_rate * delta_i.reshape(-1, 1)\n",
    "\n",
    "    def train(self, x: np.ndarray, y: np.ndarray, epochs: int = 1) -> None:\n",
    "        for epoch in range(1, epochs + 1):\n",
    "            y_pred = self.predict(x)\n",
    "            self._update_weights(x, y, y_pred)\n",
    "            accuracy = accuracy_score(y, y_pred)\n",
    "            print(f\"Epoch: {epoch} Accuracy: {accuracy}\")\n",
    "\n",
    "    def predict(self, x: np.ndarray) -> np.ndarray:\n",
    "        input_signal = np.dot(x, self.w)\n",
    "        output_signal = step_function(input_signal)\n",
    "        return output_signal\n",
    "\n",
    "    def evaluate(self, x: np.ndarray, y: np.ndarray) -> float:\n",
    "        y_pred = self.predict(x)\n",
    "        return accuracy_score(y, y_pred)"
   ]
  },
  {
   "cell_type": "code",
   "execution_count": 26,
   "metadata": {},
   "outputs": [
    {
     "name": "stdout",
     "output_type": "stream",
     "text": [
      "Epoch: 1 Accuracy: 0.25\n",
      "Epoch: 2 Accuracy: 1.0\n",
      "Epoch: 3 Accuracy: 1.0\n",
      "Epoch: 4 Accuracy: 1.0\n",
      "Epoch: 5 Accuracy: 1.0\n",
      "Epoch: 6 Accuracy: 1.0\n",
      "Epoch: 7 Accuracy: 1.0\n",
      "Epoch: 8 Accuracy: 1.0\n",
      "Epoch: 9 Accuracy: 1.0\n",
      "Epoch: 10 Accuracy: 1.0\n"
     ]
    }
   ],
   "source": [
    "if __name__=='__main__': # Nachahmung eines Haupteinstiegspunkt, ist aber in Pythin nicht notwendig\n",
    "    x, y = get_dataset()\n",
    "    input_dim = x.shape[1]\n",
    "    learning_rate = 0.5\n",
    "    p = Perceptron(learning_rate, input_dim)\n",
    "    p.train(x, y, epochs = 10)\n"
   ]
  }
 ],
 "metadata": {
  "interpreter": {
   "hash": "683035455952fa0c5c07396da2eac07ae1d76897e4164c7dcbe8556e60afc848"
  },
  "kernelspec": {
   "display_name": "Python 3.9.7 ('udemy_tensorflow')",
   "language": "python",
   "name": "python3"
  },
  "language_info": {
   "codemirror_mode": {
    "name": "ipython",
    "version": 3
   },
   "file_extension": ".py",
   "mimetype": "text/x-python",
   "name": "python",
   "nbconvert_exporter": "python",
   "pygments_lexer": "ipython3",
   "version": "3.9.7"
  },
  "orig_nbformat": 4
 },
 "nbformat": 4,
 "nbformat_minor": 2
}
